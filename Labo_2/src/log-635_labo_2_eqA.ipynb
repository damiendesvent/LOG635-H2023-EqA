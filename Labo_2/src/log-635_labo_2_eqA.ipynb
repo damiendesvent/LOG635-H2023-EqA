{
 "cells": [
  {
   "attachments": {},
   "cell_type": "markdown",
   "id": "8649f7d8",
   "metadata": {},
   "source": [
    "# Pré-traitement de nos images"
   ]
  },
  {
   "attachments": {},
   "cell_type": "markdown",
   "id": "c9850356",
   "metadata": {},
   "source": [
    "Le code ci-dessous permet de réaliser un pré-traitement en supposant l'emplacement de la forme dans l'image. L'utilisateur appuie sur la touche Espace si l'emplacement prédit est correct ou sinon il trace lui-même l'emplacement prédit.  \n",
    "  \n",
    "Un dossier d'erreur est créé avec les images qui n'ont pas de contour prédits, nous les avons annoté à la main mais nous aurions pu nous contenter des images prédites qui, même si elles peuvent comporter des erreurs, sont plus rapides à nettoyer car elles ont majoritairement un contour correctement prédit."
   ]
  },
  {
   "cell_type": "code",
   "execution_count": null,
   "id": "fcd8a166",
   "metadata": {},
   "outputs": [],
   "source": [
    "import cv2\n",
    "import os\n",
    "\n",
    "current_dir = './Labo_2/'\n",
    "data_dir = current_dir + 'data/'\n",
    "export_folder =  current_dir + 'output/'\n",
    "clean_data_folder = export_folder + 'clean/'\n",
    "error_data_folder = export_folder + 'error/'\n",
    "\n",
    "good_prediction = 0\n",
    "bad_prediction = 0\n",
    "\n",
    "for i in os.listdir(data_dir) :\n",
    "    for j in os.listdir(data_dir + str(i)) :\n",
    "        index = 0\n",
    "        for k in os.listdir(data_dir + str(i) + '/' + str(j)) : # on boucle sur toutes les images du jeu de données\n",
    "            if not os.path.isfile(clean_data_folder + str(i) + '/' + str(j) + '/' + str(k)): \n",
    "                index += 1\n",
    "                if index < 10000 :\n",
    "                    image = cv2.imread(data_dir + str(i) + '/' + str(j) + '/' + str(k))\n",
    "                    img_gray = cv2.cvtColor(image, cv2.COLOR_BGR2GRAY) # on passe l'image en niveau de gris\n",
    "                    img_blur = cv2.GaussianBlur(img_gray, (9,9), 0) # flou pour aider à la distinction des contours\n",
    "                    edged = cv2.Canny(img_blur, 30,120) # Canny fonctionne comme un double threshold\n",
    "\n",
    "                    # on cherche des contours sur les images\n",
    "                    contours, hierarchy = cv2.findContours(edged, cv2.RETR_EXTERNAL, cv2.CHAIN_APPROX_SIMPLE)\n",
    "\n",
    "                    img_output = img_gray\n",
    "                    img_view = image.copy()\n",
    "\n",
    "                    x,y,w,h = 0,0,0,0\n",
    "\n",
    "                    # on trace les contours qui ont une aire acceptable\n",
    "                    for c in contours :\n",
    "                        area = cv2.contourArea(c)\n",
    "                        if area > 400 :\n",
    "                            x,y,w,h = cv2.boundingRect(c)\n",
    "                            cv2.rectangle(img_view, (x, y), (x + w, y + h), (36, 255, 12), 2) #crée une bbox verte\n",
    "\n",
    "                    os.makedirs(clean_data_folder + str(i) + '/' + str(j) + '/', exist_ok=True)\n",
    "                    os.makedirs(error_data_folder + str(i) + '/' + str(j) + '/', exist_ok=True)\n",
    "\n",
    "                    print(str(k))\n",
    "                    rect = cv2.selectROI(img=img_view, windowName=str(k))\n",
    "                    cv2.destroyAllWindows()\n",
    "                    if rect == (0,0,0,0) :\n",
    "                        img_output = image[y:y+h,x:x+w]\n",
    "                        \n",
    "                    else :\n",
    "                        img_output = image[int(rect[1]):int(rect[1]+rect[3]), int(rect[0]):int(rect[0]+rect[2])]\n",
    "\n",
    "                    # on redimensionne les images en 40x40 pour que la détection soit plus efficace\n",
    "                    img_output = cv2.resize(img_output,dsize=(40,40), interpolation=cv2.INTER_AREA)\n",
    "                    cv2.imwrite(clean_data_folder + str(i) + '/' + str(j) + '/' + str(k), img_output)\n",
    "                    good_prediction += 1"
   ]
  },
  {
   "attachments": {},
   "cell_type": "markdown",
   "id": "2c0d7540",
   "metadata": {},
   "source": [
    "# Augmentation des données"
   ]
  },
  {
   "attachments": {},
   "cell_type": "markdown",
   "id": "e1c4fee0",
   "metadata": {},
   "source": [
    "On crée une fonction qui va générer 8 images transformées pour une seule image initiale :"
   ]
  },
  {
   "cell_type": "code",
   "execution_count": 1,
   "id": "433910c2",
   "metadata": {},
   "outputs": [],
   "source": [
    "import cv2\n",
    "\n",
    "# returns 8 tuples (name_suffix, image)\n",
    "def generate_variations(image):\n",
    "    return (\n",
    "        ('', image),\n",
    "        ('_90', cv2.rotate(image, cv2.ROTATE_90_CLOCKWISE)),\n",
    "        ('_180', cv2.rotate(image, cv2.ROTATE_180)),\n",
    "        ('_270', cv2.rotate(image, cv2.ROTATE_90_COUNTERCLOCKWISE)),\n",
    "        ('_flip', cv2.flip(image, 0)),\n",
    "        ('_flip_90', cv2.rotate(cv2.flip(image, 0), cv2.ROTATE_90_CLOCKWISE)),\n",
    "        ('_flip_180', cv2.rotate(cv2.flip(image, 0), cv2.ROTATE_180)),\n",
    "        ('_flip_270', cv2.rotate(cv2.flip(image, 0), cv2.ROTATE_90_COUNTERCLOCKWISE)),\n",
    "    )"
   ]
  },
  {
   "attachments": {},
   "cell_type": "markdown",
   "id": "60e47649",
   "metadata": {},
   "source": [
    "On applique la fonction d'augmentation sur nos images :"
   ]
  },
  {
   "cell_type": "code",
   "execution_count": 5,
   "id": "9ecc0908",
   "metadata": {},
   "outputs": [
    {
     "name": "stdout",
     "output_type": "stream",
     "text": [
      "2439 images augmentées\n"
     ]
    }
   ],
   "source": [
    "import os\n",
    "\n",
    "current_dir = '../'\n",
    "data_dir = current_dir + 'output/clean/'\n",
    "augmented_data_dir = current_dir + 'output/augmented/'\n",
    "\n",
    "indice = 0\n",
    "for i in os.listdir(data_dir) :\n",
    "    for j in os.listdir(data_dir + str(i)) :\n",
    "        for k in os.listdir(data_dir + str(i) + '/' + str(j)) :\n",
    "            if not os.path.isfile(augmented_data_dir + str(i) + '/' + str(j) + '/' + str(k)) :\n",
    "                indice += 1\n",
    "                image = cv2.imread(data_dir + str(i) + '/' + str(j) + '/' + str(k))\n",
    "                img_gray = cv2.cvtColor(image, cv2.COLOR_BGR2GRAY)\n",
    "                img_blur = cv2.GaussianBlur(img_gray, (3,3), 0)\n",
    "                \n",
    "                os.makedirs(augmented_data_dir + str(i) + '/' + str(j) + '/', exist_ok=True)\n",
    "\n",
    "                for (sufix,img_output) in generate_variations(img_blur) :\n",
    "                    cv2.imwrite(augmented_data_dir + str(i) + '/' + str(j) + '/' + str(k).split('.')[0] + sufix + '.jpg', img_output)\n",
    "                    \n",
    "print('{} images augmentées'.format(indice))"
   ]
  },
  {
   "attachments": {},
   "cell_type": "markdown",
   "id": "99b8d984",
   "metadata": {},
   "source": [
    "# Primitives"
   ]
  },
  {
   "cell_type": "code",
   "execution_count": 1,
   "id": "2c0ea20a",
   "metadata": {},
   "outputs": [],
   "source": [
    "# Juneau tu peux placer ton code ici pour les graphiques des primitives + ajouter les explications au markdown"
   ]
  },
  {
   "cell_type": "code",
   "execution_count": 1,
   "id": "1050578e",
   "metadata": {},
   "outputs": [
    {
     "name": "stderr",
     "output_type": "stream",
     "text": [
      "\n",
      "[notice] A new release of pip is available: 23.0 -> 23.0.1\n",
      "[notice] To update, run: python.exe -m pip install --upgrade pip\n"
     ]
    },
    {
     "name": "stdout",
     "output_type": "stream",
     "text": [
      "Defaulting to user installation because normal site-packages is not writeable\n",
      "Requirement already satisfied: scikit-image in c:\\users\\damie\\appdata\\roaming\\python\\python310\\site-packages (0.20.0)\n",
      "Requirement already satisfied: numpy>=1.21.1 in c:\\users\\damie\\appdata\\roaming\\python\\python310\\site-packages (from scikit-image) (1.23.4)\n",
      "Requirement already satisfied: networkx>=2.8 in c:\\users\\damie\\appdata\\roaming\\python\\python310\\site-packages (from scikit-image) (3.0)\n",
      "Requirement already satisfied: packaging>=20.0 in c:\\users\\damie\\appdata\\roaming\\python\\python310\\site-packages (from scikit-image) (23.0)\n",
      "Requirement already satisfied: lazy_loader>=0.1 in c:\\users\\damie\\appdata\\roaming\\python\\python310\\site-packages (from scikit-image) (0.1)\n",
      "Requirement already satisfied: scipy>=1.8 in c:\\users\\damie\\appdata\\roaming\\python\\python310\\site-packages (from scikit-image) (1.9.2)\n",
      "Requirement already satisfied: tifffile>=2019.7.26 in c:\\users\\damie\\appdata\\roaming\\python\\python310\\site-packages (from scikit-image) (2023.2.28)\n",
      "Requirement already satisfied: PyWavelets>=1.1.1 in c:\\users\\damie\\appdata\\roaming\\python\\python310\\site-packages (from scikit-image) (1.4.1)\n",
      "Requirement already satisfied: pillow>=9.0.1 in c:\\users\\damie\\appdata\\roaming\\python\\python310\\site-packages (from scikit-image) (9.2.0)\n",
      "Requirement already satisfied: imageio>=2.4.1 in c:\\users\\damie\\appdata\\roaming\\python\\python310\\site-packages (from scikit-image) (2.26.0)\n",
      "Note: you may need to restart the kernel to use updated packages.\n"
     ]
    }
   ],
   "source": [
    "%pip install scikit-image\n",
    "\n",
    "from skimage.io import imshow, imread\n",
    "from skimage.color import rgb2gray\n",
    "from skimage.filters import threshold_otsu\n",
    "from skimage.morphology import closing\n",
    "from skimage.measure import label, regionprops, regionprops_table\n",
    "import pandas as pd\n",
    "import numpy as np"
   ]
  },
  {
   "cell_type": "code",
   "execution_count": 2,
   "id": "091dbdb9",
   "metadata": {},
   "outputs": [],
   "source": [
    "def solo_features(image):\n",
    "    df = pd.DataFrame()\n",
    "    image = imread(image)\n",
    "    if len(image.shape) == 3 : image = rgb2gray(imread(image))\n",
    "    binary = image < threshold_otsu(image)\n",
    "    binary = closing(binary)\n",
    "    label_img = label(binary)\n",
    "\n",
    "    table = pd.DataFrame(regionprops_table(label_img, image,\n",
    "                            ['convex_area', 'area', 'eccentricity',\n",
    "                            'extent', 'inertia_tensor',                         \n",
    "                            'major_axis_length', 'minor_axis_length',\n",
    "                            'perimeter', 'solidity', 'image',\n",
    "                            'orientation', 'moments_central',\n",
    "                            'moments_hu', 'euler_number',\n",
    "                            'equivalent_diameter',\n",
    "                            'mean_intensity', 'bbox']))\n",
    "    table['perimeter_area_ratio'] = table['perimeter']/table['area']\n",
    "    real_images = []\n",
    "    std = []\n",
    "    mean = []\n",
    "    percent25 = []\n",
    "    percent75 = []\n",
    "\n",
    "    for prop in regionprops(label_img): \n",
    "        min_row, min_col, max_row, max_col = prop.bbox\n",
    "        img = image[min_row:max_row,min_col:max_col]\n",
    "        real_images += [img]\n",
    "        mean += [np.mean(img)]\n",
    "        std += [np.std(img)]\n",
    "        percent25 += [np.percentile(img, 25)] \n",
    "        percent75 += [np.percentile(img, 75)]\n",
    "\n",
    "    table['real_images'] = real_images\n",
    "    table['mean_intensity'] = mean\n",
    "    table['std_intensity'] = std\n",
    "    table['25th Percentile'] = mean\n",
    "    table['75th Percentile'] = std\n",
    "    table['iqr'] = table['75th Percentile'] - table['25th Percentile']\n",
    "    table['label'] = 'img'\n",
    "    df = pd.concat([df, table], axis=0)\n",
    "    df.head()\n",
    "\n",
    "    #features\n",
    "    X = df[['area','extent', 'eccentricity','perimeter_area_ratio','std_intensity', 'mean_intensity','perimeter', 'solidity', 'convex_area', 'iqr', 'euler_number', 'equivalent_diameter', 'orientation','inertia_tensor-0-0',\n",
    "            'moments_central-0-0','moments_central-0-2','moments_central-2-0','moments_central-2-2','moments_hu-2','moments_hu-6']]\n",
    "\n",
    "    count = len(X.index)\n",
    "    features = X.mean().to_dict()\n",
    "    features['nb_contours'] = count\n",
    "    \n",
    "    return features"
   ]
  },
  {
   "cell_type": "code",
   "execution_count": 3,
   "id": "c4197e75",
   "metadata": {},
   "outputs": [
    {
     "data": {
      "text/plain": [
       "{'area': 286.0,\n",
       " 'extent': 0.52125,\n",
       " 'eccentricity': 0.6378512682874985,\n",
       " 'perimeter_area_ratio': 0.7124159977970757,\n",
       " 'std_intensity': 48.53417283165064,\n",
       " 'mean_intensity': 90.42104166666667,\n",
       " 'perimeter': 131.43418707023054,\n",
       " 'solidity': 0.7589981242414212,\n",
       " 'convex_area': 546.6666666666666,\n",
       " 'iqr': -41.88686883501602,\n",
       " 'euler_number': 0.6666666666666666,\n",
       " 'equivalent_diameter': 14.079342887286481,\n",
       " 'orientation': 0.5696239780215264,\n",
       " 'inertia_tensor-0-0': 51.77252316411978,\n",
       " 'moments_central-0-0': 286.0,\n",
       " 'moments_central-0-2': 40706.43078827783,\n",
       " 'moments_central-2-0': 42907.69670835736,\n",
       " 'moments_central-2-2': 6243252.918054325,\n",
       " 'moments_hu-2': 0.0002487461667192578,\n",
       " 'moments_hu-6': -3.7638095293295405e-08,\n",
       " 'nb_contours': 3}"
      ]
     },
     "execution_count": 3,
     "metadata": {},
     "output_type": "execute_result"
    }
   ],
   "source": [
    "solo_features('../output/augmented/Cercles/Cercle5/1_Cercle5_90.jpg')"
   ]
  },
  {
   "attachments": {},
   "cell_type": "markdown",
   "id": "429515fc",
   "metadata": {},
   "source": [
    "***"
   ]
  },
  {
   "attachments": {},
   "cell_type": "markdown",
   "id": "3a224e94",
   "metadata": {},
   "source": [
    "# Notre réseau de neurones"
   ]
  },
  {
   "cell_type": "code",
   "execution_count": 2,
   "id": "266c71e5",
   "metadata": {},
   "outputs": [],
   "source": [
    "# Victor, tu peux mettre ici le code pour ton réseau de neurones, avec les explications et la justification du choix des hyper-paramètres"
   ]
  },
  {
   "attachments": {},
   "cell_type": "markdown",
   "id": "5137d733",
   "metadata": {},
   "source": [
    "***"
   ]
  },
  {
   "attachments": {},
   "cell_type": "markdown",
   "id": "74935975",
   "metadata": {},
   "source": [
    "# Comparaison des modèles"
   ]
  },
  {
   "cell_type": "code",
   "execution_count": 3,
   "id": "f5a5cce7",
   "metadata": {},
   "outputs": [
    {
     "name": "stdout",
     "output_type": "stream",
     "text": [
      "Defaulting to user installation because normal site-packages is not writeableNote: you may need to restart the kernel to use updated packages.\n"
     ]
    },
    {
     "name": "stderr",
     "output_type": "stream",
     "text": [
      "\n",
      "[notice] A new release of pip is available: 23.0 -> 23.0.1\n",
      "[notice] To update, run: python.exe -m pip install --upgrade pip\n"
     ]
    },
    {
     "name": "stdout",
     "output_type": "stream",
     "text": [
      "\n",
      "Requirement already satisfied: scikit-learn in c:\\users\\damie\\appdata\\roaming\\python\\python310\\site-packages (1.1.2)\n",
      "Requirement already satisfied: scipy>=1.3.2 in c:\\users\\damie\\appdata\\roaming\\python\\python310\\site-packages (from scikit-learn) (1.9.2)\n",
      "Requirement already satisfied: threadpoolctl>=2.0.0 in c:\\users\\damie\\appdata\\roaming\\python\\python310\\site-packages (from scikit-learn) (3.1.0)\n",
      "Requirement already satisfied: joblib>=1.0.0 in c:\\users\\damie\\appdata\\roaming\\python\\python310\\site-packages (from scikit-learn) (1.2.0)\n",
      "Requirement already satisfied: numpy>=1.17.3 in c:\\users\\damie\\appdata\\roaming\\python\\python310\\site-packages (from scikit-learn) (1.23.4)\n"
     ]
    }
   ],
   "source": [
    "%pip install scikit-learn"
   ]
  },
  {
   "cell_type": "code",
   "execution_count": 4,
   "id": "b2e22060",
   "metadata": {},
   "outputs": [],
   "source": [
    "%matplotlib inline\n",
    "import matplotlib.pyplot as plt\n",
    "from sklearn.model_selection import train_test_split\n",
    "from sklearn.neighbors import KNeighborsClassifier\n",
    "from sklearn.preprocessing import MinMaxScaler\n",
    "from sklearn import metrics\n",
    "#from sklearn.metrics import roc_curve, auc\n",
    "import numpy as np\n",
    "import os\n",
    "from PIL import Image\n",
    "import pickle\n",
    "from sklearn.metrics import f1_score, precision_score, recall_score, auc, \\\n",
    "    roc_curve, confusion_matrix, classification_report, accuracy_score, \\\n",
    "        cohen_kappa_score, roc_auc_score, roc_curve"
   ]
  },
  {
   "attachments": {},
   "cell_type": "markdown",
   "id": "6108a1b0",
   "metadata": {},
   "source": [
    "### Chargement et visualisation de notre jeu de données"
   ]
  },
  {
   "attachments": {},
   "cell_type": "markdown",
   "id": "07b4d3a1",
   "metadata": {},
   "source": [
    "#### Définition du dataset"
   ]
  },
  {
   "attachments": {},
   "cell_type": "markdown",
   "id": "53176f06",
   "metadata": {},
   "source": [
    "Notre my_dataset est stocké au sein d'une classe :"
   ]
  },
  {
   "cell_type": "code",
   "execution_count": 5,
   "id": "c2ebd34e",
   "metadata": {},
   "outputs": [],
   "source": [
    "class dataset():\n",
    "    def __init__(self, root,nb_max=None) :\n",
    "        self.root = root\n",
    "        self.data = np.array([], dtype=np.int32)\n",
    "        self.target = np.array([], dtype=np.int32)\n",
    "        self.target_names = np.array([], dtype=np.int32)\n",
    "        self.feature_names = np.array([], dtype=np.int32)\n",
    "\n",
    "        nb_class = 0\n",
    "        nb_images = 0\n",
    "\n",
    "        # on parcourt les images pour remplir le my_dataset\n",
    "        for i in os.listdir(self.root) :\n",
    "            if nb_max is None or nb_images < nb_max :\n",
    "                for j in os.listdir(self.root + str(i)) :\n",
    "                    if nb_max is None or nb_images < nb_max :\n",
    "                        self.target_names = np.append(self.target_names,j)\n",
    "                        nb_class += 1\n",
    "                        for k in os.listdir(self.root + str(i) + '/' + str(j)) :\n",
    "                            if nb_max is None or nb_images < nb_max :\n",
    "                                if nb_images%1000 == 0 :\n",
    "                                    print('{} images importées'.format(nb_images))\n",
    "                                #on ajoute la sortie\n",
    "                                self.target = np.append(self.target,nb_class)\n",
    "                                \n",
    "                                #on ajoute tous les pixels en features\n",
    "                                img = Image.open(self.root + str(i) + '/' + str(j) + '/' + str(k)).convert('L')\n",
    "                                self.data = np.append(self.data,np.asarray(img))\n",
    "\n",
    "                                # on ajoute les features qu'on a implémenté en plus des pixels\n",
    "                                other_features = solo_features(self.root + str(i) + '/' + str(j) + '/' + str(k))\n",
    "                                self.data = np.append(self.data, np.asarray(list(other_features.values())))\n",
    "                                \n",
    "                                nb_images += 1\n",
    "        print('{} images importées'.format(nb_images))\n",
    "\n",
    "        self.data = np.reshape(self.data,(nb_images,1621))\n",
    "        \n",
    "        # on ajoute des noms aux features des pixels\n",
    "        for i in range(40) :\n",
    "            for j in range(40) :\n",
    "                self.feature_names = np.append(self.feature_names,'pixels ' + str(i) + '_' + str(j))\n",
    "        \n",
    "        # enfin, on ajout les noms des features qu'on a implémenté\n",
    "        for i in range(21) :\n",
    "            self.feature_names = np.append(self.feature_names, 'primitive_perso_{}'.format(i))     \n",
    "        \n",
    "\n",
    "    \n",
    "    def normalize(self):\n",
    "        scaler = MinMaxScaler()\n",
    "        self.data = scaler.fit_transform(self.data)"
   ]
  },
  {
   "attachments": {},
   "cell_type": "markdown",
   "id": "dc35b8b5",
   "metadata": {},
   "source": [
    "#### Instanciation du dataset (si vous ne possédez pas le fichier du dataset)"
   ]
  },
  {
   "attachments": {},
   "cell_type": "markdown",
   "id": "826217fc",
   "metadata": {},
   "source": [
    "On instancie un dataset avec nos images augmentées :  \n",
    "**NB : Vous n'avez pas besoin de faire ça si vous avez le fichier** `my_dataset.p`"
   ]
  },
  {
   "cell_type": "code",
   "execution_count": 10,
   "id": "67966cc3",
   "metadata": {},
   "outputs": [
    {
     "name": "stdout",
     "output_type": "stream",
     "text": [
      "0 images importées\n",
      "1000 images importées\n",
      "2000 images importées\n",
      "3000 images importées\n",
      "4000 images importées\n",
      "5000 images importées\n",
      "6000 images importées\n",
      "7000 images importées\n",
      "8000 images importées\n",
      "9000 images importées\n",
      "10000 images importées\n",
      "11000 images importées\n",
      "12000 images importées\n",
      "13000 images importées\n",
      "14000 images importées\n",
      "15000 images importées\n",
      "16000 images importées\n",
      "17000 images importées\n",
      "18000 images importées\n",
      "19000 images importées\n",
      "19512 images importées\n"
     ]
    },
    {
     "data": {
      "text/plain": [
       "(19512, 1621)"
      ]
     },
     "execution_count": 10,
     "metadata": {},
     "output_type": "execute_result"
    }
   ],
   "source": [
    "my_dataset = dataset('../output/augmented/')\n",
    "\n",
    "my_dataset.data.shape"
   ]
  },
  {
   "attachments": {},
   "cell_type": "markdown",
   "id": "9947dc7e",
   "metadata": {},
   "source": [
    "La celulle suivant permet de sauvegarder le dataset dans un fichier à l'aide de `pickle` :"
   ]
  },
  {
   "cell_type": "code",
   "execution_count": 12,
   "id": "716b0412",
   "metadata": {},
   "outputs": [],
   "source": [
    "import pickle\n",
    "from os.path import isfile\n",
    "\n",
    "if not isfile('my_dataset.p') :\n",
    "    with open('my_dataset.p', 'wb') as my_dataset_file :\n",
    "        pickle.dump(my_dataset, my_dataset_file, protocol=pickle.HIGHEST_PROTOCOL)"
   ]
  },
  {
   "attachments": {},
   "cell_type": "markdown",
   "id": "0dc31d8d",
   "metadata": {},
   "source": [
    "#### Import du dataset (si vous avez le fichier du dataset)"
   ]
  },
  {
   "attachments": {},
   "cell_type": "markdown",
   "id": "54541cae",
   "metadata": {},
   "source": [
    "Pour importer le dataset via le fichier créé, exécutez la cellule suivante :"
   ]
  },
  {
   "cell_type": "code",
   "execution_count": 7,
   "id": "31a46e59",
   "metadata": {},
   "outputs": [
    {
     "data": {
      "text/plain": [
       "(19512, 1621)"
      ]
     },
     "execution_count": 7,
     "metadata": {},
     "output_type": "execute_result"
    }
   ],
   "source": [
    "import pickle\n",
    "\n",
    "my_dataset = pickle.load(open('my_dataset.p','rb'))\n",
    "\n",
    "my_dataset.data.shape"
   ]
  },
  {
   "attachments": {},
   "cell_type": "markdown",
   "id": "cd3ef64c",
   "metadata": {},
   "source": [
    "#### Normalisation du dataset"
   ]
  },
  {
   "attachments": {},
   "cell_type": "markdown",
   "id": "c1dcaaeb",
   "metadata": {},
   "source": [
    "On normalise le my_dataset pour obtenir des meilleurs résultats :"
   ]
  },
  {
   "cell_type": "code",
   "execution_count": 8,
   "id": "cbdc1bc5",
   "metadata": {},
   "outputs": [
    {
     "name": "stdout",
     "output_type": "stream",
     "text": [
      "142.5528905289053\n",
      "0.5484051828470092\n"
     ]
    }
   ],
   "source": [
    "print(np.mean(my_dataset.data[:,0]))\n",
    "\n",
    "my_dataset.normalize()\n",
    "\n",
    "print(np.mean(my_dataset.data[:,0]))"
   ]
  },
  {
   "attachments": {},
   "cell_type": "markdown",
   "id": "34520bcf",
   "metadata": {},
   "source": [
    "### Préparation du dataset"
   ]
  },
  {
   "attachments": {},
   "cell_type": "markdown",
   "id": "97f476fc",
   "metadata": {},
   "source": [
    "On divise le dataset en deux, les données et les résultats :"
   ]
  },
  {
   "cell_type": "code",
   "execution_count": 9,
   "id": "5df2b437",
   "metadata": {},
   "outputs": [
    {
     "name": "stdout",
     "output_type": "stream",
     "text": [
      "(19512, 1621)\n",
      "(19512,)\n"
     ]
    }
   ],
   "source": [
    "X = my_dataset.data \n",
    "Y = my_dataset.target\n",
    "\n",
    "print(X.shape)\n",
    "print(Y.shape)"
   ]
  },
  {
   "attachments": {},
   "cell_type": "markdown",
   "id": "d6d6729e",
   "metadata": {},
   "source": [
    "On modifie Y pour qu'il contienne  tous les résultats en un vecteur :"
   ]
  },
  {
   "cell_type": "code",
   "execution_count": 10,
   "id": "f9bef381",
   "metadata": {},
   "outputs": [
    {
     "name": "stdout",
     "output_type": "stream",
     "text": [
      "(19512, 8)\n"
     ]
    }
   ],
   "source": [
    "from sklearn.preprocessing import label_binarize\n",
    "\n",
    "# on modifie le nombre de classes en fonction du dataset directement\n",
    "Y = label_binarize(Y, classes=range(len(my_dataset.target_names)))\n",
    "print(Y.shape)\n"
   ]
  },
  {
   "attachments": {},
   "cell_type": "markdown",
   "id": "ccbc7c3d",
   "metadata": {},
   "source": [
    "On divise le dataset en des ensembles d'entrainement, de test et de validation :"
   ]
  },
  {
   "cell_type": "code",
   "execution_count": 11,
   "id": "9689cc4b",
   "metadata": {},
   "outputs": [
    {
     "name": "stdout",
     "output_type": "stream",
     "text": [
      "(11706, 1621) (11706, 8)\n",
      "(3903, 1621) (3903, 8)\n",
      "(3903, 1621) (3903, 8)\n"
     ]
    }
   ],
   "source": [
    "# test_size correspond à la proportion de test, ici 40%\n",
    "# random_state sert à garder la même valeur d'aléatoire d'un appel de fonction à l'autre lorsqu'on mélange les données  \n",
    "x_train_val,x_test,y_train_val,y_test = train_test_split(X, Y, test_size=0.2,random_state=4)\n",
    "\n",
    "# on crée un troisième jeu de données, celui de validation\n",
    "x_train,x_val,y_train,y_val = train_test_split(x_train_val,y_train_val, test_size=0.25,random_state=2)\n",
    "\n",
    "print(x_train.shape, y_train.shape)\n",
    "print(x_val.shape, y_val.shape)\n",
    "print(x_test.shape, y_test.shape)"
   ]
  },
  {
   "attachments": {},
   "cell_type": "markdown",
   "id": "e5744c5d",
   "metadata": {},
   "source": [
    "## Modèles d'apprentissage : KNN, SVM, NN et CNN"
   ]
  },
  {
   "attachments": {},
   "cell_type": "markdown",
   "id": "befeb70d",
   "metadata": {},
   "source": [
    "### Avec 100% des données (c'est la version la plus expliquée, les autres étant des copies)"
   ]
  },
  {
   "attachments": {},
   "cell_type": "markdown",
   "id": "fad696bb",
   "metadata": {},
   "source": [
    "#### 1- K-nearest neighbors algorithm (KNN)"
   ]
  },
  {
   "cell_type": "markdown",
   "id": "1b1ce1ea",
   "metadata": {},
   "source": [
    "##### A- Phase d'apprentissage"
   ]
  },
  {
   "cell_type": "code",
   "execution_count": 12,
   "id": "c074cc73",
   "metadata": {},
   "outputs": [
    {
     "name": "stdout",
     "output_type": "stream",
     "text": [
      "k = 1\t=>\tscore = 91.263%\n",
      "k = 2\t=>\tscore = 85.293%\n",
      "k = 3\t=>\tscore = 88.778%\n",
      "k = 4\t=>\tscore = 83.602%\n",
      "k = 5\t=>\tscore = 86.062%\n",
      "k = 6\t=>\tscore = 82.578%\n",
      "k = 7\t=>\tscore = 84.038%\n",
      "k = 8\t=>\tscore = 80.297%\n",
      "k = 9\t=>\tscore = 81.425%\n",
      "k = 10\t=>\tscore = 78.786%\n",
      "k = 11\t=>\tscore = 79.862%\n",
      "k = 12\t=>\tscore = 76.685%\n",
      "k = 13\t=>\tscore = 77.633%\n",
      "k = 14\t=>\tscore = 75.045%\n"
     ]
    }
   ],
   "source": [
    "# on teste différentes valeurs de k pour trouver le meilleur résultat\n",
    "k_range = range(1,15)\n",
    "for k in k_range:\n",
    "        knn = KNeighborsClassifier(n_neighbors=k)\n",
    "        knn.fit(x_train,y_train) \n",
    "        y_pred=knn.predict(x_val) # on teste les hyper-paramètres avec l'ensemble de validation\n",
    "        print('k = {}\\t=>\\tscore = {:2.3%}'.format(k,metrics.accuracy_score(y_val,y_pred)))"
   ]
  },
  {
   "attachments": {},
   "cell_type": "markdown",
   "id": "c59f0cab",
   "metadata": {},
   "source": [
    "Après étude des résultats de la cellule précédente, on choisit k=1, ce qui donne le meilleur résultat pour nos données."
   ]
  },
  {
   "attachments": {},
   "cell_type": "markdown",
   "id": "1616f1fb",
   "metadata": {},
   "source": [
    "On entraine le modèle :  \n",
    "  \n",
    "*NB : Pour chaque entrainement et test, on mesure le temps en prenant le temps `start` de début et le temps `end` de fin d'exécution*  "
   ]
  },
  {
   "cell_type": "code",
   "execution_count": 13,
   "id": "abcd3f45",
   "metadata": {},
   "outputs": [
    {
     "name": "stdout",
     "output_type": "stream",
     "text": [
      "temps d'apprentissage : 0.040 secondes\n"
     ]
    }
   ],
   "source": [
    "import time\n",
    "\n",
    "knn_n_neighbors = 1\n",
    "\n",
    "start = time.time()\n",
    "\n",
    "knn = KNeighborsClassifier(n_neighbors=knn_n_neighbors)\n",
    "\n",
    "# on entraine le modèle\n",
    "knn.fit(x_train_val,y_train_val) # on combine l'ensemble d'entrainement et de validation pour avoir plus de données\n",
    "\n",
    "end = time.time()\n",
    "\n",
    "training_time_knn = end - start\n",
    "\n",
    "print('temps d\\'apprentissage : {:.3f} secondes'.format(training_time_knn))"
   ]
  },
  {
   "cell_type": "markdown",
   "id": "9c009e1c",
   "metadata": {},
   "source": [
    "##### B- Phase de prédiction ou de test"
   ]
  },
  {
   "attachments": {},
   "cell_type": "markdown",
   "id": "07652ab0",
   "metadata": {},
   "source": [
    "on réalise la prédiction avec le modèle précédemment créé :"
   ]
  },
  {
   "cell_type": "code",
   "execution_count": 14,
   "id": "fda9acd8",
   "metadata": {},
   "outputs": [
    {
     "name": "stdout",
     "output_type": "stream",
     "text": [
      "temps de test : 2.298 secondes\n"
     ]
    }
   ],
   "source": [
    "start = time.time()\n",
    "\n",
    "y_pred_knn = knn.predict(x_test)\n",
    "\n",
    "end = time.time()\n",
    "\n",
    "testing_time_knn = end - start\n",
    "\n",
    "print('temps de test : {:.3f} secondes'.format(testing_time_knn))"
   ]
  },
  {
   "cell_type": "markdown",
   "id": "7b0d6712",
   "metadata": {},
   "source": [
    "##### C- Évaluation"
   ]
  },
  {
   "attachments": {},
   "cell_type": "markdown",
   "id": "7f158c0a",
   "metadata": {},
   "source": [
    "On affiche la matrice de confusion de la prédiction :"
   ]
  },
  {
   "cell_type": "code",
   "execution_count": 15,
   "id": "16bf93df",
   "metadata": {},
   "outputs": [
    {
     "data": {
      "text/plain": [
       "<sklearn.metrics._plot.confusion_matrix.ConfusionMatrixDisplay at 0x2a97fb59660>"
      ]
     },
     "execution_count": 15,
     "metadata": {},
     "output_type": "execute_result"
    },
    {
     "data": {
      "image/png": "[encoded data removed]",
      "text/plain": [
       "<Figure size 1000x1000 with 2 Axes>"
      ]
     },
     "metadata": {},
     "output_type": "display_data"
    }
   ],
   "source": [
    "from sklearn.metrics import ConfusionMatrixDisplay\n",
    "\n",
    "# on récupère le nom des classes\n",
    "class_names = my_dataset.target_names.tolist()\n",
    "\n",
    "# on crée la matrice de confusion\n",
    "cf_matrix = confusion_matrix(y_true=y_test.argmax(axis=1),\n",
    "                             y_pred=y_pred_knn.argmax(axis=1),\n",
    "                             normalize='true')\n",
    "\n",
    "cf_disp = ConfusionMatrixDisplay(confusion_matrix=cf_matrix,\n",
    "                               display_labels=class_names)\n",
    "\n",
    "fig, ax = plt.subplots(figsize=(10,10)) # on agrandit la matrice pour mieux l'observer\n",
    "cf_disp.plot(ax=ax)"
   ]
  },
  {
   "attachments": {},
   "cell_type": "markdown",
   "id": "f82b308c",
   "metadata": {},
   "source": [
    "On calcule les accuracy, precision, recall et f1-score :"
   ]
  },
  {
   "cell_type": "code",
   "execution_count": 16,
   "id": "54d30e67",
   "metadata": {},
   "outputs": [
    {
     "name": "stdout",
     "output_type": "stream",
     "text": [
      "Accuracy: 0.931079 \n",
      "\n",
      "Precision: 0.818684 \n",
      "\n",
      "Recall: 0.806283 \n",
      "\n",
      "F1 score: 0.811678 \n",
      "\n"
     ]
    }
   ],
   "source": [
    "# accuracy: (tp + tn) / (fp + fn)\n",
    "accuracy_knn = accuracy_score(y_test, y_pred_knn)\n",
    "print('Accuracy: %f' % accuracy_knn, '\\n')\n",
    "# precision tp / (tp + fp)\n",
    "precision_knn = precision_score(y_test, y_pred_knn, average='macro', zero_division=0)\n",
    "print('Precision: %f' % precision_knn, '\\n')\n",
    "# recall: tp / (tp + fn)\n",
    "recall_knn = recall_score(y_test, y_pred_knn, average='macro', zero_division=0)\n",
    "print('Recall: %f' % recall_knn, '\\n')\n",
    "# f1: 2 tp / (2 tp + fp + fn)\n",
    "f1_knn = f1_score(y_test, y_pred_knn, average='macro', zero_division=0)\n",
    "print('F1 score: %f' % f1_knn, '\\n')"
   ]
  },
  {
   "attachments": {},
   "cell_type": "markdown",
   "id": "f5cf3a4b",
   "metadata": {},
   "source": [
    "#### 2- Support vector machine (SVM) model"
   ]
  },
  {
   "cell_type": "markdown",
   "id": "6802e19a",
   "metadata": {},
   "source": [
    "##### A- Phase d'apprentissage"
   ]
  },
  {
   "attachments": {},
   "cell_type": "markdown",
   "id": "9fc776e4",
   "metadata": {},
   "source": [
    "On crée le modèle et on le fit aux données :"
   ]
  },
  {
   "cell_type": "code",
   "execution_count": 17,
   "id": "1d35ae2a",
   "metadata": {},
   "outputs": [
    {
     "name": "stdout",
     "output_type": "stream",
     "text": [
      "temps d'apprentissage : 62.655 secondes\n"
     ]
    }
   ],
   "source": [
    "from sklearn.svm import SVC\n",
    "\n",
    "svm_kernel = 'linear' # on met à chaque fois les hyper-paramètres en variables pour pouvoir les afficher\n",
    "\n",
    "start = time.time()\n",
    "\n",
    "svm = SVC(kernel = svm_kernel, random_state = 0) # on instancie le modèle\n",
    "\n",
    "#Entrainer le modèle pour les données\n",
    "\n",
    "svm.fit(x_train_val, y_train_val.argmax(axis=1)) # on entraine le modèle\n",
    "\n",
    "end = time.time()\n",
    "\n",
    "training_time_svm = end - start\n",
    "\n",
    "print('temps d\\'apprentissage : {:.3f} secondes'.format(training_time_svm))"
   ]
  },
  {
   "cell_type": "markdown",
   "id": "e8ba50b3",
   "metadata": {},
   "source": [
    "##### B- Phase de prédiction ou de test"
   ]
  },
  {
   "attachments": {},
   "cell_type": "markdown",
   "id": "3767b8c1",
   "metadata": {},
   "source": [
    "On test le modèle sur les données de test :"
   ]
  },
  {
   "cell_type": "code",
   "execution_count": 18,
   "id": "5867d34e",
   "metadata": {},
   "outputs": [
    {
     "name": "stdout",
     "output_type": "stream",
     "text": [
      "temps de test : 11.685 secondes\n"
     ]
    }
   ],
   "source": [
    "start = time.time()\n",
    "\n",
    "y_pred_svm = svm.predict(x_test) # inférence sur les données de test\n",
    "\n",
    "end = time.time()\n",
    "\n",
    "testing_time_svm = end - start\n",
    "\n",
    "print('temps de test : {:.3f} secondes'.format(testing_time_svm))"
   ]
  },
  {
   "cell_type": "markdown",
   "id": "0d69e81c",
   "metadata": {},
   "source": [
    "##### C- Évaluation"
   ]
  },
  {
   "attachments": {},
   "cell_type": "markdown",
   "id": "74553192",
   "metadata": {},
   "source": [
    "On affiche la matrice de corrélation :"
   ]
  },
  {
   "cell_type": "code",
   "execution_count": 19,
   "id": "151bb2b4",
   "metadata": {},
   "outputs": [
    {
     "data": {
      "text/plain": [
       "<sklearn.metrics._plot.confusion_matrix.ConfusionMatrixDisplay at 0x2a97fb59480>"
      ]
     },
     "execution_count": 19,
     "metadata": {},
     "output_type": "execute_result"
    },
    {
     "data": {
      "image/png": "[encoded data removed]",
      "text/plain": [
       "<Figure size 1000x1000 with 2 Axes>"
      ]
     },
     "metadata": {},
     "output_type": "display_data"
    }
   ],
   "source": [
    "cf_matrix = confusion_matrix(y_true=y_test.argmax(axis=1),\n",
    "                             y_pred=y_pred_svm,\n",
    "                             normalize='true')\n",
    "\n",
    "cf_disp = ConfusionMatrixDisplay(confusion_matrix=cf_matrix,\n",
    "                               display_labels=class_names)\n",
    "\n",
    "fig, ax = plt.subplots(figsize=(10,10))\n",
    "cf_disp.plot(ax=ax)"
   ]
  },
  {
   "attachments": {},
   "cell_type": "markdown",
   "id": "f97d8074",
   "metadata": {},
   "source": [
    "On calcule les accuracy, precision, recall et f1-score :"
   ]
  },
  {
   "cell_type": "code",
   "execution_count": 20,
   "id": "1323bda5",
   "metadata": {},
   "outputs": [
    {
     "name": "stdout",
     "output_type": "stream",
     "text": [
      "Accuracy: 0.936203 \n",
      "\n",
      "Precision: 0.938253 \n",
      "\n",
      "Recall: 0.936097 \n",
      "\n",
      "F1 score: 0.936656 \n",
      "\n"
     ]
    }
   ],
   "source": [
    "# accuracy: (tp + tn) / (fp + fn)\n",
    "accuracy_svm = accuracy_score(y_test.argmax(axis=1), y_pred_svm)\n",
    "print('Accuracy: %f' % accuracy_svm, '\\n')\n",
    "# precision tp / (tp + fp)\n",
    "precision_svm = precision_score(y_test.argmax(axis=1), y_pred_svm, average='macro', zero_division=0)\n",
    "print('Precision: %f' % precision_svm, '\\n')\n",
    "# recall: tp / (tp + fn)\n",
    "recall_svm = recall_score(y_test.argmax(axis=1), y_pred_svm, average='macro', zero_division=0)\n",
    "print('Recall: %f' % recall_svm, '\\n')\n",
    "# f1: 2 tp / (2 tp + fp + fn)\n",
    "f1_svm = f1_score(y_test.argmax(axis=1), y_pred_svm, average='macro', zero_division=0)\n",
    "print('F1 score: %f' % f1_svm, '\\n')"
   ]
  },
  {
   "attachments": {},
   "cell_type": "markdown",
   "id": "6c8c0631",
   "metadata": {},
   "source": [
    "#### 3- Réseau de neurone (NN) model"
   ]
  },
  {
   "attachments": {},
   "cell_type": "markdown",
   "id": "02848c44",
   "metadata": {},
   "source": [
    "On réalise les imports nécessaires :"
   ]
  },
  {
   "cell_type": "code",
   "execution_count": 21,
   "id": "0935afc1",
   "metadata": {},
   "outputs": [
    {
     "name": "stdout",
     "output_type": "stream",
     "text": [
      "Defaulting to user installation because normal site-packages is not writeable\n",
      "Requirement already satisfied: tensorflow in c:\\users\\damie\\appdata\\roaming\\python\\python310\\site-packages (2.11.0)\n",
      "Requirement already satisfied: tensorflow-intel==2.11.0 in c:\\users\\damie\\appdata\\roaming\\python\\python310\\site-packages (from tensorflow) (2.11.0)\n",
      "Requirement already satisfied: setuptools in c:\\program files\\python310\\lib\\site-packages (from tensorflow-intel==2.11.0->tensorflow) (63.2.0)\n",
      "Requirement already satisfied: h5py>=2.9.0 in c:\\users\\damie\\appdata\\roaming\\python\\python310\\site-packages (from tensorflow-intel==2.11.0->tensorflow) (3.8.0)\n",
      "Requirement already satisfied: tensorboard<2.12,>=2.11 in c:\\users\\damie\\appdata\\roaming\\python\\python310\\site-packages (from tensorflow-intel==2.11.0->tensorflow) (2.11.2)\n",
      "Requirement already satisfied: tensorflow-io-gcs-filesystem>=0.23.1 in c:\\users\\damie\\appdata\\roaming\\python\\python310\\site-packages (from tensorflow-intel==2.11.0->tensorflow) (0.30.0)\n",
      "Requirement already satisfied: tensorflow-estimator<2.12,>=2.11.0 in c:\\users\\damie\\appdata\\roaming\\python\\python310\\site-packages (from tensorflow-intel==2.11.0->tensorflow) (2.11.0)\n",
      "Requirement already satisfied: grpcio<2.0,>=1.24.3 in c:\\users\\damie\\appdata\\roaming\\python\\python310\\site-packages (from tensorflow-intel==2.11.0->tensorflow) (1.51.3)\n",
      "Requirement already satisfied: termcolor>=1.1.0 in c:\\users\\damie\\appdata\\roaming\\python\\python310\\site-packages (from tensorflow-intel==2.11.0->tensorflow) (2.2.0)\n",
      "Requirement already satisfied: gast<=0.4.0,>=0.2.1 in c:\\users\\damie\\appdata\\roaming\\python\\python310\\site-packages (from tensorflow-intel==2.11.0->tensorflow) (0.4.0)\n",
      "Requirement already satisfied: protobuf<3.20,>=3.9.2 in c:\\users\\damie\\appdata\\roaming\\python\\python310\\site-packages (from tensorflow-intel==2.11.0->tensorflow) (3.19.6)\n",
      "Requirement already satisfied: keras<2.12,>=2.11.0 in c:\\users\\damie\\appdata\\roaming\\python\\python310\\site-packages (from tensorflow-intel==2.11.0->tensorflow) (2.11.0)\n",
      "Requirement already satisfied: absl-py>=1.0.0 in c:\\users\\damie\\appdata\\roaming\\python\\python310\\site-packages (from tensorflow-intel==2.11.0->tensorflow) (1.4.0)\n",
      "Requirement already satisfied: wrapt>=1.11.0 in c:\\users\\damie\\appdata\\roaming\\python\\python310\\site-packages (from tensorflow-intel==2.11.0->tensorflow) (1.14.1)\n",
      "Requirement already satisfied: packaging in c:\\users\\damie\\appdata\\roaming\\python\\python310\\site-packages (from tensorflow-intel==2.11.0->tensorflow) (23.0)\n",
      "Requirement already satisfied: six>=1.12.0 in c:\\users\\damie\\appdata\\roaming\\python\\python310\\site-packages (from tensorflow-intel==2.11.0->tensorflow) (1.16.0)\n",
      "Requirement already satisfied: typing-extensions>=3.6.6 in c:\\users\\damie\\appdata\\roaming\\python\\python310\\site-packages (from tensorflow-intel==2.11.0->tensorflow) (4.4.0)\n",
      "Requirement already satisfied: astunparse>=1.6.0 in c:\\users\\damie\\appdata\\roaming\\python\\python310\\site-packages (from tensorflow-intel==2.11.0->tensorflow) (1.6.3)\n",
      "Requirement already satisfied: opt-einsum>=2.3.2 in c:\\users\\damie\\appdata\\roaming\\python\\python310\\site-packages (from tensorflow-intel==2.11.0->tensorflow) (3.3.0)\n",
      "Requirement already satisfied: google-pasta>=0.1.1 in c:\\users\\damie\\appdata\\roaming\\python\\python310\\site-packages (from tensorflow-intel==2.11.0->tensorflow) (0.2.0)\n",
      "Requirement already satisfied: numpy>=1.20 in c:\\users\\damie\\appdata\\roaming\\python\\python310\\site-packages (from tensorflow-intel==2.11.0->tensorflow) (1.23.4)\n",
      "Requirement already satisfied: libclang>=13.0.0 in c:\\users\\damie\\appdata\\roaming\\python\\python310\\site-packages (from tensorflow-intel==2.11.0->tensorflow) (15.0.6.1)\n",
      "Requirement already satisfied: flatbuffers>=2.0 in c:\\users\\damie\\appdata\\roaming\\python\\python310\\site-packages (from tensorflow-intel==2.11.0->tensorflow) (23.1.21)\n",
      "Requirement already satisfied: wheel<1.0,>=0.23.0 in c:\\users\\damie\\appdata\\roaming\\python\\python310\\site-packages (from astunparse>=1.6.0->tensorflow-intel==2.11.0->tensorflow) (0.38.4)\n",
      "Requirement already satisfied: google-auth-oauthlib<0.5,>=0.4.1 in c:\\users\\damie\\appdata\\roaming\\python\\python310\\site-packages (from tensorboard<2.12,>=2.11->tensorflow-intel==2.11.0->tensorflow) (0.4.6)\n",
      "Requirement already satisfied: tensorboard-data-server<0.7.0,>=0.6.0 in c:\\users\\damie\\appdata\\roaming\\python\\python310\\site-packages (from tensorboard<2.12,>=2.11->tensorflow-intel==2.11.0->tensorflow) (0.6.1)\n",
      "Requirement already satisfied: tensorboard-plugin-wit>=1.6.0 in c:\\users\\damie\\appdata\\roaming\\python\\python310\\site-packages (from tensorboard<2.12,>=2.11->tensorflow-intel==2.11.0->tensorflow) (1.8.1)\n",
      "Requirement already satisfied: google-auth<3,>=1.6.3 in c:\\users\\damie\\appdata\\roaming\\python\\python310\\site-packages (from tensorboard<2.12,>=2.11->tensorflow-intel==2.11.0->tensorflow) (2.16.1)\n",
      "Requirement already satisfied: werkzeug>=1.0.1 in c:\\users\\damie\\appdata\\roaming\\python\\python310\\site-packages (from tensorboard<2.12,>=2.11->tensorflow-intel==2.11.0->tensorflow) (2.2.2)\n",
      "Requirement already satisfied: markdown>=2.6.8 in c:\\users\\damie\\appdata\\roaming\\python\\python310\\site-packages (from tensorboard<2.12,>=2.11->tensorflow-intel==2.11.0->tensorflow) (3.4.1)\n",
      "Requirement already satisfied: requests<3,>=2.21.0 in c:\\users\\damie\\appdata\\roaming\\python\\python310\\site-packages (from tensorboard<2.12,>=2.11->tensorflow-intel==2.11.0->tensorflow) (2.28.2)\n",
      "Requirement already satisfied: pyasn1-modules>=0.2.1 in c:\\users\\damie\\appdata\\roaming\\python\\python310\\site-packages (from google-auth<3,>=1.6.3->tensorboard<2.12,>=2.11->tensorflow-intel==2.11.0->tensorflow) (0.2.8)\n",
      "Requirement already satisfied: cachetools<6.0,>=2.0.0 in c:\\users\\damie\\appdata\\roaming\\python\\python310\\site-packages (from google-auth<3,>=1.6.3->tensorboard<2.12,>=2.11->tensorflow-intel==2.11.0->tensorflow) (5.3.0)\n",
      "Requirement already satisfied: rsa<5,>=3.1.4 in c:\\users\\damie\\appdata\\roaming\\python\\python310\\site-packages (from google-auth<3,>=1.6.3->tensorboard<2.12,>=2.11->tensorflow-intel==2.11.0->tensorflow) (4.9)\n",
      "Requirement already satisfied: requests-oauthlib>=0.7.0 in c:\\users\\damie\\appdata\\roaming\\python\\python310\\site-packages (from google-auth-oauthlib<0.5,>=0.4.1->tensorboard<2.12,>=2.11->tensorflow-intel==2.11.0->tensorflow) (1.3.1)\n",
      "Requirement already satisfied: idna<4,>=2.5 in c:\\users\\damie\\appdata\\roaming\\python\\python310\\site-packages (from requests<3,>=2.21.0->tensorboard<2.12,>=2.11->tensorflow-intel==2.11.0->tensorflow) (3.4)\n",
      "Requirement already satisfied: charset-normalizer<4,>=2 in c:\\users\\damie\\appdata\\roaming\\python\\python310\\site-packages (from requests<3,>=2.21.0->tensorboard<2.12,>=2.11->tensorflow-intel==2.11.0->tensorflow) (3.0.1)\n",
      "Requirement already satisfied: certifi>=2017.4.17 in c:\\users\\damie\\appdata\\roaming\\python\\python310\\site-packages (from requests<3,>=2.21.0->tensorboard<2.12,>=2.11->tensorflow-intel==2.11.0->tensorflow) (2022.12.7)\n",
      "Requirement already satisfied: urllib3<1.27,>=1.21.1 in c:\\users\\damie\\appdata\\roaming\\python\\python310\\site-packages (from requests<3,>=2.21.0->tensorboard<2.12,>=2.11->tensorflow-intel==2.11.0->tensorflow) (1.26.14)\n",
      "Requirement already satisfied: MarkupSafe>=2.1.1 in c:\\users\\damie\\appdata\\roaming\\python\\python310\\site-packages (from werkzeug>=1.0.1->tensorboard<2.12,>=2.11->tensorflow-intel==2.11.0->tensorflow) (2.1.2)\n",
      "Requirement already satisfied: pyasn1<0.5.0,>=0.4.6 in c:\\users\\damie\\appdata\\roaming\\python\\python310\\site-packages (from pyasn1-modules>=0.2.1->google-auth<3,>=1.6.3->tensorboard<2.12,>=2.11->tensorflow-intel==2.11.0->tensorflow) (0.4.8)\n",
      "Requirement already satisfied: oauthlib>=3.0.0 in c:\\users\\damie\\appdata\\roaming\\python\\python310\\site-packages (from requests-oauthlib>=0.7.0->google-auth-oauthlib<0.5,>=0.4.1->tensorboard<2.12,>=2.11->tensorflow-intel==2.11.0->tensorflow) (3.2.2)\n",
      "Note: you may need to restart the kernel to use updated packages.\n"
     ]
    },
    {
     "name": "stderr",
     "output_type": "stream",
     "text": [
      "\n",
      "[notice] A new release of pip is available: 23.0 -> 23.0.1\n",
      "[notice] To update, run: python.exe -m pip install --upgrade pip\n"
     ]
    },
    {
     "name": "stdout",
     "output_type": "stream",
     "text": [
      "Defaulting to user installation because normal site-packages is not writeable\n",
      "Requirement already satisfied: keras in c:\\users\\damie\\appdata\\roaming\\python\\python310\\site-packages (2.11.0)\n",
      "Note: you may need to restart the kernel to use updated packages.\n"
     ]
    },
    {
     "name": "stderr",
     "output_type": "stream",
     "text": [
      "\n",
      "[notice] A new release of pip is available: 23.0 -> 23.0.1\n",
      "[notice] To update, run: python.exe -m pip install --upgrade pip\n"
     ]
    }
   ],
   "source": [
    "%pip install tensorflow\n",
    "%pip install keras\n",
    "\n",
    "import keras\n",
    "from keras.models import Sequential \n",
    "from keras.layers import Dense,Activation,Dropout \n",
    "from keras.layers import BatchNormalization \n",
    "from keras.utils import np_utils"
   ]
  },
  {
   "cell_type": "markdown",
   "id": "478e6a55",
   "metadata": {},
   "source": [
    "##### A-  Créer le modèle du réseau de neurone"
   ]
  },
  {
   "attachments": {},
   "cell_type": "markdown",
   "id": "8f4a4695",
   "metadata": {},
   "source": [
    "On instancie le réseau de neurones en lui ajoutant plusieurs couches :"
   ]
  },
  {
   "cell_type": "code",
   "execution_count": 22,
   "id": "51a61a97",
   "metadata": {},
   "outputs": [],
   "source": [
    "nn_learning_rate = 0.000001\n",
    "\n",
    "NN=Sequential()\n",
    "NN.add(Dense(1000,input_dim=len(my_dataset.feature_names),activation='relu')) # couche d'entrée\n",
    "NN.add(Dense(500,activation='relu')) #\n",
    "NN.add(Dense(300,activation='relu')) # couches cachées\n",
    "NN.add(Dropout(0.2))                 #\n",
    "NN.add(Dense(len(my_dataset.target_names),activation='softmax')) # couche de sortie\n",
    "optimizer = keras.optimizers.Adam(learning_rate=nn_learning_rate) # on utilise une descente du gradient avec moment\n",
    "NN.compile(loss='categorical_crossentropy',optimizer=optimizer,metrics=['accuracy']) # on compile le modèle"
   ]
  },
  {
   "attachments": {},
   "cell_type": "markdown",
   "id": "85dae2ee",
   "metadata": {},
   "source": [
    "On remarque dans la cellule ci-dessus de nombreux paramètres, on peut choisir le nombre de couches cachées, le type de ces couches, le nombre de noeuds par couche ou encore l'optimisation de descente du gradient  \n",
    "  \n",
    "Les choix des couches sont basées sur un exemple existant avec quelques modifications pour optimiser le fonctionnement.  \n",
    "Le *learning rate* a, cependant, été l'objet de nombreux de tests où le but était de maximiser l'*accuracy* en minimisant le *loss*"
   ]
  },
  {
   "attachments": {},
   "cell_type": "markdown",
   "id": "7b81062c",
   "metadata": {},
   "source": [
    "On affiche le sommaire du réseau de neurones créé :"
   ]
  },
  {
   "cell_type": "code",
   "execution_count": 23,
   "id": "42550b0f",
   "metadata": {},
   "outputs": [
    {
     "name": "stdout",
     "output_type": "stream",
     "text": [
      "Model: \"sequential\"\n",
      "_________________________________________________________________\n",
      " Layer (type)                Output Shape              Param #   \n",
      "=================================================================\n",
      " dense (Dense)               (None, 1000)              1622000   \n",
      "                                                                 \n",
      " dense_1 (Dense)             (None, 500)               500500    \n",
      "                                                                 \n",
      " dense_2 (Dense)             (None, 300)               150300    \n",
      "                                                                 \n",
      " dropout (Dropout)           (None, 300)               0         \n",
      "                                                                 \n",
      " dense_3 (Dense)             (None, 8)                 2408      \n",
      "                                                                 \n",
      "=================================================================\n",
      "Total params: 2,275,208\n",
      "Trainable params: 2,275,208\n",
      "Non-trainable params: 0\n",
      "_________________________________________________________________\n"
     ]
    }
   ],
   "source": [
    "NN.summary()"
   ]
  },
  {
   "cell_type": "markdown",
   "id": "46bba9ba",
   "metadata": {},
   "source": [
    "##### B- Phase d'apprentissage"
   ]
  },
  {
   "attachments": {},
   "cell_type": "markdown",
   "id": "6cdcfc2f",
   "metadata": {},
   "source": [
    "On entraine le réseau sur les données de test en utilisant les données de validation pour la propagation en arrière (*backward propagation*) :"
   ]
  },
  {
   "cell_type": "code",
   "execution_count": 24,
   "id": "149c0af4",
   "metadata": {},
   "outputs": [
    {
     "name": "stdout",
     "output_type": "stream",
     "text": [
      "Epoch 1/20\n",
      "586/586 [==============================] - 7s 11ms/step - loss: 1.9056 - accuracy: 0.1767 - val_loss: 1.8121 - val_accuracy: 0.2349\n",
      "Epoch 2/20\n",
      "586/586 [==============================] - 6s 11ms/step - loss: 1.7953 - accuracy: 0.2394 - val_loss: 1.7500 - val_accuracy: 0.2816\n",
      "Epoch 3/20\n",
      "586/586 [==============================] - 6s 11ms/step - loss: 1.7412 - accuracy: 0.2758 - val_loss: 1.7054 - val_accuracy: 0.3205\n",
      "Epoch 4/20\n",
      "586/586 [==============================] - 6s 11ms/step - loss: 1.7092 - accuracy: 0.3016 - val_loss: 1.6663 - val_accuracy: 0.3479\n",
      "Epoch 5/20\n",
      "586/586 [==============================] - 6s 11ms/step - loss: 1.6703 - accuracy: 0.3303 - val_loss: 1.6294 - val_accuracy: 0.3946\n",
      "Epoch 6/20\n",
      "586/586 [==============================] - 6s 11ms/step - loss: 1.6365 - accuracy: 0.3545 - val_loss: 1.5930 - val_accuracy: 0.4033\n",
      "Epoch 7/20\n",
      "586/586 [==============================] - 6s 11ms/step - loss: 1.6077 - accuracy: 0.3718 - val_loss: 1.5577 - val_accuracy: 0.4394\n",
      "Epoch 8/20\n",
      "586/586 [==============================] - 6s 11ms/step - loss: 1.5766 - accuracy: 0.3901 - val_loss: 1.5251 - val_accuracy: 0.4799\n",
      "Epoch 9/20\n",
      "586/586 [==============================] - 6s 11ms/step - loss: 1.5498 - accuracy: 0.4077 - val_loss: 1.4941 - val_accuracy: 0.4771\n",
      "Epoch 10/20\n",
      "586/586 [==============================] - 6s 11ms/step - loss: 1.5225 - accuracy: 0.4178 - val_loss: 1.4615 - val_accuracy: 0.5058\n",
      "Epoch 11/20\n",
      "586/586 [==============================] - 6s 11ms/step - loss: 1.4974 - accuracy: 0.4252 - val_loss: 1.4301 - val_accuracy: 0.5260\n",
      "Epoch 12/20\n",
      "586/586 [==============================] - 6s 11ms/step - loss: 1.4706 - accuracy: 0.4442 - val_loss: 1.4004 - val_accuracy: 0.5470\n",
      "Epoch 13/20\n",
      "586/586 [==============================] - 6s 11ms/step - loss: 1.4443 - accuracy: 0.4524 - val_loss: 1.3716 - val_accuracy: 0.5457\n",
      "Epoch 14/20\n",
      "586/586 [==============================] - 6s 11ms/step - loss: 1.4254 - accuracy: 0.4625 - val_loss: 1.3443 - val_accuracy: 0.5788\n",
      "Epoch 15/20\n",
      "586/586 [==============================] - 6s 11ms/step - loss: 1.3982 - accuracy: 0.4764 - val_loss: 1.3162 - val_accuracy: 0.5790\n",
      "Epoch 16/20\n",
      "586/586 [==============================] - 6s 11ms/step - loss: 1.3786 - accuracy: 0.4783 - val_loss: 1.2903 - val_accuracy: 0.6026\n",
      "Epoch 17/20\n",
      "586/586 [==============================] - 6s 11ms/step - loss: 1.3573 - accuracy: 0.4880 - val_loss: 1.2656 - val_accuracy: 0.6075\n",
      "Epoch 18/20\n",
      "586/586 [==============================] - 6s 11ms/step - loss: 1.3401 - accuracy: 0.5008 - val_loss: 1.2412 - val_accuracy: 0.6149\n",
      "Epoch 19/20\n",
      "586/586 [==============================] - 6s 11ms/step - loss: 1.3225 - accuracy: 0.5043 - val_loss: 1.2196 - val_accuracy: 0.6162\n",
      "Epoch 20/20\n",
      "586/586 [==============================] - 6s 11ms/step - loss: 1.3080 - accuracy: 0.5034 - val_loss: 1.1955 - val_accuracy: 0.6375\n",
      "temps d'apprentissage : 129.263 secondes\n"
     ]
    }
   ],
   "source": [
    "nn_nb_epochs = 20\n",
    "nn_batch_size = 20\n",
    "\n",
    "start = time.time()\n",
    "\n",
    "history= NN.fit(x_train,y_train,validation_data=(x_val,y_val), batch_size=nn_batch_size,epochs=nn_nb_epochs,verbose=1)\n",
    "\n",
    "end = time.time()\n",
    "\n",
    "training_time_nn = end - start\n",
    "\n",
    "print('temps d\\'apprentissage : {:.3f} secondes'.format(training_time_nn))"
   ]
  },
  {
   "attachments": {},
   "cell_type": "markdown",
   "id": "e47663db",
   "metadata": {},
   "source": [
    "On affiche l'évolution de la perte d'entrainement et de validation :"
   ]
  },
  {
   "cell_type": "code",
   "execution_count": 25,
   "id": "5d9ce924",
   "metadata": {},
   "outputs": [
    {
     "name": "stdout",
     "output_type": "stream",
     "text": [
      "--------------------------------------------------------------------\n",
      "Evaluate the trained CNN ...\n"
     ]
    },
    {
     "data": {
      "image/png": "[encoded data removed]",
      "text/plain": [
       "<Figure size 640x480 with 1 Axes>"
      ]
     },
     "metadata": {},
     "output_type": "display_data"
    }
   ],
   "source": [
    "print('--------------------------------------------------------------------\\n'\n",
    "      'Evaluate the trained CNN ...')\n",
    "\n",
    "# plotting the metrics\n",
    "\n",
    "fig = plt.figure()\n",
    "\n",
    "plt.plot(history.history['loss'])\n",
    "plt.plot(history.history['val_loss'])\n",
    "plt.title('model loss')\n",
    "plt.ylabel('loss')\n",
    "plt.xlabel('epoch')\n",
    "plt.legend(['train', 'validate'], loc='best')\n",
    "\n",
    "plt.show()"
   ]
  },
  {
   "attachments": {},
   "cell_type": "markdown",
   "id": "ad613eb8",
   "metadata": {},
   "source": [
    "On regarde maintenant la même chose mais pour l'*accuracy* :"
   ]
  },
  {
   "cell_type": "code",
   "execution_count": 26,
   "id": "aae44a47",
   "metadata": {},
   "outputs": [
    {
     "data": {
      "image/png": "[encoded data removed]",
      "text/plain": [
       "<Figure size 640x480 with 1 Axes>"
      ]
     },
     "metadata": {},
     "output_type": "display_data"
    }
   ],
   "source": [
    "fig = plt.figure()\n",
    "\n",
    "plt.plot(history.history['accuracy'])\n",
    "plt.plot(history.history['val_accuracy'])\n",
    "plt.title('model accuracy')\n",
    "plt.ylabel('accuracy')\n",
    "plt.xlabel('epoch')\n",
    "plt.legend(['train', 'validate'], loc='best')\n",
    "\n",
    "plt.show()"
   ]
  },
  {
   "cell_type": "markdown",
   "id": "c67f2d37",
   "metadata": {},
   "source": [
    "##### C- Phase de prédiction"
   ]
  },
  {
   "attachments": {},
   "cell_type": "markdown",
   "id": "5f798fe4",
   "metadata": {},
   "source": [
    "On teste maintenant les données de test sur le modèle entrainé :"
   ]
  },
  {
   "cell_type": "code",
   "execution_count": 27,
   "id": "69f13c8d",
   "metadata": {},
   "outputs": [
    {
     "name": "stdout",
     "output_type": "stream",
     "text": [
      "122/122 [==============================] - 1s 5ms/step\n",
      "temps de test : 0.812 secondes\n"
     ]
    }
   ],
   "source": [
    "start = time.time()\n",
    "\n",
    "y_pred_nn=NN.predict(x_test)\n",
    "\n",
    "end = time.time()\n",
    "\n",
    "testing_time_nn = end - start\n",
    "\n",
    "print('temps de test : {:.3f} secondes'.format(testing_time_nn))"
   ]
  },
  {
   "attachments": {},
   "cell_type": "markdown",
   "id": "bd2e1ef0",
   "metadata": {},
   "source": [
    "##### D- Évaluation"
   ]
  },
  {
   "attachments": {},
   "cell_type": "markdown",
   "id": "f293fd0a",
   "metadata": {},
   "source": [
    "On observe les *loss* et *accuracy* de test et d'entrainement :"
   ]
  },
  {
   "cell_type": "code",
   "execution_count": 28,
   "id": "10e77376",
   "metadata": {},
   "outputs": [
    {
     "name": "stdout",
     "output_type": "stream",
     "text": [
      "366/366 [==============================] - 2s 5ms/step - loss: 1.1956 - accuracy: 0.6416\n",
      "Loss_train: 1.195572018623352  Accuracy_train: 0.6416367888450623\n",
      "122/122 [==============================] - 1s 5ms/step - loss: 1.1946 - accuracy: 0.6375\n",
      "Loss_test: 1.1945781707763672  Accuracy_test: 0.6374583840370178\n"
     ]
    }
   ],
   "source": [
    "acc_train = NN.evaluate(x_train, y_train)\n",
    "print(\"Loss_train:\", acc_train[0], \" Accuracy_train:\", acc_train[1])\n",
    "\n",
    "\n",
    "acc_test = NN.evaluate(x_test, y_test)\n",
    "print(\"Loss_test:\", acc_test[0], \" Accuracy_test:\", acc_test[1])"
   ]
  },
  {
   "attachments": {},
   "cell_type": "markdown",
   "id": "5daf7baf",
   "metadata": {},
   "source": [
    "On trace la matrice de confusion associée aux prédictions :"
   ]
  },
  {
   "cell_type": "code",
   "execution_count": 29,
   "id": "43b87792",
   "metadata": {},
   "outputs": [
    {
     "data": {
      "text/plain": [
       "<sklearn.metrics._plot.confusion_matrix.ConfusionMatrixDisplay at 0x2a944d8a8f0>"
      ]
     },
     "execution_count": 29,
     "metadata": {},
     "output_type": "execute_result"
    },
    {
     "data": {
      "image/png": "[encoded data removed]",
      "text/plain": [
       "<Figure size 1000x1000 with 2 Axes>"
      ]
     },
     "metadata": {},
     "output_type": "display_data"
    }
   ],
   "source": [
    "cf_matrix = confusion_matrix(y_true=y_test.argmax(axis=1),\n",
    "                             y_pred=y_pred_nn.argmax(axis=1),\n",
    "                             normalize='true')\n",
    "\n",
    "cf_disp = ConfusionMatrixDisplay(confusion_matrix=cf_matrix,\n",
    "                               display_labels=class_names)\n",
    "\n",
    "fig, ax = plt.subplots(figsize=(10,10))\n",
    "cf_disp.plot(ax=ax)"
   ]
  },
  {
   "cell_type": "code",
   "execution_count": 30,
   "id": "7ec5707c",
   "metadata": {},
   "outputs": [
    {
     "name": "stdout",
     "output_type": "stream",
     "text": [
      "Accuracy: 0.637458 \n",
      "\n",
      "Precision: 0.590372 \n",
      "\n",
      "Recall: 0.564367 \n",
      "\n",
      "F1 score: 0.552329 \n",
      "\n"
     ]
    }
   ],
   "source": [
    "# accuracy: (tp + tn) / (fp + fn)\n",
    "accuracy_nn = accuracy_score(y_test.argmax(axis=1), y_pred_nn.argmax(axis=1))\n",
    "print('Accuracy: %f' % accuracy_nn, '\\n')\n",
    "# precision tp / (tp + fp)\n",
    "precision_nn = precision_score(y_test.argmax(axis=1), y_pred_nn.argmax(axis=1), average='macro', zero_division=0)\n",
    "print('Precision: %f' % precision_nn, '\\n')\n",
    "# recall: tp / (tp + fn)\n",
    "recall_nn = recall_score(y_test.argmax(axis=1), y_pred_nn.argmax(axis=1), average='macro', zero_division=0)\n",
    "print('Recall: %f' % recall_nn, '\\n')\n",
    "# f1: 2 tp / (2 tp + fp + fn)\n",
    "f1_nn = f1_score(y_test.argmax(axis=1), y_pred_nn.argmax(axis=1), average='macro', zero_division=0)\n",
    "print('F1 score: %f' % f1_nn, '\\n')"
   ]
  },
  {
   "attachments": {},
   "cell_type": "markdown",
   "id": "639efba5",
   "metadata": {},
   "source": [
    "#### 4- Réseau de neurone à convolution (CNN) model\n",
    "\n"
   ]
  },
  {
   "attachments": {},
   "cell_type": "markdown",
   "id": "e91ee0ef",
   "metadata": {},
   "source": [
    "On réalise les imports nécessaires au CNN :"
   ]
  },
  {
   "cell_type": "code",
   "execution_count": 31,
   "id": "6533265a",
   "metadata": {},
   "outputs": [],
   "source": [
    "from keras.models import Sequential\n",
    "from keras.layers import Dense, Conv1D, Flatten, MaxPooling1D"
   ]
  },
  {
   "attachments": {},
   "cell_type": "markdown",
   "id": "091b1b5d",
   "metadata": {},
   "source": [
    "On modifie les dimensions des données car le CNN demande 4 dimensions :"
   ]
  },
  {
   "cell_type": "code",
   "execution_count": 32,
   "id": "0d56199f",
   "metadata": {},
   "outputs": [
    {
     "name": "stdout",
     "output_type": "stream",
     "text": [
      "(11706, 1621, 1) (3903, 1621, 1) (3903, 1621, 1)\n"
     ]
    }
   ],
   "source": [
    "x_train_cnn = x_train.reshape(x_train.shape[0], x_train.shape[1], 1)\n",
    "x_val_cnn = x_val.reshape(x_val.shape[0], x_val.shape[1], 1)\n",
    "x_test_cnn = x_test.reshape(x_test.shape[0], x_test.shape[1], 1)\n",
    "\n",
    "print(x_train_cnn.shape, x_val_cnn.shape, x_test_cnn.shape)"
   ]
  },
  {
   "cell_type": "markdown",
   "id": "e24ba630",
   "metadata": {},
   "source": [
    "##### A-  Créer le modèle du CNN"
   ]
  },
  {
   "attachments": {},
   "cell_type": "markdown",
   "id": "3a449b46",
   "metadata": {},
   "source": [
    "A l'instar du NN, on instancie et on paramètre le CNN :"
   ]
  },
  {
   "cell_type": "code",
   "execution_count": 33,
   "id": "2078c3cf",
   "metadata": {},
   "outputs": [
    {
     "name": "stdout",
     "output_type": "stream",
     "text": [
      "Model: \"sequential_1\"\n",
      "_________________________________________________________________\n",
      " Layer (type)                Output Shape              Param #   \n",
      "=================================================================\n",
      " conv1d (Conv1D)             (None, 1620, 64)          192       \n",
      "                                                                 \n",
      " dense_4 (Dense)             (None, 1620, 16)          1040      \n",
      "                                                                 \n",
      " max_pooling1d (MaxPooling1D  (None, 810, 16)          0         \n",
      " )                                                               \n",
      "                                                                 \n",
      " flatten (Flatten)           (None, 12960)             0         \n",
      "                                                                 \n",
      " dense_5 (Dense)             (None, 8)                 103688    \n",
      "                                                                 \n",
      "=================================================================\n",
      "Total params: 104,920\n",
      "Trainable params: 104,920\n",
      "Non-trainable params: 0\n",
      "_________________________________________________________________\n"
     ]
    }
   ],
   "source": [
    "cnn_learning_rate = 0.00000000001\n",
    "\n",
    "cnn = Sequential()\n",
    "cnn.add(Conv1D(64, 2, activation=\"relu\", input_shape=(x_train_cnn.shape[1],1)))\n",
    "cnn.add(Dense(16, activation=\"relu\"))\n",
    "cnn.add(MaxPooling1D())\n",
    "cnn.add(Flatten())\n",
    "cnn.add(Dense(len(my_dataset.target_names), activation = 'softmax'))\n",
    "optimizer = keras.optimizers.SGD(learning_rate=cnn_learning_rate)\n",
    "cnn.compile(loss = 'sparse_categorical_crossentropy', \n",
    "     optimizer = \"sgd\",    #adam           \n",
    "              metrics = ['accuracy'])\n",
    "cnn.summary()"
   ]
  },
  {
   "cell_type": "markdown",
   "id": "0b34d86e",
   "metadata": {},
   "source": [
    "##### B- Phase d'apprentissage"
   ]
  },
  {
   "attachments": {},
   "cell_type": "markdown",
   "id": "793a23b4",
   "metadata": {},
   "source": [
    "On entraine maintenant notre modèle sur les données de test :"
   ]
  },
  {
   "cell_type": "code",
   "execution_count": 34,
   "id": "32fc2f93",
   "metadata": {},
   "outputs": [
    {
     "name": "stdout",
     "output_type": "stream",
     "text": [
      "Epoch 1/20\n",
      "732/732 [==============================] - 11s 14ms/step - loss: 1.8501 - accuracy: 0.3153 - val_loss: 1.5807 - val_accuracy: 0.3764\n",
      "Epoch 2/20\n",
      "732/732 [==============================] - 10s 14ms/step - loss: 1.1381 - accuracy: 0.6365 - val_loss: 0.8471 - val_accuracy: 0.7668\n",
      "Epoch 3/20\n",
      "732/732 [==============================] - 10s 14ms/step - loss: 0.8098 - accuracy: 0.7555 - val_loss: 0.8003 - val_accuracy: 0.7697\n",
      "Epoch 4/20\n",
      "732/732 [==============================] - 10s 14ms/step - loss: 0.6769 - accuracy: 0.7939 - val_loss: 0.6945 - val_accuracy: 0.7935\n",
      "Epoch 5/20\n",
      "732/732 [==============================] - 10s 14ms/step - loss: 0.5869 - accuracy: 0.8268 - val_loss: 0.6209 - val_accuracy: 0.8219\n",
      "Epoch 6/20\n",
      "732/732 [==============================] - 10s 14ms/step - loss: 0.5311 - accuracy: 0.8473 - val_loss: 0.5379 - val_accuracy: 0.8468\n",
      "Epoch 7/20\n",
      "732/732 [==============================] - 10s 14ms/step - loss: 0.4930 - accuracy: 0.8573 - val_loss: 0.6503 - val_accuracy: 0.7907\n",
      "Epoch 8/20\n",
      "732/732 [==============================] - 10s 14ms/step - loss: 0.4522 - accuracy: 0.8712 - val_loss: 0.5812 - val_accuracy: 0.8224\n",
      "Epoch 9/20\n",
      "732/732 [==============================] - 10s 14ms/step - loss: 0.4256 - accuracy: 0.8754 - val_loss: 0.8262 - val_accuracy: 0.7671\n",
      "Epoch 10/20\n",
      "732/732 [==============================] - 10s 14ms/step - loss: 0.4034 - accuracy: 0.8806 - val_loss: 0.4957 - val_accuracy: 0.8586\n",
      "Epoch 11/20\n",
      "732/732 [==============================] - 10s 14ms/step - loss: 0.3775 - accuracy: 0.8862 - val_loss: 0.4143 - val_accuracy: 0.8903\n",
      "Epoch 12/20\n",
      "732/732 [==============================] - 11s 15ms/step - loss: 0.3598 - accuracy: 0.8938 - val_loss: 0.4355 - val_accuracy: 0.8837\n",
      "Epoch 13/20\n",
      "732/732 [==============================] - 9s 13ms/step - loss: 0.3408 - accuracy: 0.8983 - val_loss: 0.4253 - val_accuracy: 0.8832\n",
      "Epoch 14/20\n",
      "732/732 [==============================] - 9s 13ms/step - loss: 0.3309 - accuracy: 0.8989 - val_loss: 0.4801 - val_accuracy: 0.8650\n",
      "Epoch 15/20\n",
      "732/732 [==============================] - 10s 13ms/step - loss: 0.3116 - accuracy: 0.9099 - val_loss: 0.4342 - val_accuracy: 0.8780\n",
      "Epoch 16/20\n",
      "732/732 [==============================] - 9s 13ms/step - loss: 0.3044 - accuracy: 0.9076 - val_loss: 0.4807 - val_accuracy: 0.8637\n",
      "Epoch 17/20\n",
      "732/732 [==============================] - 10s 13ms/step - loss: 0.2923 - accuracy: 0.9115 - val_loss: 0.4287 - val_accuracy: 0.8798\n",
      "Epoch 18/20\n",
      "732/732 [==============================] - 9s 13ms/step - loss: 0.2767 - accuracy: 0.9169 - val_loss: 0.4171 - val_accuracy: 0.8906\n",
      "Epoch 19/20\n",
      "732/732 [==============================] - 9s 13ms/step - loss: 0.2688 - accuracy: 0.9185 - val_loss: 0.3800 - val_accuracy: 0.8993\n",
      "Epoch 20/20\n",
      "732/732 [==============================] - 10s 13ms/step - loss: 0.2603 - accuracy: 0.9229 - val_loss: 0.5970 - val_accuracy: 0.8317\n",
      "temps d'entrainement : 198.394 secondes\n"
     ]
    }
   ],
   "source": [
    "cnn_batch_size = 16\n",
    "cnn_nb_epochs = 20\n",
    "\n",
    "start = time.time()\n",
    "\n",
    "history=cnn.fit(x_train_cnn, y_train.argmax(axis=1),validation_data=(x_val_cnn,y_val.argmax(axis=1)), batch_size=cnn_batch_size,epochs=cnn_nb_epochs, verbose=1)\n",
    "\n",
    "end = time.time()\n",
    "\n",
    "training_time_cnn = end - start\n",
    "\n",
    "print('temps d\\'entrainement : {:.3f} secondes'.format(training_time_cnn))"
   ]
  },
  {
   "attachments": {},
   "cell_type": "markdown",
   "id": "62a59b5f",
   "metadata": {},
   "source": [
    "On affiche les *loss* et *accuracy* du modèle en fonction des epochs :"
   ]
  },
  {
   "cell_type": "code",
   "execution_count": 35,
   "id": "20c1ba2c",
   "metadata": {},
   "outputs": [
    {
     "data": {
      "image/png": "[encoded data removed]",
      "text/plain": [
       "<Figure size 640x480 with 1 Axes>"
      ]
     },
     "metadata": {},
     "output_type": "display_data"
    }
   ],
   "source": [
    "fig = plt.figure()\n",
    "\n",
    "plt.plot(history.history['loss'])\n",
    "plt.plot(history.history['val_loss'])\n",
    "plt.title('model loss')\n",
    "plt.ylabel('loss')\n",
    "plt.xlabel('epoch')\n",
    "plt.legend(['train', 'validate'], loc='best')\n",
    "\n",
    "plt.show()\n"
   ]
  },
  {
   "cell_type": "code",
   "execution_count": 36,
   "id": "5e8cdd4c",
   "metadata": {},
   "outputs": [
    {
     "data": {
      "image/png": "[encoded data removed]",
      "text/plain": [
       "<Figure size 640x480 with 1 Axes>"
      ]
     },
     "metadata": {},
     "output_type": "display_data"
    }
   ],
   "source": [
    "fig = plt.figure()\n",
    "\n",
    "plt.plot(history.history['accuracy'])\n",
    "plt.plot(history.history['val_accuracy'])\n",
    "plt.title('model accuracy')\n",
    "plt.ylabel('accuracy')\n",
    "plt.xlabel('epoch')\n",
    "plt.legend(['train', 'validate'], loc='best')\n",
    "\n",
    "plt.show()"
   ]
  },
  {
   "cell_type": "markdown",
   "id": "68fe392f",
   "metadata": {},
   "source": [
    "##### C- Phase de prédiction"
   ]
  },
  {
   "attachments": {},
   "cell_type": "markdown",
   "id": "52cb3b79",
   "metadata": {},
   "source": [
    "On réalise l'inférence des exemples de test sur le modèle :"
   ]
  },
  {
   "cell_type": "code",
   "execution_count": 37,
   "id": "52878d2d",
   "metadata": {},
   "outputs": [
    {
     "name": "stdout",
     "output_type": "stream",
     "text": [
      "122/122 [==============================] - 1s 10ms/step\n",
      "temps de test : 1.440 secondes\n"
     ]
    }
   ],
   "source": [
    "start = time.time()\n",
    "\n",
    "y_pred_cnn = cnn.predict(x_test_cnn)\n",
    "\n",
    "end = time.time()\n",
    "\n",
    "testing_time_cnn = end - start\n",
    "\n",
    "print('temps de test : {:.3f} secondes'.format(testing_time_cnn))"
   ]
  },
  {
   "attachments": {},
   "cell_type": "markdown",
   "id": "55ae0416",
   "metadata": {},
   "source": [
    "##### D- Évaluation"
   ]
  },
  {
   "attachments": {},
   "cell_type": "markdown",
   "id": "f9e01a15",
   "metadata": {},
   "source": [
    "On calcule les *loss* et *accuracy* :"
   ]
  },
  {
   "cell_type": "code",
   "execution_count": 38,
   "id": "6d3ebaf9",
   "metadata": {},
   "outputs": [
    {
     "name": "stdout",
     "output_type": "stream",
     "text": [
      "366/366 [==============================] - 4s 10ms/step - loss: 0.4403 - accuracy: 0.8588\n",
      "Loss_train: 0.44033947587013245  Accuracy_train: 0.8587903380393982\n",
      "122/122 [==============================] - 1s 9ms/step - loss: 0.6163 - accuracy: 0.8183\n",
      "Loss_test: 0.6162992119789124  Accuracy_test: 0.8183448910713196\n"
     ]
    }
   ],
   "source": [
    "acc_train = cnn.evaluate(x_train_cnn, y_train.argmax(axis=1))\n",
    "print(\"Loss_train:\", acc_train[0], \" Accuracy_train:\", acc_train[1])\n",
    "\n",
    "\n",
    "acc_test = cnn.evaluate(x_test_cnn, y_test.argmax(axis=1))\n",
    "print(\"Loss_test:\", acc_test[0], \" Accuracy_test:\", acc_test[1])"
   ]
  },
  {
   "attachments": {},
   "cell_type": "markdown",
   "id": "bc28676f",
   "metadata": {},
   "source": [
    "On affiche maintenant la matrice de confusion :"
   ]
  },
  {
   "cell_type": "code",
   "execution_count": 39,
   "id": "3d786884",
   "metadata": {},
   "outputs": [
    {
     "data": {
      "text/plain": [
       "<sklearn.metrics._plot.confusion_matrix.ConfusionMatrixDisplay at 0x2a94f117df0>"
      ]
     },
     "execution_count": 39,
     "metadata": {},
     "output_type": "execute_result"
    },
    {
     "data": {
      "image/png": "[encoded data removed]",
      "text/plain": [
       "<Figure size 1000x1000 with 2 Axes>"
      ]
     },
     "metadata": {},
     "output_type": "display_data"
    }
   ],
   "source": [
    "cf_matrix = confusion_matrix(y_true=y_test.argmax(axis=1),\n",
    "                             y_pred=y_pred_cnn.argmax(axis=1),\n",
    "                             normalize='true')\n",
    "\n",
    "cf_disp = ConfusionMatrixDisplay(confusion_matrix=cf_matrix,\n",
    "                               display_labels=class_names)\n",
    "\n",
    "fig, ax = plt.subplots(figsize=(10,10))\n",
    "cf_disp.plot(ax=ax)"
   ]
  },
  {
   "attachments": {},
   "cell_type": "markdown",
   "id": "85481365",
   "metadata": {},
   "source": [
    "Enfin, on calcule l'accuracy, la précision, le recall et le f1_score :"
   ]
  },
  {
   "cell_type": "code",
   "execution_count": 40,
   "id": "69b8ef04",
   "metadata": {},
   "outputs": [
    {
     "name": "stdout",
     "output_type": "stream",
     "text": [
      "Accuracy: 0.818345 \n",
      "\n",
      "Precision: 0.857265 \n",
      "\n",
      "Recall: 0.815587 \n",
      "\n",
      "F1 score: 0.825400 \n",
      "\n"
     ]
    }
   ],
   "source": [
    "# accuracy: (tp + tn) / (fp + fn)\n",
    "accuracy_cnn = accuracy_score(y_test.argmax(axis=1), y_pred_cnn.argmax(axis=1))\n",
    "print('Accuracy: %f' % accuracy_cnn, '\\n')\n",
    "# precision tp / (tp + fp)\n",
    "precision_cnn = precision_score(y_test.argmax(axis=1), y_pred_cnn.argmax(axis=1), average='macro', zero_division=0)\n",
    "print('Precision: %f' % precision_cnn, '\\n')\n",
    "# recall: tp / (tp + fn)\n",
    "recall_cnn = recall_score(y_test.argmax(axis=1), y_pred_cnn.argmax(axis=1), average='macro', zero_division=0)\n",
    "print('Recall: %f' % recall_cnn, '\\n')\n",
    "# f1: 2 tp / (2 tp + fp + fn)\n",
    "f1_cnn = f1_score(y_test.argmax(axis=1), y_pred_cnn.argmax(axis=1), average='macro', zero_division=0)\n",
    "print('F1 score: %f' % f1_cnn, '\\n')"
   ]
  },
  {
   "cell_type": "markdown",
   "id": "46d16aa7",
   "metadata": {},
   "source": [
    "### Avec 60% des données"
   ]
  },
  {
   "cell_type": "markdown",
   "id": "0c258ffd",
   "metadata": {},
   "source": [
    "On réalise les mêmes opérations que la section précédente mais avec 60% des données d'entrainement.\n",
    "  \n",
    "On calcule le nombre d'images à conserver dans l'ensemble d'entrainement :"
   ]
  },
  {
   "cell_type": "code",
   "execution_count": 41,
   "id": "4f8413b3",
   "metadata": {},
   "outputs": [
    {
     "data": {
      "text/plain": [
       "7023"
      ]
     },
     "execution_count": 41,
     "metadata": {},
     "output_type": "execute_result"
    }
   ],
   "source": [
    "nb_train_images_60 = int(x_train.shape[0]*0.6)\n",
    "\n",
    "nb_train_images_60"
   ]
  },
  {
   "cell_type": "markdown",
   "id": "0c788d28",
   "metadata": {},
   "source": [
    "#### 1- K-nearest neighbors algorithm (KNN)"
   ]
  },
  {
   "cell_type": "markdown",
   "id": "2aefc03f",
   "metadata": {},
   "source": [
    "##### A- Phase d'apprentissage"
   ]
  },
  {
   "cell_type": "code",
   "execution_count": 42,
   "id": "8bbed532",
   "metadata": {},
   "outputs": [
    {
     "name": "stdout",
     "output_type": "stream",
     "text": [
      "temps d'apprentissage : 0.016 secondes\n"
     ]
    }
   ],
   "source": [
    "import time\n",
    "\n",
    "knn_n_neighbors = 1\n",
    "\n",
    "start = time.time()\n",
    "\n",
    "knn_60 = KNeighborsClassifier(n_neighbors=knn_n_neighbors)\n",
    "\n",
    "# on entraine le modèle\n",
    "knn_60.fit(x_train_val[:nb_train_images_60,:],y_train_val[:nb_train_images_60,:]) # on combine l'ensemble d'entrainement et de validation\n",
    "\n",
    "end = time.time()\n",
    "\n",
    "training_time_knn_60 = end - start\n",
    "print('temps d\\'apprentissage : {:.3f} secondes'.format(training_time_knn_60))"
   ]
  },
  {
   "cell_type": "markdown",
   "id": "23487769",
   "metadata": {},
   "source": [
    "##### B- Phase de prédiction ou de test"
   ]
  },
  {
   "cell_type": "markdown",
   "id": "fdcaedf5",
   "metadata": {},
   "source": [
    "on réalise la prédiction avec le modèle précédemment créé :"
   ]
  },
  {
   "cell_type": "code",
   "execution_count": 43,
   "id": "e0f2cd55",
   "metadata": {},
   "outputs": [
    {
     "name": "stdout",
     "output_type": "stream",
     "text": [
      "temps de test : 1.360 secondes\n",
      "(3903, 8) (3903, 8)\n"
     ]
    }
   ],
   "source": [
    "start = time.time()\n",
    "\n",
    "y_pred_knn_60 = knn_60.predict(x_test)\n",
    "\n",
    "end = time.time()\n",
    "\n",
    "testing_time_knn_60 = end - start\n",
    "\n",
    "print('temps de test : {:.3f} secondes'.format(testing_time_knn_60))\n",
    "print(y_pred.shape, y_test.shape)"
   ]
  },
  {
   "cell_type": "markdown",
   "id": "b8a47556",
   "metadata": {},
   "source": [
    "##### C- Évaluation"
   ]
  },
  {
   "cell_type": "code",
   "execution_count": 44,
   "id": "ad309950",
   "metadata": {},
   "outputs": [
    {
     "name": "stdout",
     "output_type": "stream",
     "text": [
      "Accuracy: 0.894440 \n",
      "\n",
      "Precision: 0.792794 \n",
      "\n",
      "Recall: 0.770635 \n",
      "\n",
      "F1 score: 0.779747 \n",
      "\n"
     ]
    }
   ],
   "source": [
    "# accuracy: (tp + tn) / (fp + fn)\n",
    "accuracy_knn_60 = accuracy_score(y_test, y_pred_knn_60)\n",
    "print('Accuracy: %f' % accuracy_knn_60, '\\n')\n",
    "# precision tp / (tp + fp)\n",
    "precision_knn_60 = precision_score(y_test, y_pred_knn_60, average='macro', zero_division=0)\n",
    "print('Precision: %f' % precision_knn_60, '\\n')\n",
    "# recall: tp / (tp + fn)\n",
    "recall_knn_60 = recall_score(y_test, y_pred_knn_60, average='macro', zero_division=0)\n",
    "print('Recall: %f' % recall_knn_60, '\\n')\n",
    "# f1: 2 tp / (2 tp + fp + fn)\n",
    "f1_knn_60 = f1_score(y_test, y_pred_knn_60, average='macro', zero_division=0)\n",
    "print('F1 score: %f' % f1_knn_60, '\\n')"
   ]
  },
  {
   "cell_type": "markdown",
   "id": "bb50cc70",
   "metadata": {},
   "source": [
    "#### 2- Support vector machine (SVM) model"
   ]
  },
  {
   "cell_type": "markdown",
   "id": "72d81a93",
   "metadata": {},
   "source": [
    "##### A- Phase d'apprentissage"
   ]
  },
  {
   "cell_type": "code",
   "execution_count": 45,
   "id": "66751757",
   "metadata": {},
   "outputs": [
    {
     "name": "stdout",
     "output_type": "stream",
     "text": [
      "temps d'apprentissage : 17.402 secondes\n"
     ]
    }
   ],
   "source": [
    "from sklearn.svm import SVC\n",
    "\n",
    "svm_kernel = 'linear'\n",
    "\n",
    "start = time.time()\n",
    "\n",
    "svm_60 = SVC(kernel = svm_kernel, random_state = 0)\n",
    "\n",
    "#Entrainer le modèle pour les données\n",
    "\n",
    "svm_60.fit(x_train_val[:nb_train_images_60,:], y_train_val[:nb_train_images_60,:].argmax(axis=1))\n",
    "\n",
    "end = time.time()\n",
    "\n",
    "training_time_svm_60 = end - start\n",
    "\n",
    "print('temps d\\'apprentissage : {:.3f} secondes'.format(training_time_svm_60))"
   ]
  },
  {
   "cell_type": "markdown",
   "id": "1c1b0b0e",
   "metadata": {},
   "source": [
    "##### B- Phase de prédiction ou de test"
   ]
  },
  {
   "cell_type": "code",
   "execution_count": 46,
   "id": "3f552ab6",
   "metadata": {},
   "outputs": [
    {
     "name": "stdout",
     "output_type": "stream",
     "text": [
      "temps de test : 6.601 secondes\n"
     ]
    }
   ],
   "source": [
    "start = time.time()\n",
    "\n",
    "y_pred_svm_60 = svm_60.predict(x_test)\n",
    "\n",
    "end = time.time()\n",
    "\n",
    "testing_time_svm_60 = end - start\n",
    "\n",
    "print('temps de test : {:.3f} secondes'.format(testing_time_svm_60))"
   ]
  },
  {
   "cell_type": "markdown",
   "id": "29515b85",
   "metadata": {},
   "source": [
    "##### C- Évaluation"
   ]
  },
  {
   "cell_type": "code",
   "execution_count": 47,
   "id": "315f88c4",
   "metadata": {},
   "outputs": [
    {
     "name": "stdout",
     "output_type": "stream",
     "text": [
      "Accuracy: 0.910325 \n",
      "\n",
      "Precision: 0.909895 \n",
      "\n",
      "Recall: 0.907591 \n",
      "\n",
      "F1 score: 0.907732 \n",
      "\n"
     ]
    }
   ],
   "source": [
    "# accuracy: (tp + tn) / (fp + fn)\n",
    "accuracy_svm_60 = accuracy_score(y_test.argmax(axis=1), y_pred_svm_60)\n",
    "print('Accuracy: %f' % accuracy_svm_60, '\\n')\n",
    "# precision tp / (tp + fp)\n",
    "precision_svm_60 = precision_score(y_test.argmax(axis=1), y_pred_svm_60, average='macro', zero_division=0)\n",
    "print('Precision: %f' % precision_svm_60, '\\n')\n",
    "# recall: tp / (tp + fn)\n",
    "recall_svm_60 = recall_score(y_test.argmax(axis=1), y_pred_svm_60, average='macro', zero_division=0)\n",
    "print('Recall: %f' % recall_svm_60, '\\n')\n",
    "# f1: 2 tp / (2 tp + fp + fn)\n",
    "f1_svm_60 = f1_score(y_test.argmax(axis=1), y_pred_svm_60, average='macro', zero_division=0)\n",
    "print('F1 score: %f' % f1_svm_60, '\\n')"
   ]
  },
  {
   "cell_type": "markdown",
   "id": "f74e21fe",
   "metadata": {},
   "source": [
    "#### 3- Réseau de neurone (NN) model"
   ]
  },
  {
   "cell_type": "markdown",
   "id": "0407d01b",
   "metadata": {},
   "source": [
    "##### A-  Créer le modèle du réseau de neurone"
   ]
  },
  {
   "cell_type": "code",
   "execution_count": 48,
   "id": "059bcbbd",
   "metadata": {},
   "outputs": [],
   "source": [
    "nn_learning_rate = 0.000001\n",
    "\n",
    "NN_60=Sequential()\n",
    "NN_60.add(Dense(1000,input_dim=len(my_dataset.feature_names),activation='relu'))\n",
    "NN_60.add(Dense(500,activation='relu'))\n",
    "NN_60.add(Dense(300,activation='relu'))\n",
    "NN_60.add(Dropout(0.2))\n",
    "NN_60.add(Dense(len(my_dataset.target_names),activation='softmax'))\n",
    "optimizer = keras.optimizers.Adam(learning_rate=nn_learning_rate)\n",
    "NN_60.compile(loss='categorical_crossentropy',optimizer=optimizer,metrics=['accuracy'])"
   ]
  },
  {
   "cell_type": "markdown",
   "id": "7ea7842b",
   "metadata": {},
   "source": [
    "##### B- Phase d'apprentissage"
   ]
  },
  {
   "cell_type": "code",
   "execution_count": 49,
   "id": "dbfe5d62",
   "metadata": {},
   "outputs": [
    {
     "name": "stdout",
     "output_type": "stream",
     "text": [
      "Epoch 1/20\n",
      "352/352 [==============================] - 5s 12ms/step - loss: 1.9187 - accuracy: 0.1783 - val_loss: 1.8363 - val_accuracy: 0.2037\n",
      "Epoch 2/20\n",
      "352/352 [==============================] - 4s 12ms/step - loss: 1.8121 - accuracy: 0.2230 - val_loss: 1.7833 - val_accuracy: 0.2670\n",
      "Epoch 3/20\n",
      "352/352 [==============================] - 4s 12ms/step - loss: 1.7707 - accuracy: 0.2543 - val_loss: 1.7479 - val_accuracy: 0.3003\n",
      "Epoch 4/20\n",
      "352/352 [==============================] - 4s 11ms/step - loss: 1.7422 - accuracy: 0.2710 - val_loss: 1.7185 - val_accuracy: 0.3223\n",
      "Epoch 5/20\n",
      "352/352 [==============================] - 4s 11ms/step - loss: 1.7138 - accuracy: 0.2986 - val_loss: 1.6920 - val_accuracy: 0.3497\n",
      "Epoch 6/20\n",
      "352/352 [==============================] - 4s 12ms/step - loss: 1.6917 - accuracy: 0.3175 - val_loss: 1.6674 - val_accuracy: 0.3646\n",
      "Epoch 7/20\n",
      "352/352 [==============================] - 4s 12ms/step - loss: 1.6662 - accuracy: 0.3369 - val_loss: 1.6427 - val_accuracy: 0.3882\n",
      "Epoch 8/20\n",
      "352/352 [==============================] - 4s 12ms/step - loss: 1.6488 - accuracy: 0.3457 - val_loss: 1.6199 - val_accuracy: 0.3851\n",
      "Epoch 9/20\n",
      "352/352 [==============================] - 4s 12ms/step - loss: 1.6248 - accuracy: 0.3659 - val_loss: 1.5980 - val_accuracy: 0.3997\n",
      "Epoch 10/20\n",
      "352/352 [==============================] - 4s 11ms/step - loss: 1.6069 - accuracy: 0.3770 - val_loss: 1.5758 - val_accuracy: 0.4143\n",
      "Epoch 11/20\n",
      "352/352 [==============================] - 4s 12ms/step - loss: 1.5863 - accuracy: 0.3820 - val_loss: 1.5543 - val_accuracy: 0.4230\n",
      "Epoch 12/20\n",
      "352/352 [==============================] - 4s 11ms/step - loss: 1.5710 - accuracy: 0.3946 - val_loss: 1.5322 - val_accuracy: 0.4468\n",
      "Epoch 13/20\n",
      "352/352 [==============================] - 4s 12ms/step - loss: 1.5545 - accuracy: 0.4028 - val_loss: 1.5115 - val_accuracy: 0.4484\n",
      "Epoch 14/20\n",
      "352/352 [==============================] - 4s 12ms/step - loss: 1.5283 - accuracy: 0.4146 - val_loss: 1.4902 - val_accuracy: 0.4901\n",
      "Epoch 15/20\n",
      "352/352 [==============================] - 4s 12ms/step - loss: 1.5098 - accuracy: 0.4333 - val_loss: 1.4686 - val_accuracy: 0.4865\n",
      "Epoch 16/20\n",
      "352/352 [==============================] - 4s 12ms/step - loss: 1.4936 - accuracy: 0.4411 - val_loss: 1.4483 - val_accuracy: 0.5070\n",
      "Epoch 17/20\n",
      "352/352 [==============================] - 4s 12ms/step - loss: 1.4727 - accuracy: 0.4490 - val_loss: 1.4281 - val_accuracy: 0.5296\n",
      "Epoch 18/20\n",
      "352/352 [==============================] - 4s 12ms/step - loss: 1.4603 - accuracy: 0.4528 - val_loss: 1.4087 - val_accuracy: 0.5240\n",
      "Epoch 19/20\n",
      "352/352 [==============================] - 4s 12ms/step - loss: 1.4489 - accuracy: 0.4554 - val_loss: 1.3898 - val_accuracy: 0.5437\n",
      "Epoch 20/20\n",
      "352/352 [==============================] - 4s 12ms/step - loss: 1.4325 - accuracy: 0.4679 - val_loss: 1.3716 - val_accuracy: 0.5568\n",
      "temps d'apprentissage : 82.473 secondes\n"
     ]
    }
   ],
   "source": [
    "nn_nb_epochs = 20\n",
    "nn_batch_size = 20\n",
    "\n",
    "start = time.time()\n",
    "\n",
    "history= NN_60.fit(x_train[:nb_train_images_60,:],y_train[:nb_train_images_60,:],validation_data=(x_val,y_val), batch_size=nn_batch_size,epochs=nn_nb_epochs,verbose=1)\n",
    "\n",
    "end = time.time()\n",
    "\n",
    "training_time_nn_60 = end - start\n",
    "\n",
    "print('temps d\\'apprentissage : {:.3f} secondes'.format(training_time_nn_60))"
   ]
  },
  {
   "cell_type": "markdown",
   "id": "893aaebc",
   "metadata": {},
   "source": [
    "##### C- Phase de prédiction"
   ]
  },
  {
   "cell_type": "code",
   "execution_count": 50,
   "id": "dd88a009",
   "metadata": {},
   "outputs": [
    {
     "name": "stdout",
     "output_type": "stream",
     "text": [
      "122/122 [==============================] - 1s 5ms/step\n",
      "temps de test : 0.778 secondes\n"
     ]
    }
   ],
   "source": [
    "start = time.time()\n",
    "\n",
    "y_pred_nn_60=NN_60.predict(x_test)\n",
    "\n",
    "end = time.time()\n",
    "\n",
    "testing_time_nn_60 = end - start\n",
    "\n",
    "print('temps de test : {:.3f} secondes'.format(testing_time_nn_60))"
   ]
  },
  {
   "cell_type": "markdown",
   "id": "af6751e6",
   "metadata": {},
   "source": [
    "##### D- Évaluation"
   ]
  },
  {
   "cell_type": "code",
   "execution_count": 51,
   "id": "4fbcb91d",
   "metadata": {},
   "outputs": [
    {
     "name": "stdout",
     "output_type": "stream",
     "text": [
      "Accuracy: 0.549321 \n",
      "\n",
      "Precision: 0.589413 \n",
      "\n",
      "Recall: 0.461743 \n",
      "\n",
      "F1 score: 0.457405 \n",
      "\n"
     ]
    }
   ],
   "source": [
    "# accuracy: (tp + tn) / (fp + fn)\n",
    "accuracy_nn_60 = accuracy_score(y_test.argmax(axis=1), y_pred_nn_60.argmax(axis=1))\n",
    "print('Accuracy: %f' % accuracy_nn_60, '\\n')\n",
    "# precision tp / (tp + fp)\n",
    "precision_nn_60 = precision_score(y_test.argmax(axis=1), y_pred_nn_60.argmax(axis=1), average='macro', zero_division=0)\n",
    "print('Precision: %f' % precision_nn_60, '\\n')\n",
    "# recall: tp / (tp + fn)\n",
    "recall_nn_60 = recall_score(y_test.argmax(axis=1), y_pred_nn_60.argmax(axis=1), average='macro', zero_division=0)\n",
    "print('Recall: %f' % recall_nn_60, '\\n')\n",
    "# f1: 2 tp / (2 tp + fp + fn)\n",
    "f1_nn_60 = f1_score(y_test.argmax(axis=1), y_pred_nn_60.argmax(axis=1), average='macro', zero_division=0)\n",
    "print('F1 score: %f' % f1_nn_60, '\\n')"
   ]
  },
  {
   "attachments": {},
   "cell_type": "markdown",
   "id": "f18a4a69",
   "metadata": {},
   "source": [
    "#### 4- Réseau de neurone à convolution (CNN) model\n",
    "\n"
   ]
  },
  {
   "cell_type": "markdown",
   "id": "6f5087f2",
   "metadata": {},
   "source": [
    "##### A-  Créer le modèle du CNN"
   ]
  },
  {
   "cell_type": "code",
   "execution_count": 52,
   "id": "d50a56b2",
   "metadata": {},
   "outputs": [],
   "source": [
    "cnn_learning_rate = 0.00000000001\n",
    "\n",
    "cnn_60 = Sequential()\n",
    "cnn_60.add(Conv1D(64, 2, activation=\"relu\", input_shape=(x_train_cnn.shape[1],1)))\n",
    "cnn_60.add(Dense(16, activation=\"relu\"))\n",
    "cnn_60.add(MaxPooling1D())\n",
    "cnn_60.add(Flatten())\n",
    "cnn_60.add(Dense(len(my_dataset.target_names), activation = 'softmax'))\n",
    "optimizer = keras.optimizers.SGD(learning_rate=cnn_learning_rate)\n",
    "cnn_60.compile(loss = 'sparse_categorical_crossentropy', \n",
    "     optimizer = \"sgd\",    #adam           \n",
    "              metrics = ['accuracy'])"
   ]
  },
  {
   "cell_type": "markdown",
   "id": "4cc902bf",
   "metadata": {},
   "source": [
    "##### B- Phase d'apprentissage"
   ]
  },
  {
   "cell_type": "code",
   "execution_count": 53,
   "id": "35e7be7b",
   "metadata": {},
   "outputs": [
    {
     "name": "stdout",
     "output_type": "stream",
     "text": [
      "Epoch 1/20\n",
      "439/439 [==============================] - 7s 15ms/step - loss: 1.9034 - accuracy: 0.2945 - val_loss: 1.6375 - val_accuracy: 0.5019\n",
      "Epoch 2/20\n",
      "439/439 [==============================] - 7s 15ms/step - loss: 1.3994 - accuracy: 0.5425 - val_loss: 1.5780 - val_accuracy: 0.4696\n",
      "Epoch 3/20\n",
      "439/439 [==============================] - 7s 15ms/step - loss: 1.0772 - accuracy: 0.6632 - val_loss: 1.0182 - val_accuracy: 0.6913\n",
      "Epoch 4/20\n",
      "439/439 [==============================] - 7s 15ms/step - loss: 0.8812 - accuracy: 0.7366 - val_loss: 1.3905 - val_accuracy: 0.5414\n",
      "Epoch 5/20\n",
      "439/439 [==============================] - 7s 15ms/step - loss: 0.7732 - accuracy: 0.7655 - val_loss: 0.7940 - val_accuracy: 0.7633\n",
      "Epoch 6/20\n",
      "439/439 [==============================] - 7s 15ms/step - loss: 0.6993 - accuracy: 0.7898 - val_loss: 0.6643 - val_accuracy: 0.8078\n",
      "Epoch 7/20\n",
      "439/439 [==============================] - 7s 15ms/step - loss: 0.6321 - accuracy: 0.8150 - val_loss: 0.6261 - val_accuracy: 0.8235\n",
      "Epoch 8/20\n",
      "439/439 [==============================] - 7s 15ms/step - loss: 0.5875 - accuracy: 0.8236 - val_loss: 0.6096 - val_accuracy: 0.8327\n",
      "Epoch 9/20\n",
      "439/439 [==============================] - 7s 15ms/step - loss: 0.5492 - accuracy: 0.8390 - val_loss: 0.5762 - val_accuracy: 0.8429\n",
      "Epoch 10/20\n",
      "439/439 [==============================] - 7s 16ms/step - loss: 0.5217 - accuracy: 0.8488 - val_loss: 0.7328 - val_accuracy: 0.7766\n",
      "Epoch 11/20\n",
      "439/439 [==============================] - 7s 15ms/step - loss: 0.4833 - accuracy: 0.8553 - val_loss: 0.5821 - val_accuracy: 0.8401\n",
      "Epoch 12/20\n",
      "439/439 [==============================] - 7s 15ms/step - loss: 0.4547 - accuracy: 0.8704 - val_loss: 0.5886 - val_accuracy: 0.8204\n",
      "Epoch 13/20\n",
      "439/439 [==============================] - 7s 15ms/step - loss: 0.4363 - accuracy: 0.8711 - val_loss: 0.5312 - val_accuracy: 0.8560\n",
      "Epoch 14/20\n",
      "439/439 [==============================] - 7s 15ms/step - loss: 0.4089 - accuracy: 0.8801 - val_loss: 0.4708 - val_accuracy: 0.8768\n",
      "Epoch 15/20\n",
      "439/439 [==============================] - 7s 15ms/step - loss: 0.3832 - accuracy: 0.8852 - val_loss: 0.4677 - val_accuracy: 0.8811\n",
      "Epoch 16/20\n",
      "439/439 [==============================] - 7s 15ms/step - loss: 0.3715 - accuracy: 0.8894 - val_loss: 0.4617 - val_accuracy: 0.8765\n",
      "Epoch 17/20\n",
      "439/439 [==============================] - 7s 15ms/step - loss: 0.3551 - accuracy: 0.8959 - val_loss: 0.4764 - val_accuracy: 0.8773\n",
      "Epoch 18/20\n",
      "439/439 [==============================] - 7s 15ms/step - loss: 0.3384 - accuracy: 0.8993 - val_loss: 0.4650 - val_accuracy: 0.8762\n",
      "Epoch 19/20\n",
      "439/439 [==============================] - 7s 15ms/step - loss: 0.3381 - accuracy: 0.8983 - val_loss: 0.4671 - val_accuracy: 0.8711\n",
      "Epoch 20/20\n",
      "439/439 [==============================] - 7s 15ms/step - loss: 0.3160 - accuracy: 0.9018 - val_loss: 0.4683 - val_accuracy: 0.8762\n",
      "temps d'entrainement : 133.488 secondes\n"
     ]
    }
   ],
   "source": [
    "cnn_batch_size = 16\n",
    "cnn_nb_epochs = 20\n",
    "\n",
    "start = time.time()\n",
    "\n",
    "history=cnn_60.fit(x_train_cnn[:nb_train_images_60,:], y_train[:nb_train_images_60,:].argmax(axis=1),\n",
    "                    validation_data=(x_val_cnn,y_val.argmax(axis=1)), batch_size=cnn_batch_size,epochs=cnn_nb_epochs, verbose=1)\n",
    "\n",
    "end = time.time()\n",
    "\n",
    "training_time_cnn_60 = end - start\n",
    "\n",
    "print('temps d\\'entrainement : {:.3f} secondes'.format(training_time_cnn_60))"
   ]
  },
  {
   "cell_type": "markdown",
   "id": "ebcbd376",
   "metadata": {},
   "source": [
    "##### C- Phase de prédiction"
   ]
  },
  {
   "cell_type": "code",
   "execution_count": 54,
   "id": "ea8a2d4f",
   "metadata": {},
   "outputs": [
    {
     "name": "stdout",
     "output_type": "stream",
     "text": [
      "122/122 [==============================] - 1s 10ms/step\n",
      "temps de test : 1.442 secondes\n"
     ]
    }
   ],
   "source": [
    "start = time.time()\n",
    "\n",
    "y_pred_cnn_60 = cnn_60.predict(x_test_cnn)\n",
    "\n",
    "end = time.time()\n",
    "\n",
    "testing_time_cnn_60 = end - start\n",
    "\n",
    "print('temps de test : {:.3f} secondes'.format(testing_time_cnn_60))"
   ]
  },
  {
   "cell_type": "markdown",
   "id": "8364c62f",
   "metadata": {},
   "source": [
    "##### D- Évaluation"
   ]
  },
  {
   "cell_type": "code",
   "execution_count": 55,
   "id": "7a40d507",
   "metadata": {},
   "outputs": [
    {
     "name": "stdout",
     "output_type": "stream",
     "text": [
      "Accuracy: 0.868563 \n",
      "\n",
      "Precision: 0.884503 \n",
      "\n",
      "Recall: 0.857442 \n",
      "\n",
      "F1 score: 0.865090 \n",
      "\n"
     ]
    }
   ],
   "source": [
    "# accuracy: (tp + tn) / (fp + fn)\n",
    "accuracy_cnn_60 = accuracy_score(y_test.argmax(axis=1), y_pred_cnn_60.argmax(axis=1))\n",
    "print('Accuracy: %f' % accuracy_cnn_60, '\\n')\n",
    "# precision tp / (tp + fp)\n",
    "precision_cnn_60 = precision_score(y_test.argmax(axis=1), y_pred_cnn_60.argmax(axis=1), average='macro', zero_division=0)\n",
    "print('Precision: %f' % precision_cnn_60, '\\n')\n",
    "# recall: tp / (tp + fn)\n",
    "recall_cnn_60 = recall_score(y_test.argmax(axis=1), y_pred_cnn_60.argmax(axis=1), average='macro', zero_division=0)\n",
    "print('Recall: %f' % recall_cnn_60, '\\n')\n",
    "# f1: 2 tp / (2 tp + fp + fn)\n",
    "f1_cnn_60 = f1_score(y_test.argmax(axis=1), y_pred_cnn_60.argmax(axis=1), average='macro', zero_division=0)\n",
    "print('F1 score: %f' % f1_cnn_60, '\\n')"
   ]
  },
  {
   "attachments": {},
   "cell_type": "markdown",
   "id": "b875e5a3",
   "metadata": {},
   "source": [
    "### Avec 80% des données"
   ]
  },
  {
   "cell_type": "markdown",
   "id": "645254e7",
   "metadata": {},
   "source": [
    "On réalise les mêmes opérations que la section précédente mais avec 80% des données d'entrainement.\n",
    "  \n",
    "On calcule le nombre d'images à conserver dans l'ensemble d'entrainement :"
   ]
  },
  {
   "cell_type": "code",
   "execution_count": 56,
   "id": "48aa06f8",
   "metadata": {},
   "outputs": [
    {
     "data": {
      "text/plain": [
       "9364"
      ]
     },
     "execution_count": 56,
     "metadata": {},
     "output_type": "execute_result"
    }
   ],
   "source": [
    "nb_train_images_80 = int(x_train.shape[0]*0.8)\n",
    "\n",
    "nb_train_images_80"
   ]
  },
  {
   "cell_type": "markdown",
   "id": "9ffb6f1f",
   "metadata": {},
   "source": [
    "#### 1- K-nearest neighbors algorithm (KNN)"
   ]
  },
  {
   "cell_type": "markdown",
   "id": "abd5b7b4",
   "metadata": {},
   "source": [
    "##### A- Phase d'apprentissage"
   ]
  },
  {
   "cell_type": "code",
   "execution_count": 57,
   "id": "eac261f3",
   "metadata": {},
   "outputs": [
    {
     "name": "stdout",
     "output_type": "stream",
     "text": [
      "temps d'apprentissage : 0.023 secondes\n"
     ]
    }
   ],
   "source": [
    "import time\n",
    "\n",
    "knn_n_neighbors = 1\n",
    "\n",
    "start = time.time()\n",
    "\n",
    "knn_80 = KNeighborsClassifier(n_neighbors=knn_n_neighbors)\n",
    "\n",
    "# on entraine le modèle\n",
    "knn_80.fit(x_train_val[:nb_train_images_80,:],y_train_val[:nb_train_images_80,:]) # on combine l'ensemble d'entrainement et de validation\n",
    "\n",
    "end = time.time()\n",
    "\n",
    "training_time_knn_80 = end - start\n",
    "print('temps d\\'apprentissage : {:.3f} secondes'.format(training_time_knn_80))"
   ]
  },
  {
   "cell_type": "markdown",
   "id": "88546405",
   "metadata": {},
   "source": [
    "##### B- Phase de prédiction ou de test"
   ]
  },
  {
   "cell_type": "markdown",
   "id": "86814d2f",
   "metadata": {},
   "source": [
    "on réalise la prédiction avec le modèle précédemment créé :"
   ]
  },
  {
   "cell_type": "code",
   "execution_count": 58,
   "id": "b0cd39e4",
   "metadata": {},
   "outputs": [
    {
     "name": "stdout",
     "output_type": "stream",
     "text": [
      "temps de test : 1.857 secondes\n",
      "(3903, 8) (3903, 8)\n"
     ]
    }
   ],
   "source": [
    "start = time.time()\n",
    "\n",
    "y_pred_knn_80 = knn_80.predict(x_test)\n",
    "\n",
    "end = time.time()\n",
    "\n",
    "testing_time_knn_80 = end - start\n",
    "\n",
    "print('temps de test : {:.3f} secondes'.format(testing_time_knn_80))\n",
    "print(y_pred.shape, y_test.shape)"
   ]
  },
  {
   "cell_type": "markdown",
   "id": "610a44e0",
   "metadata": {},
   "source": [
    "##### C- Évaluation"
   ]
  },
  {
   "cell_type": "code",
   "execution_count": 59,
   "id": "52d5f4b4",
   "metadata": {},
   "outputs": [
    {
     "name": "stdout",
     "output_type": "stream",
     "text": [
      "Accuracy: 0.909557 \n",
      "\n",
      "Precision: 0.802976 \n",
      "\n",
      "Recall: 0.785194 \n",
      "\n",
      "F1 score: 0.792575 \n",
      "\n"
     ]
    }
   ],
   "source": [
    "# accuracy: (tp + tn) / (fp + fn)\n",
    "accuracy_knn_80 = accuracy_score(y_test, y_pred_knn_80)\n",
    "print('Accuracy: %f' % accuracy_knn_80, '\\n')\n",
    "# precision tp / (tp + fp)\n",
    "precision_knn_80 = precision_score(y_test, y_pred_knn_80, average='macro', zero_division=0)\n",
    "print('Precision: %f' % precision_knn_80, '\\n')\n",
    "# recall: tp / (tp + fn)\n",
    "recall_knn_80 = recall_score(y_test, y_pred_knn_80, average='macro', zero_division=0)\n",
    "print('Recall: %f' % recall_knn_80, '\\n')\n",
    "# f1: 2 tp / (2 tp + fp + fn)\n",
    "f1_knn_80 = f1_score(y_test, y_pred_knn_80, average='macro', zero_division=0)\n",
    "print('F1 score: %f' % f1_knn_80, '\\n')"
   ]
  },
  {
   "cell_type": "markdown",
   "id": "f4aaeb22",
   "metadata": {},
   "source": [
    "#### 2- Support vector machine (SVM) model"
   ]
  },
  {
   "cell_type": "markdown",
   "id": "75bc8f11",
   "metadata": {},
   "source": [
    "##### A- Phase d'apprentissage"
   ]
  },
  {
   "cell_type": "code",
   "execution_count": 60,
   "id": "b8ae3b20",
   "metadata": {},
   "outputs": [
    {
     "name": "stdout",
     "output_type": "stream",
     "text": [
      "temps d'apprentissage : 26.198 secondes\n"
     ]
    }
   ],
   "source": [
    "from sklearn.svm import SVC\n",
    "\n",
    "svm_kernel = 'linear'\n",
    "\n",
    "start = time.time()\n",
    "\n",
    "svm_80 = SVC(kernel = svm_kernel, random_state = 0)\n",
    "\n",
    "#Entrainer le modèle pour les données\n",
    "\n",
    "svm_80.fit(x_train_val[:nb_train_images_80,:], y_train_val[:nb_train_images_80,:].argmax(axis=1))\n",
    "\n",
    "end = time.time()\n",
    "\n",
    "training_time_svm_80 = end - start\n",
    "\n",
    "print('temps d\\'apprentissage : {:.3f} secondes'.format(training_time_svm_80))"
   ]
  },
  {
   "cell_type": "markdown",
   "id": "b5fc15dc",
   "metadata": {},
   "source": [
    "##### B- Phase de prédiction ou de test"
   ]
  },
  {
   "cell_type": "code",
   "execution_count": 61,
   "id": "174bff8e",
   "metadata": {},
   "outputs": [
    {
     "name": "stdout",
     "output_type": "stream",
     "text": [
      "temps de test : 8.151 secondes\n"
     ]
    }
   ],
   "source": [
    "start = time.time()\n",
    "\n",
    "y_pred_svm_80 = svm_80.predict(x_test)\n",
    "\n",
    "end = time.time()\n",
    "\n",
    "testing_time_svm_80 = end - start\n",
    "\n",
    "print('temps de test : {:.3f} secondes'.format(testing_time_svm_80))"
   ]
  },
  {
   "cell_type": "markdown",
   "id": "0d412a0e",
   "metadata": {},
   "source": [
    "##### C- Évaluation"
   ]
  },
  {
   "cell_type": "code",
   "execution_count": 62,
   "id": "35180d11",
   "metadata": {},
   "outputs": [
    {
     "name": "stdout",
     "output_type": "stream",
     "text": [
      "Accuracy: 0.924673 \n",
      "\n",
      "Precision: 0.924549 \n",
      "\n",
      "Recall: 0.924706 \n",
      "\n",
      "F1 score: 0.924206 \n",
      "\n"
     ]
    }
   ],
   "source": [
    "# accuracy: (tp + tn) / (fp + fn)\n",
    "accuracy_svm_80 = accuracy_score(y_test.argmax(axis=1), y_pred_svm_80)\n",
    "print('Accuracy: %f' % accuracy_svm_80, '\\n')\n",
    "# precision tp / (tp + fp)\n",
    "precision_svm_80 = precision_score(y_test.argmax(axis=1), y_pred_svm_80, average='macro', zero_division=0)\n",
    "print('Precision: %f' % precision_svm_80, '\\n')\n",
    "# recall: tp / (tp + fn)\n",
    "recall_svm_80 = recall_score(y_test.argmax(axis=1), y_pred_svm_80, average='macro', zero_division=0)\n",
    "print('Recall: %f' % recall_svm_80, '\\n')\n",
    "# f1: 2 tp / (2 tp + fp + fn)\n",
    "f1_svm_80 = f1_score(y_test.argmax(axis=1), y_pred_svm_80, average='macro', zero_division=0)\n",
    "print('F1 score: %f' % f1_svm_80, '\\n')"
   ]
  },
  {
   "cell_type": "markdown",
   "id": "16200775",
   "metadata": {},
   "source": [
    "#### 3- Réseau de neurone (NN) model"
   ]
  },
  {
   "cell_type": "markdown",
   "id": "a37daff2",
   "metadata": {},
   "source": [
    "##### A-  Créer le modèle du réseau de neurone"
   ]
  },
  {
   "cell_type": "code",
   "execution_count": 63,
   "id": "170cc04a",
   "metadata": {},
   "outputs": [],
   "source": [
    "nn_learning_rate = 0.000001\n",
    "\n",
    "NN_80=Sequential()\n",
    "NN_80.add(Dense(1000,input_dim=len(my_dataset.feature_names),activation='relu'))\n",
    "NN_80.add(Dense(500,activation='relu'))\n",
    "NN_80.add(Dense(300,activation='relu'))\n",
    "NN_80.add(Dropout(0.2))\n",
    "NN_80.add(Dense(len(my_dataset.target_names),activation='softmax'))\n",
    "optimizer = keras.optimizers.Adam(learning_rate=nn_learning_rate)\n",
    "NN_80.compile(loss='categorical_crossentropy',optimizer=optimizer,metrics=['accuracy'])"
   ]
  },
  {
   "cell_type": "markdown",
   "id": "0314cda2",
   "metadata": {},
   "source": [
    "##### B- Phase d'apprentissage"
   ]
  },
  {
   "cell_type": "code",
   "execution_count": 64,
   "id": "467e53b8",
   "metadata": {},
   "outputs": [
    {
     "name": "stdout",
     "output_type": "stream",
     "text": [
      "Epoch 1/20\n",
      "469/469 [==============================] - 6s 12ms/step - loss: 1.9020 - accuracy: 0.1646 - val_loss: 1.8206 - val_accuracy: 0.2683\n",
      "Epoch 2/20\n",
      "469/469 [==============================] - 5s 11ms/step - loss: 1.8016 - accuracy: 0.2296 - val_loss: 1.7640 - val_accuracy: 0.2941\n",
      "Epoch 3/20\n",
      "469/469 [==============================] - 5s 11ms/step - loss: 1.7547 - accuracy: 0.2525 - val_loss: 1.7214 - val_accuracy: 0.3297\n",
      "Epoch 4/20\n",
      "469/469 [==============================] - 5s 11ms/step - loss: 1.7222 - accuracy: 0.2831 - val_loss: 1.6866 - val_accuracy: 0.3633\n",
      "Epoch 5/20\n",
      "469/469 [==============================] - 5s 11ms/step - loss: 1.6896 - accuracy: 0.3024 - val_loss: 1.6550 - val_accuracy: 0.3705\n",
      "Epoch 6/20\n",
      "469/469 [==============================] - 6s 12ms/step - loss: 1.6706 - accuracy: 0.3112 - val_loss: 1.6273 - val_accuracy: 0.3892\n",
      "Epoch 7/20\n",
      "469/469 [==============================] - 5s 11ms/step - loss: 1.6432 - accuracy: 0.3318 - val_loss: 1.6002 - val_accuracy: 0.3951\n",
      "Epoch 8/20\n",
      "469/469 [==============================] - 5s 11ms/step - loss: 1.6193 - accuracy: 0.3517 - val_loss: 1.5757 - val_accuracy: 0.4389\n",
      "Epoch 9/20\n",
      "469/469 [==============================] - 5s 11ms/step - loss: 1.5960 - accuracy: 0.3653 - val_loss: 1.5504 - val_accuracy: 0.4292\n",
      "Epoch 10/20\n",
      "469/469 [==============================] - 5s 11ms/step - loss: 1.5745 - accuracy: 0.3786 - val_loss: 1.5255 - val_accuracy: 0.4502\n",
      "Epoch 11/20\n",
      "469/469 [==============================] - 5s 11ms/step - loss: 1.5537 - accuracy: 0.3941 - val_loss: 1.5020 - val_accuracy: 0.4417\n",
      "Epoch 12/20\n",
      "469/469 [==============================] - 6s 14ms/step - loss: 1.5283 - accuracy: 0.4094 - val_loss: 1.4783 - val_accuracy: 0.4940\n",
      "Epoch 13/20\n",
      "469/469 [==============================] - 5s 11ms/step - loss: 1.5104 - accuracy: 0.4246 - val_loss: 1.4538 - val_accuracy: 0.5147\n",
      "Epoch 14/20\n",
      "469/469 [==============================] - 5s 11ms/step - loss: 1.4852 - accuracy: 0.4340 - val_loss: 1.4304 - val_accuracy: 0.5219\n",
      "Epoch 15/20\n",
      "469/469 [==============================] - 5s 11ms/step - loss: 1.4672 - accuracy: 0.4456 - val_loss: 1.4075 - val_accuracy: 0.5378\n",
      "Epoch 16/20\n",
      "469/469 [==============================] - 5s 11ms/step - loss: 1.4567 - accuracy: 0.4507 - val_loss: 1.3860 - val_accuracy: 0.5286\n",
      "Epoch 17/20\n",
      "469/469 [==============================] - 5s 11ms/step - loss: 1.4297 - accuracy: 0.4625 - val_loss: 1.3645 - val_accuracy: 0.5650\n",
      "Epoch 18/20\n",
      "469/469 [==============================] - 5s 11ms/step - loss: 1.4157 - accuracy: 0.4680 - val_loss: 1.3436 - val_accuracy: 0.5826\n",
      "Epoch 19/20\n",
      "469/469 [==============================] - 5s 11ms/step - loss: 1.3929 - accuracy: 0.4795 - val_loss: 1.3238 - val_accuracy: 0.6057\n",
      "Epoch 20/20\n",
      "469/469 [==============================] - 5s 11ms/step - loss: 1.3747 - accuracy: 0.4909 - val_loss: 1.3025 - val_accuracy: 0.6093\n",
      "temps d'apprentissage : 106.948 secondes\n"
     ]
    }
   ],
   "source": [
    "nn_nb_epochs = 20\n",
    "nn_batch_size = 20\n",
    "\n",
    "start = time.time()\n",
    "\n",
    "history= NN_80.fit(x_train[:nb_train_images_80,:],y_train[:nb_train_images_80,:],validation_data=(x_val,y_val), batch_size=nn_batch_size,epochs=nn_nb_epochs,verbose=1)\n",
    "\n",
    "end = time.time()\n",
    "\n",
    "training_time_nn_80 = end - start\n",
    "\n",
    "print('temps d\\'apprentissage : {:.3f} secondes'.format(training_time_nn_80))"
   ]
  },
  {
   "cell_type": "markdown",
   "id": "2701c126",
   "metadata": {},
   "source": [
    "##### C- Phase de prédiction"
   ]
  },
  {
   "cell_type": "code",
   "execution_count": 65,
   "id": "ee8d6da4",
   "metadata": {},
   "outputs": [
    {
     "name": "stdout",
     "output_type": "stream",
     "text": [
      "122/122 [==============================] - 1s 5ms/step\n",
      "temps de test : 0.748 secondes\n"
     ]
    }
   ],
   "source": [
    "start = time.time()\n",
    "\n",
    "y_pred_nn_80=NN_80.predict(x_test)\n",
    "\n",
    "end = time.time()\n",
    "\n",
    "testing_time_nn_80 = end - start\n",
    "\n",
    "print('temps de test : {:.3f} secondes'.format(testing_time_nn_80))"
   ]
  },
  {
   "cell_type": "markdown",
   "id": "d9ac0c71",
   "metadata": {},
   "source": [
    "##### D- Évaluation"
   ]
  },
  {
   "cell_type": "code",
   "execution_count": 66,
   "id": "3e1a5d34",
   "metadata": {},
   "outputs": [
    {
     "name": "stdout",
     "output_type": "stream",
     "text": [
      "Accuracy: 0.611068 \n",
      "\n",
      "Precision: 0.601011 \n",
      "\n",
      "Recall: 0.535272 \n",
      "\n",
      "F1 score: 0.532639 \n",
      "\n"
     ]
    }
   ],
   "source": [
    "# accuracy: (tp + tn) / (fp + fn)\n",
    "accuracy_nn_80 = accuracy_score(y_test.argmax(axis=1), y_pred_nn_80.argmax(axis=1))\n",
    "print('Accuracy: %f' % accuracy_nn_80, '\\n')\n",
    "# precision tp / (tp + fp)\n",
    "precision_nn_80 = precision_score(y_test.argmax(axis=1), y_pred_nn_80.argmax(axis=1), average='macro', zero_division=0)\n",
    "print('Precision: %f' % precision_nn_80, '\\n')\n",
    "# recall: tp / (tp + fn)\n",
    "recall_nn_80 = recall_score(y_test.argmax(axis=1), y_pred_nn_80.argmax(axis=1), average='macro', zero_division=0)\n",
    "print('Recall: %f' % recall_nn_80, '\\n')\n",
    "# f1: 2 tp / (2 tp + fp + fn)\n",
    "f1_nn_80 = f1_score(y_test.argmax(axis=1), y_pred_nn_80.argmax(axis=1), average='macro', zero_division=0)\n",
    "print('F1 score: %f' % f1_nn_80, '\\n')"
   ]
  },
  {
   "attachments": {},
   "cell_type": "markdown",
   "id": "419f42a3",
   "metadata": {},
   "source": [
    "#### 4- Réseau de neurone à convolution (CNN) model\n"
   ]
  },
  {
   "cell_type": "markdown",
   "id": "44c65894",
   "metadata": {},
   "source": [
    "##### A-  Créer le modèle du CNN"
   ]
  },
  {
   "cell_type": "code",
   "execution_count": 67,
   "id": "a1b7e22b",
   "metadata": {},
   "outputs": [],
   "source": [
    "cnn_learning_rate = 0.00000000001\n",
    "\n",
    "cnn_80 = Sequential()\n",
    "cnn_80.add(Conv1D(64, 2, activation=\"relu\", input_shape=(x_train_cnn.shape[1],1)))\n",
    "cnn_80.add(Dense(16, activation=\"relu\"))\n",
    "cnn_80.add(MaxPooling1D())\n",
    "cnn_80.add(Flatten())\n",
    "cnn_80.add(Dense(len(my_dataset.target_names), activation = 'softmax'))\n",
    "optimizer = keras.optimizers.SGD(learning_rate=cnn_learning_rate)\n",
    "cnn_80.compile(loss = 'sparse_categorical_crossentropy', \n",
    "     optimizer = \"sgd\",    #adam           \n",
    "              metrics = ['accuracy'])"
   ]
  },
  {
   "cell_type": "markdown",
   "id": "016704a1",
   "metadata": {},
   "source": [
    "##### B- Phase d'apprentissage"
   ]
  },
  {
   "cell_type": "code",
   "execution_count": 68,
   "id": "b36a63d2",
   "metadata": {},
   "outputs": [
    {
     "name": "stdout",
     "output_type": "stream",
     "text": [
      "Epoch 1/20\n",
      "586/586 [==============================] - 9s 14ms/step - loss: 1.9222 - accuracy: 0.2743 - val_loss: 1.7193 - val_accuracy: 0.3295\n",
      "Epoch 2/20\n",
      "586/586 [==============================] - 8s 14ms/step - loss: 1.3486 - accuracy: 0.5623 - val_loss: 1.3372 - val_accuracy: 0.5368\n",
      "Epoch 3/20\n",
      "586/586 [==============================] - 8s 14ms/step - loss: 0.9667 - accuracy: 0.7028 - val_loss: 1.0437 - val_accuracy: 0.6462\n",
      "Epoch 4/20\n",
      "586/586 [==============================] - 8s 14ms/step - loss: 0.7867 - accuracy: 0.7631 - val_loss: 2.0792 - val_accuracy: 0.4130\n",
      "Epoch 5/20\n",
      "586/586 [==============================] - 8s 14ms/step - loss: 0.6838 - accuracy: 0.7911 - val_loss: 0.6778 - val_accuracy: 0.7971\n",
      "Epoch 6/20\n",
      "586/586 [==============================] - 8s 14ms/step - loss: 0.6158 - accuracy: 0.8169 - val_loss: 0.8520 - val_accuracy: 0.7607\n",
      "Epoch 7/20\n",
      "586/586 [==============================] - 8s 14ms/step - loss: 0.5591 - accuracy: 0.8354 - val_loss: 0.5790 - val_accuracy: 0.8437\n",
      "Epoch 8/20\n",
      "586/586 [==============================] - 8s 14ms/step - loss: 0.5153 - accuracy: 0.8473 - val_loss: 0.5306 - val_accuracy: 0.8583\n",
      "Epoch 9/20\n",
      "586/586 [==============================] - 8s 14ms/step - loss: 0.4721 - accuracy: 0.8601 - val_loss: 0.7421 - val_accuracy: 0.7855\n",
      "Epoch 10/20\n",
      "586/586 [==============================] - 8s 14ms/step - loss: 0.4564 - accuracy: 0.8670 - val_loss: 0.5410 - val_accuracy: 0.8573\n",
      "Epoch 11/20\n",
      "586/586 [==============================] - 8s 14ms/step - loss: 0.4269 - accuracy: 0.8763 - val_loss: 0.4922 - val_accuracy: 0.8665\n",
      "Epoch 12/20\n",
      "586/586 [==============================] - 8s 14ms/step - loss: 0.3984 - accuracy: 0.8806 - val_loss: 0.4666 - val_accuracy: 0.8780\n",
      "Epoch 13/20\n",
      "586/586 [==============================] - 8s 14ms/step - loss: 0.3762 - accuracy: 0.8883 - val_loss: 0.4725 - val_accuracy: 0.8762\n",
      "Epoch 14/20\n",
      "586/586 [==============================] - 9s 15ms/step - loss: 0.3600 - accuracy: 0.8914 - val_loss: 0.4974 - val_accuracy: 0.8624\n",
      "Epoch 15/20\n",
      "586/586 [==============================] - 9s 15ms/step - loss: 0.3502 - accuracy: 0.8935 - val_loss: 0.5032 - val_accuracy: 0.8634\n",
      "Epoch 16/20\n",
      "586/586 [==============================] - 9s 16ms/step - loss: 0.3334 - accuracy: 0.8993 - val_loss: 0.4708 - val_accuracy: 0.8757\n",
      "Epoch 17/20\n",
      "586/586 [==============================] - 8s 14ms/step - loss: 0.3172 - accuracy: 0.9047 - val_loss: 0.4155 - val_accuracy: 0.8944\n",
      "Epoch 18/20\n",
      "586/586 [==============================] - 8s 14ms/step - loss: 0.3053 - accuracy: 0.9053 - val_loss: 0.4316 - val_accuracy: 0.8860\n",
      "Epoch 19/20\n",
      "586/586 [==============================] - 8s 14ms/step - loss: 0.2953 - accuracy: 0.9109 - val_loss: 0.4135 - val_accuracy: 0.8868\n",
      "Epoch 20/20\n",
      "586/586 [==============================] - 8s 14ms/step - loss: 0.2840 - accuracy: 0.9116 - val_loss: 0.4460 - val_accuracy: 0.8832\n",
      "temps d'entrainement : 169.247 secondes\n"
     ]
    }
   ],
   "source": [
    "cnn_batch_size = 16\n",
    "cnn_nb_epochs = 20\n",
    "\n",
    "start = time.time()\n",
    "\n",
    "history=cnn_80.fit(x_train_cnn[:nb_train_images_80,:], y_train[:nb_train_images_80,:].argmax(axis=1),\n",
    "                    validation_data=(x_val_cnn,y_val.argmax(axis=1)), batch_size=cnn_batch_size,epochs=cnn_nb_epochs, verbose=1)\n",
    "\n",
    "end = time.time()\n",
    "\n",
    "training_time_cnn_80 = end - start\n",
    "\n",
    "print('temps d\\'entrainement : {:.3f} secondes'.format(training_time_cnn_80))"
   ]
  },
  {
   "cell_type": "markdown",
   "id": "87da7dda",
   "metadata": {},
   "source": [
    "##### C- Phase de prédiction"
   ]
  },
  {
   "cell_type": "code",
   "execution_count": 69,
   "id": "ca984d57",
   "metadata": {},
   "outputs": [
    {
     "name": "stdout",
     "output_type": "stream",
     "text": [
      "122/122 [==============================] - 1s 10ms/step\n",
      "temps de test : 1.411 secondes\n"
     ]
    }
   ],
   "source": [
    "start = time.time()\n",
    "\n",
    "y_pred_cnn_80 = cnn_80.predict(x_test_cnn)\n",
    "\n",
    "end = time.time()\n",
    "\n",
    "testing_time_cnn_80 = end - start\n",
    "\n",
    "print('temps de test : {:.3f} secondes'.format(testing_time_cnn_80))"
   ]
  },
  {
   "cell_type": "markdown",
   "id": "ffc1e314",
   "metadata": {},
   "source": [
    "##### D- Évaluation"
   ]
  },
  {
   "cell_type": "code",
   "execution_count": 70,
   "id": "3e3de15f",
   "metadata": {},
   "outputs": [
    {
     "name": "stdout",
     "output_type": "stream",
     "text": [
      "Accuracy: 0.873687 \n",
      "\n",
      "Precision: 0.883731 \n",
      "\n",
      "Recall: 0.862689 \n",
      "\n",
      "F1 score: 0.867838 \n",
      "\n"
     ]
    }
   ],
   "source": [
    "# accuracy: (tp + tn) / (fp + fn)\n",
    "accuracy_cnn_80 = accuracy_score(y_test.argmax(axis=1), y_pred_cnn_80.argmax(axis=1))\n",
    "print('Accuracy: %f' % accuracy_cnn_80, '\\n')\n",
    "# precision tp / (tp + fp)\n",
    "precision_cnn_80 = precision_score(y_test.argmax(axis=1), y_pred_cnn_80.argmax(axis=1), average='macro', zero_division=0)\n",
    "print('Precision: %f' % precision_cnn_80, '\\n')\n",
    "# recall: tp / (tp + fn)\n",
    "recall_cnn_80 = recall_score(y_test.argmax(axis=1), y_pred_cnn_80.argmax(axis=1), average='macro', zero_division=0)\n",
    "print('Recall: %f' % recall_cnn_80, '\\n')\n",
    "# f1: 2 tp / (2 tp + fp + fn)\n",
    "f1_cnn_80 = f1_score(y_test.argmax(axis=1), y_pred_cnn_80.argmax(axis=1), average='macro', zero_division=0)\n",
    "print('F1 score: %f' % f1_cnn_80, '\\n')"
   ]
  },
  {
   "attachments": {},
   "cell_type": "markdown",
   "id": "3ce1db39",
   "metadata": {},
   "source": [
    "### Avec 40% des données"
   ]
  },
  {
   "attachments": {},
   "cell_type": "markdown",
   "id": "208bffaa",
   "metadata": {},
   "source": [
    "On réalise les mêmes opérations que la section précédente mais avec 40% des données d'entrainement.\n",
    "  \n",
    "On calcule le nombre d'images à conserver dans l'ensemble d'entrainement :"
   ]
  },
  {
   "cell_type": "code",
   "execution_count": 71,
   "id": "c94da758",
   "metadata": {},
   "outputs": [
    {
     "data": {
      "text/plain": [
       "4682"
      ]
     },
     "execution_count": 71,
     "metadata": {},
     "output_type": "execute_result"
    }
   ],
   "source": [
    "nb_train_images_40 = int(x_train.shape[0]*0.4)\n",
    "\n",
    "nb_train_images_40"
   ]
  },
  {
   "cell_type": "markdown",
   "id": "f4ab26f2",
   "metadata": {},
   "source": [
    "#### 1- K-nearest neighbors algorithm (KNN)"
   ]
  },
  {
   "cell_type": "markdown",
   "id": "9f56e161",
   "metadata": {},
   "source": [
    "##### A- Phase d'apprentissage"
   ]
  },
  {
   "cell_type": "code",
   "execution_count": 72,
   "id": "28015acd",
   "metadata": {},
   "outputs": [
    {
     "name": "stdout",
     "output_type": "stream",
     "text": [
      "temps d'apprentissage : 0.014 secondes\n"
     ]
    }
   ],
   "source": [
    "import time\n",
    "\n",
    "knn_n_neighbors = 1\n",
    "\n",
    "start = time.time()\n",
    "\n",
    "knn_40 = KNeighborsClassifier(n_neighbors=knn_n_neighbors)\n",
    "\n",
    "# on entraine le modèle\n",
    "knn_40.fit(x_train_val[:nb_train_images_40,:],y_train_val[:nb_train_images_40,:]) # on combine l'ensemble d'entrainement et de validation\n",
    "\n",
    "end = time.time()\n",
    "\n",
    "training_time_knn_40 = end - start\n",
    "print('temps d\\'apprentissage : {:.3f} secondes'.format(training_time_knn_40))"
   ]
  },
  {
   "cell_type": "markdown",
   "id": "1f9ce01a",
   "metadata": {},
   "source": [
    "##### B- Phase de prédiction ou de test"
   ]
  },
  {
   "cell_type": "markdown",
   "id": "822627c0",
   "metadata": {},
   "source": [
    "on réalise la prédiction avec le modèle précédemment créé :"
   ]
  },
  {
   "cell_type": "code",
   "execution_count": 73,
   "id": "32c0881c",
   "metadata": {},
   "outputs": [
    {
     "name": "stdout",
     "output_type": "stream",
     "text": [
      "temps de test : 1.173 secondes\n",
      "(3903, 8) (3903, 8)\n"
     ]
    }
   ],
   "source": [
    "start = time.time()\n",
    "\n",
    "y_pred_knn_40 = knn_40.predict(x_test)\n",
    "\n",
    "end = time.time()\n",
    "\n",
    "testing_time_knn_40 = end - start\n",
    "\n",
    "print('temps de test : {:.3f} secondes'.format(testing_time_knn_40))\n",
    "print(y_pred.shape, y_test.shape)"
   ]
  },
  {
   "cell_type": "markdown",
   "id": "98ecfdd8",
   "metadata": {},
   "source": [
    "##### C- Évaluation"
   ]
  },
  {
   "cell_type": "code",
   "execution_count": 74,
   "id": "74f1134a",
   "metadata": {},
   "outputs": [
    {
     "name": "stdout",
     "output_type": "stream",
     "text": [
      "Accuracy: 0.868563 \n",
      "\n",
      "Precision: 0.771099 \n",
      "\n",
      "Recall: 0.743928 \n",
      "\n",
      "F1 score: 0.754474 \n",
      "\n"
     ]
    }
   ],
   "source": [
    "# accuracy: (tp + tn) / (fp + fn)\n",
    "accuracy_knn_40 = accuracy_score(y_test, y_pred_knn_40)\n",
    "print('Accuracy: %f' % accuracy_knn_40, '\\n')\n",
    "# precision tp / (tp + fp)\n",
    "precision_knn_40 = precision_score(y_test, y_pred_knn_40, average='macro', zero_division=0)\n",
    "print('Precision: %f' % precision_knn_40, '\\n')\n",
    "# recall: tp / (tp + fn)\n",
    "recall_knn_40 = recall_score(y_test, y_pred_knn_40, average='macro', zero_division=0)\n",
    "print('Recall: %f' % recall_knn_40, '\\n')\n",
    "# f1: 2 tp / (2 tp + fp + fn)\n",
    "f1_knn_40 = f1_score(y_test, y_pred_knn_40, average='macro', zero_division=0)\n",
    "print('F1 score: %f' % f1_knn_40, '\\n')"
   ]
  },
  {
   "cell_type": "markdown",
   "id": "231ce422",
   "metadata": {},
   "source": [
    "#### 2- Support vector machine (SVM) model"
   ]
  },
  {
   "cell_type": "markdown",
   "id": "3af92042",
   "metadata": {},
   "source": [
    "##### A- Phase d'apprentissage"
   ]
  },
  {
   "cell_type": "code",
   "execution_count": 75,
   "id": "769fd53d",
   "metadata": {},
   "outputs": [
    {
     "name": "stdout",
     "output_type": "stream",
     "text": [
      "temps d'apprentissage : 8.439 secondes\n"
     ]
    }
   ],
   "source": [
    "from sklearn.svm import SVC\n",
    "\n",
    "svm_kernel = 'linear'\n",
    "\n",
    "start = time.time()\n",
    "\n",
    "svm_40 = SVC(kernel = svm_kernel, random_state = 0)\n",
    "\n",
    "#Entrainer le modèle pour les données\n",
    "\n",
    "svm_40.fit(x_train_val[:nb_train_images_40,:], y_train_val[:nb_train_images_40,:].argmax(axis=1))\n",
    "\n",
    "end = time.time()\n",
    "\n",
    "training_time_svm_40 = end - start\n",
    "\n",
    "print('temps d\\'apprentissage : {:.3f} secondes'.format(training_time_svm_40))"
   ]
  },
  {
   "cell_type": "markdown",
   "id": "6ef926ea",
   "metadata": {},
   "source": [
    "##### B- Phase de prédiction ou de test"
   ]
  },
  {
   "cell_type": "code",
   "execution_count": 76,
   "id": "8d9b7c73",
   "metadata": {},
   "outputs": [
    {
     "name": "stdout",
     "output_type": "stream",
     "text": [
      "temps de test : 5.246 secondes\n"
     ]
    }
   ],
   "source": [
    "start = time.time()\n",
    "\n",
    "y_pred_svm_40 = svm_40.predict(x_test)\n",
    "\n",
    "end = time.time()\n",
    "\n",
    "testing_time_svm_40 = end - start\n",
    "\n",
    "print('temps de test : {:.3f} secondes'.format(testing_time_svm_40))"
   ]
  },
  {
   "cell_type": "markdown",
   "id": "35def8e8",
   "metadata": {},
   "source": [
    "##### C- Évaluation"
   ]
  },
  {
   "cell_type": "code",
   "execution_count": 77,
   "id": "56c9b35d",
   "metadata": {},
   "outputs": [
    {
     "name": "stdout",
     "output_type": "stream",
     "text": [
      "Accuracy: 0.903920 \n",
      "\n",
      "Precision: 0.906053 \n",
      "\n",
      "Recall: 0.901400 \n",
      "\n",
      "F1 score: 0.902654 \n",
      "\n"
     ]
    }
   ],
   "source": [
    "# accuracy: (tp + tn) / (fp + fn)\n",
    "accuracy_svm_40 = accuracy_score(y_test.argmax(axis=1), y_pred_svm_40)\n",
    "print('Accuracy: %f' % accuracy_svm_40, '\\n')\n",
    "# precision tp / (tp + fp)\n",
    "precision_svm_40 = precision_score(y_test.argmax(axis=1), y_pred_svm_40, average='macro', zero_division=0)\n",
    "print('Precision: %f' % precision_svm_40, '\\n')\n",
    "# recall: tp / (tp + fn)\n",
    "recall_svm_40 = recall_score(y_test.argmax(axis=1), y_pred_svm_40, average='macro', zero_division=0)\n",
    "print('Recall: %f' % recall_svm_40, '\\n')\n",
    "# f1: 2 tp / (2 tp + fp + fn)\n",
    "f1_svm_40 = f1_score(y_test.argmax(axis=1), y_pred_svm_40, average='macro', zero_division=0)\n",
    "print('F1 score: %f' % f1_svm_40, '\\n')"
   ]
  },
  {
   "cell_type": "markdown",
   "id": "d6bdf43d",
   "metadata": {},
   "source": [
    "#### 3- Réseau de neurone (NN) model"
   ]
  },
  {
   "cell_type": "markdown",
   "id": "7c16c1f3",
   "metadata": {},
   "source": [
    "##### A-  Créer le modèle du réseau de neurone"
   ]
  },
  {
   "cell_type": "code",
   "execution_count": 78,
   "id": "1f19ced8",
   "metadata": {},
   "outputs": [],
   "source": [
    "nn_learning_rate = 0.000001\n",
    "\n",
    "NN_40=Sequential()\n",
    "NN_40.add(Dense(1000,input_dim=len(my_dataset.feature_names),activation='relu'))\n",
    "NN_40.add(Dense(500,activation='relu'))\n",
    "NN_40.add(Dense(300,activation='relu'))\n",
    "NN_40.add(Dropout(0.2))\n",
    "NN_40.add(Dense(len(my_dataset.target_names),activation='softmax'))\n",
    "optimizer = keras.optimizers.Adam(learning_rate=nn_learning_rate)\n",
    "NN_40.compile(loss='categorical_crossentropy',optimizer=optimizer,metrics=['accuracy'])"
   ]
  },
  {
   "cell_type": "markdown",
   "id": "72e10a5d",
   "metadata": {},
   "source": [
    "##### B- Phase d'apprentissage"
   ]
  },
  {
   "cell_type": "code",
   "execution_count": 79,
   "id": "8ad9c38e",
   "metadata": {},
   "outputs": [
    {
     "name": "stdout",
     "output_type": "stream",
     "text": [
      "Epoch 1/20\n",
      "235/235 [==============================] - 4s 13ms/step - loss: 1.8929 - accuracy: 0.1764 - val_loss: 1.8397 - val_accuracy: 0.1996\n",
      "Epoch 2/20\n",
      "235/235 [==============================] - 3s 13ms/step - loss: 1.8178 - accuracy: 0.2091 - val_loss: 1.7982 - val_accuracy: 0.2157\n",
      "Epoch 3/20\n",
      "235/235 [==============================] - 3s 12ms/step - loss: 1.7824 - accuracy: 0.2287 - val_loss: 1.7737 - val_accuracy: 0.2414\n",
      "Epoch 4/20\n",
      "235/235 [==============================] - 3s 13ms/step - loss: 1.7652 - accuracy: 0.2358 - val_loss: 1.7527 - val_accuracy: 0.2695\n",
      "Epoch 5/20\n",
      "235/235 [==============================] - 3s 12ms/step - loss: 1.7405 - accuracy: 0.2595 - val_loss: 1.7333 - val_accuracy: 0.2913\n",
      "Epoch 6/20\n",
      "235/235 [==============================] - 3s 12ms/step - loss: 1.7236 - accuracy: 0.2674 - val_loss: 1.7155 - val_accuracy: 0.3092\n",
      "Epoch 7/20\n",
      "235/235 [==============================] - 3s 12ms/step - loss: 1.7138 - accuracy: 0.2766 - val_loss: 1.6995 - val_accuracy: 0.3256\n",
      "Epoch 8/20\n",
      "235/235 [==============================] - 3s 13ms/step - loss: 1.6904 - accuracy: 0.3007 - val_loss: 1.6844 - val_accuracy: 0.3254\n",
      "Epoch 9/20\n",
      "235/235 [==============================] - 3s 12ms/step - loss: 1.6869 - accuracy: 0.2977 - val_loss: 1.6698 - val_accuracy: 0.3374\n",
      "Epoch 10/20\n",
      "235/235 [==============================] - 3s 12ms/step - loss: 1.6672 - accuracy: 0.3106 - val_loss: 1.6552 - val_accuracy: 0.3459\n",
      "Epoch 11/20\n",
      "235/235 [==============================] - 3s 12ms/step - loss: 1.6570 - accuracy: 0.3195 - val_loss: 1.6408 - val_accuracy: 0.3590\n",
      "Epoch 12/20\n",
      "235/235 [==============================] - 3s 12ms/step - loss: 1.6356 - accuracy: 0.3452 - val_loss: 1.6258 - val_accuracy: 0.3707\n",
      "Epoch 13/20\n",
      "235/235 [==============================] - 3s 12ms/step - loss: 1.6265 - accuracy: 0.3364 - val_loss: 1.6113 - val_accuracy: 0.3789\n",
      "Epoch 14/20\n",
      "235/235 [==============================] - 3s 13ms/step - loss: 1.6316 - accuracy: 0.3377 - val_loss: 1.5973 - val_accuracy: 0.3948\n",
      "Epoch 15/20\n",
      "235/235 [==============================] - 3s 13ms/step - loss: 1.6072 - accuracy: 0.3616 - val_loss: 1.5828 - val_accuracy: 0.4069\n",
      "Epoch 16/20\n",
      "235/235 [==============================] - 3s 13ms/step - loss: 1.5957 - accuracy: 0.3654 - val_loss: 1.5694 - val_accuracy: 0.4187\n",
      "Epoch 17/20\n",
      "235/235 [==============================] - 3s 12ms/step - loss: 1.5889 - accuracy: 0.3710 - val_loss: 1.5559 - val_accuracy: 0.4217\n",
      "Epoch 18/20\n",
      "235/235 [==============================] - 3s 12ms/step - loss: 1.5736 - accuracy: 0.3755 - val_loss: 1.5426 - val_accuracy: 0.4276\n",
      "Epoch 19/20\n",
      "235/235 [==============================] - 3s 12ms/step - loss: 1.5656 - accuracy: 0.3763 - val_loss: 1.5306 - val_accuracy: 0.4489\n",
      "Epoch 20/20\n",
      "235/235 [==============================] - 3s 13ms/step - loss: 1.5550 - accuracy: 0.3838 - val_loss: 1.5160 - val_accuracy: 0.4607\n",
      "temps d'apprentissage : 59.446 secondes\n"
     ]
    }
   ],
   "source": [
    "nn_nb_epochs = 20\n",
    "nn_batch_size = 20\n",
    "\n",
    "start = time.time()\n",
    "\n",
    "history= NN_40.fit(x_train[:nb_train_images_40,:],y_train[:nb_train_images_40,:],validation_data=(x_val,y_val), batch_size=nn_batch_size,epochs=nn_nb_epochs,verbose=1)\n",
    "\n",
    "end = time.time()\n",
    "\n",
    "training_time_nn_40 = end - start\n",
    "\n",
    "print('temps d\\'apprentissage : {:.3f} secondes'.format(training_time_nn_40))"
   ]
  },
  {
   "cell_type": "markdown",
   "id": "d314bcd1",
   "metadata": {},
   "source": [
    "##### C- Phase de prédiction"
   ]
  },
  {
   "cell_type": "code",
   "execution_count": 80,
   "id": "0d76b136",
   "metadata": {},
   "outputs": [
    {
     "name": "stdout",
     "output_type": "stream",
     "text": [
      "122/122 [==============================] - 1s 5ms/step\n",
      "temps de test : 0.729 secondes\n"
     ]
    }
   ],
   "source": [
    "start = time.time()\n",
    "\n",
    "y_pred_nn_40=NN_40.predict(x_test)\n",
    "\n",
    "end = time.time()\n",
    "\n",
    "testing_time_nn_40 = end - start\n",
    "\n",
    "print('temps de test : {:.3f} secondes'.format(testing_time_nn_40))"
   ]
  },
  {
   "cell_type": "markdown",
   "id": "3399904d",
   "metadata": {},
   "source": [
    "##### D- Évaluation"
   ]
  },
  {
   "cell_type": "code",
   "execution_count": 81,
   "id": "21f950ed",
   "metadata": {},
   "outputs": [
    {
     "name": "stdout",
     "output_type": "stream",
     "text": [
      "Accuracy: 0.459903 \n",
      "\n",
      "Precision: 0.506162 \n",
      "\n",
      "Recall: 0.369555 \n",
      "\n",
      "F1 score: 0.352390 \n",
      "\n"
     ]
    }
   ],
   "source": [
    "# accuracy: (tp + tn) / (fp + fn)\n",
    "accuracy_nn_40 = accuracy_score(y_test.argmax(axis=1), y_pred_nn_40.argmax(axis=1))\n",
    "print('Accuracy: %f' % accuracy_nn_40, '\\n')\n",
    "# precision tp / (tp + fp)\n",
    "precision_nn_40 = precision_score(y_test.argmax(axis=1), y_pred_nn_40.argmax(axis=1), average='macro', zero_division=0)\n",
    "print('Precision: %f' % precision_nn_40, '\\n')\n",
    "# recall: tp / (tp + fn)\n",
    "recall_nn_40 = recall_score(y_test.argmax(axis=1), y_pred_nn_40.argmax(axis=1), average='macro', zero_division=0)\n",
    "print('Recall: %f' % recall_nn_40, '\\n')\n",
    "# f1: 2 tp / (2 tp + fp + fn)\n",
    "f1_nn_40 = f1_score(y_test.argmax(axis=1), y_pred_nn_40.argmax(axis=1), average='macro', zero_division=0)\n",
    "print('F1 score: %f' % f1_nn_40, '\\n')"
   ]
  },
  {
   "attachments": {},
   "cell_type": "markdown",
   "id": "67c64c02",
   "metadata": {},
   "source": [
    "#### 4- Réseau de neurone à convolution (CNN) model\n",
    "\n"
   ]
  },
  {
   "cell_type": "markdown",
   "id": "7ebaacee",
   "metadata": {},
   "source": [
    "##### A-  Créer le modèle du CNN"
   ]
  },
  {
   "cell_type": "code",
   "execution_count": 82,
   "id": "a542e565",
   "metadata": {},
   "outputs": [],
   "source": [
    "cnn_learning_rate = 0.00000000001\n",
    "\n",
    "cnn_40 = Sequential()\n",
    "cnn_40.add(Conv1D(64, 2, activation=\"relu\", input_shape=(x_train_cnn.shape[1],1)))\n",
    "cnn_40.add(Dense(16, activation=\"relu\"))\n",
    "cnn_40.add(MaxPooling1D())\n",
    "cnn_40.add(Flatten())\n",
    "cnn_40.add(Dense(len(my_dataset.target_names), activation = 'softmax'))\n",
    "optimizer = keras.optimizers.SGD(learning_rate=cnn_learning_rate)\n",
    "cnn_40.compile(loss = 'sparse_categorical_crossentropy', \n",
    "     optimizer = \"sgd\",    #adam           \n",
    "              metrics = ['accuracy'])"
   ]
  },
  {
   "cell_type": "markdown",
   "id": "298aeceb",
   "metadata": {},
   "source": [
    "##### B- Phase d'apprentissage"
   ]
  },
  {
   "cell_type": "code",
   "execution_count": 83,
   "id": "b28ad2a2",
   "metadata": {},
   "outputs": [
    {
     "name": "stdout",
     "output_type": "stream",
     "text": [
      "Epoch 1/20\n",
      "293/293 [==============================] - 5s 17ms/step - loss: 1.9950 - accuracy: 0.2249 - val_loss: 1.9008 - val_accuracy: 0.2626\n",
      "Epoch 2/20\n",
      "293/293 [==============================] - 7s 22ms/step - loss: 1.7350 - accuracy: 0.3787 - val_loss: 1.5052 - val_accuracy: 0.5050\n",
      "Epoch 3/20\n",
      "293/293 [==============================] - 5s 16ms/step - loss: 1.3880 - accuracy: 0.5463 - val_loss: 2.1148 - val_accuracy: 0.2921\n",
      "Epoch 4/20\n",
      "293/293 [==============================] - 5s 16ms/step - loss: 1.1850 - accuracy: 0.6322 - val_loss: 0.9859 - val_accuracy: 0.7036\n",
      "Epoch 5/20\n",
      "293/293 [==============================] - 5s 15ms/step - loss: 1.0525 - accuracy: 0.6788 - val_loss: 1.1293 - val_accuracy: 0.6377\n",
      "Epoch 6/20\n",
      "293/293 [==============================] - 5s 15ms/step - loss: 0.9568 - accuracy: 0.7132 - val_loss: 0.8828 - val_accuracy: 0.7481\n",
      "Epoch 7/20\n",
      "293/293 [==============================] - 5s 15ms/step - loss: 0.8817 - accuracy: 0.7339 - val_loss: 1.2727 - val_accuracy: 0.6454\n",
      "Epoch 8/20\n",
      "293/293 [==============================] - 5s 15ms/step - loss: 0.8173 - accuracy: 0.7565 - val_loss: 1.3349 - val_accuracy: 0.6418\n",
      "Epoch 9/20\n",
      "293/293 [==============================] - 5s 16ms/step - loss: 0.7840 - accuracy: 0.7713 - val_loss: 0.8358 - val_accuracy: 0.7374\n",
      "Epoch 10/20\n",
      "293/293 [==============================] - 4s 15ms/step - loss: 0.7598 - accuracy: 0.7774 - val_loss: 0.6534 - val_accuracy: 0.8317\n",
      "Epoch 11/20\n",
      "293/293 [==============================] - 5s 15ms/step - loss: 0.6943 - accuracy: 0.7890 - val_loss: 0.6208 - val_accuracy: 0.8391\n",
      "Epoch 12/20\n",
      "293/293 [==============================] - 5s 16ms/step - loss: 0.6912 - accuracy: 0.7990 - val_loss: 0.7230 - val_accuracy: 0.8066\n",
      "Epoch 13/20\n",
      "293/293 [==============================] - 4s 15ms/step - loss: 0.6491 - accuracy: 0.8182 - val_loss: 0.8521 - val_accuracy: 0.7333\n",
      "Epoch 14/20\n",
      "293/293 [==============================] - 5s 16ms/step - loss: 0.6431 - accuracy: 0.8123 - val_loss: 0.6222 - val_accuracy: 0.8329\n",
      "Epoch 15/20\n",
      "293/293 [==============================] - 4s 15ms/step - loss: 0.6040 - accuracy: 0.8238 - val_loss: 0.6684 - val_accuracy: 0.8209\n",
      "Epoch 16/20\n",
      "293/293 [==============================] - 5s 16ms/step - loss: 0.5974 - accuracy: 0.8253 - val_loss: 0.6077 - val_accuracy: 0.8365\n",
      "Epoch 17/20\n",
      "293/293 [==============================] - 5s 15ms/step - loss: 0.5718 - accuracy: 0.8317 - val_loss: 0.6467 - val_accuracy: 0.8227\n",
      "Epoch 18/20\n",
      "293/293 [==============================] - 5s 15ms/step - loss: 0.5430 - accuracy: 0.8452 - val_loss: 0.7760 - val_accuracy: 0.7879\n",
      "Epoch 19/20\n",
      "293/293 [==============================] - 5s 16ms/step - loss: 0.5279 - accuracy: 0.8454 - val_loss: 0.5802 - val_accuracy: 0.8470\n",
      "Epoch 20/20\n",
      "293/293 [==============================] - 4s 15ms/step - loss: 0.5403 - accuracy: 0.8400 - val_loss: 0.6519 - val_accuracy: 0.8173\n",
      "temps d'entrainement : 93.591 secondes\n"
     ]
    }
   ],
   "source": [
    "cnn_batch_size = 16\n",
    "cnn_nb_epochs = 20\n",
    "\n",
    "start = time.time()\n",
    "\n",
    "history=cnn_40.fit(x_train_cnn[:nb_train_images_40,:], y_train[:nb_train_images_40,:].argmax(axis=1),\n",
    "                    validation_data=(x_val_cnn,y_val.argmax(axis=1)), batch_size=cnn_batch_size,epochs=cnn_nb_epochs, verbose=1)\n",
    "\n",
    "end = time.time()\n",
    "\n",
    "training_time_cnn_40 = end - start\n",
    "\n",
    "print('temps d\\'entrainement : {:.3f} secondes'.format(training_time_cnn_40))"
   ]
  },
  {
   "cell_type": "markdown",
   "id": "aebebd5e",
   "metadata": {},
   "source": [
    "##### C- Phase de prédiction"
   ]
  },
  {
   "cell_type": "code",
   "execution_count": 84,
   "id": "cf2c4bc7",
   "metadata": {},
   "outputs": [
    {
     "name": "stdout",
     "output_type": "stream",
     "text": [
      "122/122 [==============================] - 1s 9ms/step\n",
      "temps de test : 1.352 secondes\n"
     ]
    }
   ],
   "source": [
    "start = time.time()\n",
    "\n",
    "y_pred_cnn_40 = cnn_40.predict(x_test_cnn)\n",
    "\n",
    "end = time.time()\n",
    "\n",
    "testing_time_cnn_40 = end - start\n",
    "\n",
    "print('temps de test : {:.3f} secondes'.format(testing_time_cnn_40))"
   ]
  },
  {
   "cell_type": "markdown",
   "id": "5114fd61",
   "metadata": {},
   "source": [
    "##### D- Évaluation"
   ]
  },
  {
   "cell_type": "code",
   "execution_count": 85,
   "id": "a7d76b27",
   "metadata": {},
   "outputs": [
    {
     "name": "stdout",
     "output_type": "stream",
     "text": [
      "Accuracy: 0.794517 \n",
      "\n",
      "Precision: 0.834293 \n",
      "\n",
      "Recall: 0.784643 \n",
      "\n",
      "F1 score: 0.793142 \n",
      "\n"
     ]
    }
   ],
   "source": [
    "# accuracy: (tp + tn) / (fp + fn)\n",
    "accuracy_cnn_40 = accuracy_score(y_test.argmax(axis=1), y_pred_cnn_40.argmax(axis=1))\n",
    "print('Accuracy: %f' % accuracy_cnn_40, '\\n')\n",
    "# precision tp / (tp + fp)\n",
    "precision_cnn_40 = precision_score(y_test.argmax(axis=1), y_pred_cnn_40.argmax(axis=1), average='macro', zero_division=0)\n",
    "print('Precision: %f' % precision_cnn_40, '\\n')\n",
    "# recall: tp / (tp + fn)\n",
    "recall_cnn_40 = recall_score(y_test.argmax(axis=1), y_pred_cnn_40.argmax(axis=1), average='macro', zero_division=0)\n",
    "print('Recall: %f' % recall_cnn_40, '\\n')\n",
    "# f1: 2 tp / (2 tp + fp + fn)\n",
    "f1_cnn_40 = f1_score(y_test.argmax(axis=1), y_pred_cnn_40.argmax(axis=1), average='macro', zero_division=0)\n",
    "print('F1 score: %f' % f1_cnn_40, '\\n')"
   ]
  },
  {
   "attachments": {},
   "cell_type": "markdown",
   "id": "b333ec14",
   "metadata": {},
   "source": [
    "### Avec 20% de données"
   ]
  },
  {
   "attachments": {},
   "cell_type": "markdown",
   "id": "4c1eac27",
   "metadata": {},
   "source": [
    "On réalise les mêmes opérations que la section précédente mais avec 20% des données d'entrainement.\n",
    "  \n",
    "On calcule le nombre d'images à conserver dans l'ensemble d'entrainement :"
   ]
  },
  {
   "cell_type": "code",
   "execution_count": 86,
   "id": "814d0911",
   "metadata": {},
   "outputs": [
    {
     "data": {
      "text/plain": [
       "2341"
      ]
     },
     "execution_count": 86,
     "metadata": {},
     "output_type": "execute_result"
    }
   ],
   "source": [
    "nb_train_images_20 = int(x_train.shape[0]*0.2)\n",
    "\n",
    "nb_train_images_20"
   ]
  },
  {
   "cell_type": "markdown",
   "id": "8c72c446",
   "metadata": {},
   "source": [
    "#### 1- K-nearest neighbors algorithm (KNN)"
   ]
  },
  {
   "cell_type": "markdown",
   "id": "5a1ee4c5",
   "metadata": {},
   "source": [
    "##### A- Phase d'apprentissage"
   ]
  },
  {
   "cell_type": "code",
   "execution_count": 87,
   "id": "7120a981",
   "metadata": {},
   "outputs": [
    {
     "name": "stdout",
     "output_type": "stream",
     "text": [
      "temps d'apprentissage : 0.018 secondes\n"
     ]
    }
   ],
   "source": [
    "import time\n",
    "\n",
    "knn_n_neighbors = 1\n",
    "\n",
    "start = time.time()\n",
    "\n",
    "knn_20 = KNeighborsClassifier(n_neighbors=knn_n_neighbors)\n",
    "\n",
    "# on entraine le modèle\n",
    "knn_20.fit(x_train_val[:nb_train_images_20,:],y_train_val[:nb_train_images_20,:]) # on combine l'ensemble d'entrainement et de validation\n",
    "\n",
    "end = time.time()\n",
    "\n",
    "training_time_knn_20 = end - start\n",
    "print('temps d\\'apprentissage : {:.3f} secondes'.format(training_time_knn_20))"
   ]
  },
  {
   "cell_type": "markdown",
   "id": "efbfe3fd",
   "metadata": {},
   "source": [
    "##### B- Phase de prédiction ou de test"
   ]
  },
  {
   "cell_type": "markdown",
   "id": "471b6d68",
   "metadata": {},
   "source": [
    "on réalise la prédiction avec le modèle précédemment créé :"
   ]
  },
  {
   "cell_type": "code",
   "execution_count": 88,
   "id": "cc515aec",
   "metadata": {},
   "outputs": [
    {
     "name": "stdout",
     "output_type": "stream",
     "text": [
      "temps de test : 0.882 secondes\n",
      "(3903, 8) (3903, 8)\n"
     ]
    }
   ],
   "source": [
    "start = time.time()\n",
    "\n",
    "y_pred_knn_20 = knn_20.predict(x_test)\n",
    "\n",
    "end = time.time()\n",
    "\n",
    "testing_time_knn_20 = end - start\n",
    "\n",
    "print('temps de test : {:.3f} secondes'.format(testing_time_knn_20))\n",
    "print(y_pred.shape, y_test.shape)"
   ]
  },
  {
   "cell_type": "markdown",
   "id": "166efa1b",
   "metadata": {},
   "source": [
    "##### C- Évaluation"
   ]
  },
  {
   "cell_type": "code",
   "execution_count": 89,
   "id": "ac44f34b",
   "metadata": {},
   "outputs": [
    {
     "name": "stdout",
     "output_type": "stream",
     "text": [
      "Accuracy: 0.803997 \n",
      "\n",
      "Precision: 0.718592 \n",
      "\n",
      "Recall: 0.683493 \n",
      "\n",
      "F1 score: 0.695673 \n",
      "\n"
     ]
    }
   ],
   "source": [
    "# accuracy: (tp + tn) / (fp + fn)\n",
    "accuracy_knn_20 = accuracy_score(y_test, y_pred_knn_20)\n",
    "print('Accuracy: %f' % accuracy_knn_20, '\\n')\n",
    "# precision tp / (tp + fp)\n",
    "precision_knn_20 = precision_score(y_test, y_pred_knn_20, average='macro', zero_division=0)\n",
    "print('Precision: %f' % precision_knn_20, '\\n')\n",
    "# recall: tp / (tp + fn)\n",
    "recall_knn_20 = recall_score(y_test, y_pred_knn_20, average='macro', zero_division=0)\n",
    "print('Recall: %f' % recall_knn_20, '\\n')\n",
    "# f1: 2 tp / (2 tp + fp + fn)\n",
    "f1_knn_20 = f1_score(y_test, y_pred_knn_20, average='macro', zero_division=0)\n",
    "print('F1 score: %f' % f1_knn_20, '\\n')"
   ]
  },
  {
   "cell_type": "markdown",
   "id": "a52b3446",
   "metadata": {},
   "source": [
    "#### 2- Support vector machine (SVM) model"
   ]
  },
  {
   "cell_type": "markdown",
   "id": "595ff0aa",
   "metadata": {},
   "source": [
    "##### A- Phase d'apprentissage"
   ]
  },
  {
   "cell_type": "code",
   "execution_count": 90,
   "id": "da79452d",
   "metadata": {},
   "outputs": [
    {
     "name": "stdout",
     "output_type": "stream",
     "text": [
      "temps d'apprentissage : 2.883 secondes\n"
     ]
    }
   ],
   "source": [
    "from sklearn.svm import SVC\n",
    "\n",
    "svm_kernel = 'linear'\n",
    "\n",
    "start = time.time()\n",
    "\n",
    "svm_20 = SVC(kernel = svm_kernel, random_state = 0)\n",
    "\n",
    "#Entrainer le modèle pour les données\n",
    "\n",
    "svm_20.fit(x_train_val[:nb_train_images_20,:], y_train_val[:nb_train_images_20,:].argmax(axis=1))\n",
    "\n",
    "end = time.time()\n",
    "\n",
    "training_time_svm_20 = end - start\n",
    "\n",
    "print('temps d\\'apprentissage : {:.3f} secondes'.format(training_time_svm_20))"
   ]
  },
  {
   "cell_type": "markdown",
   "id": "0e007cc6",
   "metadata": {},
   "source": [
    "##### B- Phase de prédiction ou de test"
   ]
  },
  {
   "cell_type": "code",
   "execution_count": 91,
   "id": "52b505f2",
   "metadata": {},
   "outputs": [
    {
     "name": "stdout",
     "output_type": "stream",
     "text": [
      "temps de test : 3.450 secondes\n"
     ]
    }
   ],
   "source": [
    "start = time.time()\n",
    "\n",
    "y_pred_svm_20 = svm_20.predict(x_test)\n",
    "\n",
    "end = time.time()\n",
    "\n",
    "testing_time_svm_20 = end - start\n",
    "\n",
    "print('temps de test : {:.3f} secondes'.format(testing_time_svm_20))"
   ]
  },
  {
   "cell_type": "markdown",
   "id": "82a1934b",
   "metadata": {},
   "source": [
    "##### C- Évaluation"
   ]
  },
  {
   "cell_type": "code",
   "execution_count": 92,
   "id": "2013729d",
   "metadata": {},
   "outputs": [
    {
     "name": "stdout",
     "output_type": "stream",
     "text": [
      "Accuracy: 0.872918 \n",
      "\n",
      "Precision: 0.875499 \n",
      "\n",
      "Recall: 0.867484 \n",
      "\n",
      "F1 score: 0.869808 \n",
      "\n"
     ]
    }
   ],
   "source": [
    "# accuracy: (tp + tn) / (fp + fn)\n",
    "accuracy_svm_20 = accuracy_score(y_test.argmax(axis=1), y_pred_svm_20)\n",
    "print('Accuracy: %f' % accuracy_svm_20, '\\n')\n",
    "# precision tp / (tp + fp)\n",
    "precision_svm_20 = precision_score(y_test.argmax(axis=1), y_pred_svm_20, average='macro', zero_division=0)\n",
    "print('Precision: %f' % precision_svm_20, '\\n')\n",
    "# recall: tp / (tp + fn)\n",
    "recall_svm_20 = recall_score(y_test.argmax(axis=1), y_pred_svm_20, average='macro', zero_division=0)\n",
    "print('Recall: %f' % recall_svm_20, '\\n')\n",
    "# f1: 2 tp / (2 tp + fp + fn)\n",
    "f1_svm_20 = f1_score(y_test.argmax(axis=1), y_pred_svm_20, average='macro', zero_division=0)\n",
    "print('F1 score: %f' % f1_svm_20, '\\n')"
   ]
  },
  {
   "cell_type": "markdown",
   "id": "4f1fc0d5",
   "metadata": {},
   "source": [
    "#### 3- Réseau de neurone (NN) model"
   ]
  },
  {
   "cell_type": "markdown",
   "id": "009ebed4",
   "metadata": {},
   "source": [
    "##### A-  Créer le modèle du réseau de neurone"
   ]
  },
  {
   "cell_type": "code",
   "execution_count": 93,
   "id": "d892420b",
   "metadata": {},
   "outputs": [],
   "source": [
    "nn_learning_rate = 0.000001\n",
    "\n",
    "NN_20=Sequential()\n",
    "NN_20.add(Dense(1000,input_dim=len(my_dataset.feature_names),activation='relu'))\n",
    "NN_20.add(Dense(500,activation='relu'))\n",
    "NN_20.add(Dense(300,activation='relu'))\n",
    "NN_20.add(Dropout(0.2))\n",
    "NN_20.add(Dense(len(my_dataset.target_names),activation='softmax'))\n",
    "optimizer = keras.optimizers.Adam(learning_rate=nn_learning_rate)\n",
    "NN_20.compile(loss='categorical_crossentropy',optimizer=optimizer,metrics=['accuracy'])"
   ]
  },
  {
   "cell_type": "markdown",
   "id": "d6665103",
   "metadata": {},
   "source": [
    "##### B- Phase d'apprentissage"
   ]
  },
  {
   "cell_type": "code",
   "execution_count": 94,
   "id": "a15ca504",
   "metadata": {},
   "outputs": [
    {
     "name": "stdout",
     "output_type": "stream",
     "text": [
      "Epoch 1/20\n",
      "118/118 [==============================] - 2s 16ms/step - loss: 1.9618 - accuracy: 0.1393 - val_loss: 1.9113 - val_accuracy: 0.1499\n",
      "Epoch 2/20\n",
      "118/118 [==============================] - 2s 14ms/step - loss: 1.8842 - accuracy: 0.1679 - val_loss: 1.8603 - val_accuracy: 0.1735\n",
      "Epoch 3/20\n",
      "118/118 [==============================] - 2s 14ms/step - loss: 1.8410 - accuracy: 0.1824 - val_loss: 1.8316 - val_accuracy: 0.1916\n",
      "Epoch 4/20\n",
      "118/118 [==============================] - 2s 16ms/step - loss: 1.8133 - accuracy: 0.2042 - val_loss: 1.8123 - val_accuracy: 0.2206\n",
      "Epoch 5/20\n",
      "118/118 [==============================] - 2s 16ms/step - loss: 1.8009 - accuracy: 0.2076 - val_loss: 1.7968 - val_accuracy: 0.2490\n",
      "Epoch 6/20\n",
      "118/118 [==============================] - 2s 16ms/step - loss: 1.7840 - accuracy: 0.2204 - val_loss: 1.7832 - val_accuracy: 0.2703\n",
      "Epoch 7/20\n",
      "118/118 [==============================] - 2s 16ms/step - loss: 1.7777 - accuracy: 0.2307 - val_loss: 1.7714 - val_accuracy: 0.2806\n",
      "Epoch 8/20\n",
      "118/118 [==============================] - 2s 17ms/step - loss: 1.7632 - accuracy: 0.2422 - val_loss: 1.7607 - val_accuracy: 0.3036\n",
      "Epoch 9/20\n",
      "118/118 [==============================] - 2s 16ms/step - loss: 1.7492 - accuracy: 0.2456 - val_loss: 1.7506 - val_accuracy: 0.3146\n",
      "Epoch 10/20\n",
      "118/118 [==============================] - 2s 16ms/step - loss: 1.7449 - accuracy: 0.2580 - val_loss: 1.7419 - val_accuracy: 0.3241\n",
      "Epoch 11/20\n",
      "118/118 [==============================] - 2s 16ms/step - loss: 1.7270 - accuracy: 0.2661 - val_loss: 1.7329 - val_accuracy: 0.3328\n",
      "Epoch 12/20\n",
      "118/118 [==============================] - 2s 16ms/step - loss: 1.7118 - accuracy: 0.2858 - val_loss: 1.7242 - val_accuracy: 0.3505\n",
      "Epoch 13/20\n",
      "118/118 [==============================] - 2s 16ms/step - loss: 1.7164 - accuracy: 0.2849 - val_loss: 1.7158 - val_accuracy: 0.3505\n",
      "Epoch 14/20\n",
      "118/118 [==============================] - 2s 17ms/step - loss: 1.7103 - accuracy: 0.2802 - val_loss: 1.7070 - val_accuracy: 0.3677\n",
      "Epoch 15/20\n",
      "118/118 [==============================] - 2s 16ms/step - loss: 1.7005 - accuracy: 0.2965 - val_loss: 1.6992 - val_accuracy: 0.3741\n",
      "Epoch 16/20\n",
      "118/118 [==============================] - 2s 17ms/step - loss: 1.6929 - accuracy: 0.2994 - val_loss: 1.6916 - val_accuracy: 0.3797\n",
      "Epoch 17/20\n",
      "118/118 [==============================] - 2s 16ms/step - loss: 1.6857 - accuracy: 0.3029 - val_loss: 1.6840 - val_accuracy: 0.4040\n",
      "Epoch 18/20\n",
      "118/118 [==============================] - 2s 16ms/step - loss: 1.6744 - accuracy: 0.3208 - val_loss: 1.6757 - val_accuracy: 0.4051\n",
      "Epoch 19/20\n",
      "118/118 [==============================] - 2s 16ms/step - loss: 1.6812 - accuracy: 0.3088 - val_loss: 1.6685 - val_accuracy: 0.4161\n",
      "Epoch 20/20\n",
      "118/118 [==============================] - 2s 16ms/step - loss: 1.6667 - accuracy: 0.3281 - val_loss: 1.6609 - val_accuracy: 0.4194\n",
      "temps d'apprentissage : 38.365 secondes\n"
     ]
    }
   ],
   "source": [
    "nn_nb_epochs = 20\n",
    "nn_batch_size = 20\n",
    "\n",
    "start = time.time()\n",
    "\n",
    "history= NN_20.fit(x_train[:nb_train_images_20,:],y_train[:nb_train_images_20,:],validation_data=(x_val,y_val), batch_size=nn_batch_size,epochs=nn_nb_epochs,verbose=1)\n",
    "\n",
    "end = time.time()\n",
    "\n",
    "training_time_nn_20 = end - start\n",
    "\n",
    "print('temps d\\'apprentissage : {:.3f} secondes'.format(training_time_nn_20))"
   ]
  },
  {
   "cell_type": "markdown",
   "id": "918919b0",
   "metadata": {},
   "source": [
    "##### C- Phase de prédiction"
   ]
  },
  {
   "cell_type": "code",
   "execution_count": 95,
   "id": "2119f5d6",
   "metadata": {},
   "outputs": [
    {
     "name": "stdout",
     "output_type": "stream",
     "text": [
      "122/122 [==============================] - 1s 5ms/step\n",
      "temps de test : 0.812 secondes\n"
     ]
    }
   ],
   "source": [
    "start = time.time()\n",
    "\n",
    "y_pred_nn_20=NN_20.predict(x_test)\n",
    "\n",
    "end = time.time()\n",
    "\n",
    "testing_time_nn_20 = end - start\n",
    "\n",
    "print('temps de test : {:.3f} secondes'.format(testing_time_nn_20))"
   ]
  },
  {
   "cell_type": "markdown",
   "id": "d849a8d5",
   "metadata": {},
   "source": [
    "##### D- Évaluation"
   ]
  },
  {
   "cell_type": "code",
   "execution_count": 96,
   "id": "ba2694fe",
   "metadata": {},
   "outputs": [
    {
     "name": "stdout",
     "output_type": "stream",
     "text": [
      "Accuracy: 0.415578 \n",
      "\n",
      "Precision: 0.415568 \n",
      "\n",
      "Recall: 0.323338 \n",
      "\n",
      "F1 score: 0.293565 \n",
      "\n"
     ]
    }
   ],
   "source": [
    "# accuracy: (tp + tn) / (fp + fn)\n",
    "accuracy_nn_20 = accuracy_score(y_test.argmax(axis=1), y_pred_nn_20.argmax(axis=1))\n",
    "print('Accuracy: %f' % accuracy_nn_20, '\\n')\n",
    "# precision tp / (tp + fp)\n",
    "precision_nn_20 = precision_score(y_test.argmax(axis=1), y_pred_nn_20.argmax(axis=1), average='macro', zero_division=0)\n",
    "print('Precision: %f' % precision_nn_20, '\\n')\n",
    "# recall: tp / (tp + fn)\n",
    "recall_nn_20 = recall_score(y_test.argmax(axis=1), y_pred_nn_20.argmax(axis=1), average='macro', zero_division=0)\n",
    "print('Recall: %f' % recall_nn_20, '\\n')\n",
    "# f1: 2 tp / (2 tp + fp + fn)\n",
    "f1_nn_20 = f1_score(y_test.argmax(axis=1), y_pred_nn_20.argmax(axis=1), average='macro', zero_division=0)\n",
    "print('F1 score: %f' % f1_nn_20, '\\n')"
   ]
  },
  {
   "cell_type": "markdown",
   "id": "f8f1ffd6",
   "metadata": {},
   "source": [
    "#### 4- Réseau de neurone à convolution (CNN) model\n",
    "\n"
   ]
  },
  {
   "cell_type": "markdown",
   "id": "14068762",
   "metadata": {},
   "source": [
    "##### A-  Créer le modèle du CNN"
   ]
  },
  {
   "cell_type": "code",
   "execution_count": 97,
   "id": "7690bafa",
   "metadata": {},
   "outputs": [],
   "source": [
    "cnn_learning_rate = 0.00000000001\n",
    "\n",
    "cnn_20 = Sequential()\n",
    "cnn_20.add(Conv1D(64, 2, activation=\"relu\", input_shape=(x_train_cnn.shape[1],1)))\n",
    "cnn_20.add(Dense(16, activation=\"relu\"))\n",
    "cnn_20.add(MaxPooling1D())\n",
    "cnn_20.add(Flatten())\n",
    "cnn_20.add(Dense(len(my_dataset.target_names), activation = 'softmax'))\n",
    "optimizer = keras.optimizers.SGD(learning_rate=cnn_learning_rate)\n",
    "cnn_20.compile(loss = 'sparse_categorical_crossentropy', \n",
    "     optimizer = \"sgd\",    #adam           \n",
    "              metrics = ['accuracy'])"
   ]
  },
  {
   "cell_type": "markdown",
   "id": "d11d13f5",
   "metadata": {},
   "source": [
    "##### B- Phase d'apprentissage"
   ]
  },
  {
   "cell_type": "code",
   "execution_count": 98,
   "id": "a1cbcc9a",
   "metadata": {},
   "outputs": [
    {
     "name": "stdout",
     "output_type": "stream",
     "text": [
      "Epoch 1/20\n",
      "147/147 [==============================] - 4s 24ms/step - loss: 2.0332 - accuracy: 0.1978 - val_loss: 2.0213 - val_accuracy: 0.1773\n",
      "Epoch 2/20\n",
      "147/147 [==============================] - 3s 22ms/step - loss: 1.9753 - accuracy: 0.2396 - val_loss: 1.9599 - val_accuracy: 0.1783\n",
      "Epoch 3/20\n",
      "147/147 [==============================] - 3s 20ms/step - loss: 1.8544 - accuracy: 0.3400 - val_loss: 1.9642 - val_accuracy: 0.1332\n",
      "Epoch 4/20\n",
      "147/147 [==============================] - 3s 18ms/step - loss: 1.6440 - accuracy: 0.4242 - val_loss: 1.8562 - val_accuracy: 0.2695\n",
      "Epoch 5/20\n",
      "147/147 [==============================] - 3s 20ms/step - loss: 1.4377 - accuracy: 0.5130 - val_loss: 2.1771 - val_accuracy: 0.2631\n",
      "Epoch 6/20\n",
      "147/147 [==============================] - 3s 20ms/step - loss: 1.2986 - accuracy: 0.5780 - val_loss: 1.1783 - val_accuracy: 0.6759\n",
      "Epoch 7/20\n",
      "147/147 [==============================] - 3s 20ms/step - loss: 1.1784 - accuracy: 0.6314 - val_loss: 1.6220 - val_accuracy: 0.4468\n",
      "Epoch 8/20\n",
      "147/147 [==============================] - 3s 20ms/step - loss: 1.0565 - accuracy: 0.6689 - val_loss: 1.4001 - val_accuracy: 0.5673\n",
      "Epoch 9/20\n",
      "147/147 [==============================] - 3s 20ms/step - loss: 1.0355 - accuracy: 0.6805 - val_loss: 1.4176 - val_accuracy: 0.5086\n",
      "Epoch 10/20\n",
      "147/147 [==============================] - 3s 20ms/step - loss: 0.9240 - accuracy: 0.7125 - val_loss: 2.6478 - val_accuracy: 0.3318\n",
      "Epoch 11/20\n",
      "147/147 [==============================] - 3s 19ms/step - loss: 0.9060 - accuracy: 0.7275 - val_loss: 0.9389 - val_accuracy: 0.7182\n",
      "Epoch 12/20\n",
      "147/147 [==============================] - 3s 20ms/step - loss: 0.8106 - accuracy: 0.7565 - val_loss: 1.1023 - val_accuracy: 0.6659\n",
      "Epoch 13/20\n",
      "147/147 [==============================] - 3s 20ms/step - loss: 0.8282 - accuracy: 0.7561 - val_loss: 0.9177 - val_accuracy: 0.7312\n",
      "Epoch 14/20\n",
      "147/147 [==============================] - 3s 20ms/step - loss: 0.7490 - accuracy: 0.7702 - val_loss: 1.4597 - val_accuracy: 0.5665\n",
      "Epoch 15/20\n",
      "147/147 [==============================] - 3s 20ms/step - loss: 0.7148 - accuracy: 0.7847 - val_loss: 0.9353 - val_accuracy: 0.7207\n",
      "Epoch 16/20\n",
      "147/147 [==============================] - 3s 21ms/step - loss: 0.6744 - accuracy: 0.8005 - val_loss: 0.8349 - val_accuracy: 0.7589\n",
      "Epoch 17/20\n",
      "147/147 [==============================] - 3s 21ms/step - loss: 0.6581 - accuracy: 0.8073 - val_loss: 0.8105 - val_accuracy: 0.7453\n",
      "Epoch 18/20\n",
      "147/147 [==============================] - 3s 21ms/step - loss: 0.6003 - accuracy: 0.8219 - val_loss: 1.3813 - val_accuracy: 0.6100\n",
      "Epoch 19/20\n",
      "147/147 [==============================] - 3s 20ms/step - loss: 0.6223 - accuracy: 0.8091 - val_loss: 0.7444 - val_accuracy: 0.7871\n",
      "Epoch 20/20\n",
      "147/147 [==============================] - 3s 20ms/step - loss: 0.5936 - accuracy: 0.8219 - val_loss: 0.7213 - val_accuracy: 0.8084\n",
      "temps d'entrainement : 60.468 secondes\n"
     ]
    }
   ],
   "source": [
    "cnn_batch_size = 16\n",
    "cnn_nb_epochs = 20\n",
    "\n",
    "start = time.time()\n",
    "\n",
    "history=cnn_20.fit(x_train_cnn[:nb_train_images_20,:], y_train[:nb_train_images_20,:].argmax(axis=1),\n",
    "                    validation_data=(x_val_cnn,y_val.argmax(axis=1)), batch_size=cnn_batch_size,epochs=cnn_nb_epochs, verbose=1)\n",
    "\n",
    "end = time.time()\n",
    "\n",
    "training_time_cnn_20 = end - start\n",
    "\n",
    "print('temps d\\'entrainement : {:.3f} secondes'.format(training_time_cnn_20))"
   ]
  },
  {
   "cell_type": "markdown",
   "id": "a2a46e0f",
   "metadata": {},
   "source": [
    "##### C- Phase de prédiction"
   ]
  },
  {
   "cell_type": "code",
   "execution_count": 99,
   "id": "3383951e",
   "metadata": {},
   "outputs": [
    {
     "name": "stdout",
     "output_type": "stream",
     "text": [
      "122/122 [==============================] - 1s 9ms/step\n",
      "temps de test : 1.309 secondes\n"
     ]
    }
   ],
   "source": [
    "start = time.time()\n",
    "\n",
    "y_pred_cnn_20 = cnn_20.predict(x_test_cnn)\n",
    "\n",
    "end = time.time()\n",
    "\n",
    "testing_time_cnn_20 = end - start\n",
    "\n",
    "print('temps de test : {:.3f} secondes'.format(testing_time_cnn_20))"
   ]
  },
  {
   "cell_type": "markdown",
   "id": "17127e2f",
   "metadata": {},
   "source": [
    "##### D- Évaluation"
   ]
  },
  {
   "cell_type": "code",
   "execution_count": 100,
   "id": "ebac3eb6",
   "metadata": {},
   "outputs": [
    {
     "name": "stdout",
     "output_type": "stream",
     "text": [
      "Accuracy: 0.797079 \n",
      "\n",
      "Precision: 0.801400 \n",
      "\n",
      "Recall: 0.784034 \n",
      "\n",
      "F1 score: 0.789540 \n",
      "\n"
     ]
    }
   ],
   "source": [
    "# accuracy: (tp + tn) / (fp + fn)\n",
    "accuracy_cnn_20 = accuracy_score(y_test.argmax(axis=1), y_pred_cnn_20.argmax(axis=1))\n",
    "print('Accuracy: %f' % accuracy_cnn_20, '\\n')\n",
    "# precision tp / (tp + fp)\n",
    "precision_cnn_20 = precision_score(y_test.argmax(axis=1), y_pred_cnn_20.argmax(axis=1), average='macro', zero_division=0)\n",
    "print('Precision: %f' % precision_cnn_20, '\\n')\n",
    "# recall: tp / (tp + fn)\n",
    "recall_cnn_20 = recall_score(y_test.argmax(axis=1), y_pred_cnn_20.argmax(axis=1), average='macro', zero_division=0)\n",
    "print('Recall: %f' % recall_cnn_20, '\\n')\n",
    "# f1: 2 tp / (2 tp + fp + fn)\n",
    "f1_cnn_20 = f1_score(y_test.argmax(axis=1), y_pred_cnn_20.argmax(axis=1), average='macro', zero_division=0)\n",
    "print('F1 score: %f' % f1_cnn_20, '\\n')"
   ]
  },
  {
   "attachments": {},
   "cell_type": "markdown",
   "id": "574c1b03",
   "metadata": {},
   "source": [
    "## Comparaison"
   ]
  },
  {
   "cell_type": "code",
   "execution_count": 101,
   "id": "b7fc9ad8",
   "metadata": {},
   "outputs": [
    {
     "name": "stdout",
     "output_type": "stream",
     "text": [
      "Defaulting to user installation because normal site-packages is not writeable\n",
      "Requirement already satisfied: prettytable in c:\\users\\damie\\appdata\\roaming\\python\\python310\\site-packages (3.6.0)\n",
      "Requirement already satisfied: wcwidth in c:\\users\\damie\\appdata\\roaming\\python\\python310\\site-packages (from prettytable) (0.2.5)\n",
      "Note: you may need to restart the kernel to use updated packages.\n"
     ]
    },
    {
     "name": "stderr",
     "output_type": "stream",
     "text": [
      "\n",
      "[notice] A new release of pip is available: 23.0 -> 23.0.1\n",
      "[notice] To update, run: python.exe -m pip install --upgrade pip\n"
     ]
    }
   ],
   "source": [
    "%pip install prettytable\n",
    "\n",
    "from prettytable import PrettyTable"
   ]
  },
  {
   "cell_type": "code",
   "execution_count": 102,
   "id": "633350f0",
   "metadata": {},
   "outputs": [
    {
     "name": "stdout",
     "output_type": "stream",
     "text": [
      "+--------------------+------------------+-----------------+-----------------------+-----------------------+\n",
      "|             result |              KNN |             SVM |                    NN |                   CNN |\n",
      "+--------------------+------------------+-----------------+-----------------------+-----------------------+\n",
      "| hyperparameters :  | n_neightbors : 1 | kernel : linear | learning_rate : 1e-06 | learning_rate : 1e-11 |\n",
      "|                    |                  |                 |       batch size : 20 |       batch size : 16 |\n",
      "|                    |                  |                 |           epochs : 20 |           epochs : 20 |\n",
      "|                    |                  |                 |                       |                       |\n",
      "|   training time :  |            0.040 |          62.655 |               129.263 |               198.394 |\n",
      "|    testing time :  |            2.298 |          11.685 |                 0.812 |                 1.440 |\n",
      "|        accuracy :  |            0.931 |           0.936 |                 0.637 |                 0.818 |\n",
      "|       precision :  |            0.819 |           0.938 |                 0.590 |                 0.857 |\n",
      "|          recall :  |            0.806 |           0.936 |                 0.564 |                 0.816 |\n",
      "|        f1_score :  |            0.812 |           0.937 |                 0.552 |                 0.825 |\n",
      "+--------------------+------------------+-----------------+-----------------------+-----------------------+\n"
     ]
    }
   ],
   "source": [
    "t = PrettyTable(['result','KNN','SVM','NN','CNN'])\n",
    "\n",
    "knn_hp = 'n_neightbors : {}'.format(knn_n_neighbors)\n",
    "svm_hp = 'kernel : {}'.format(svm_kernel)\n",
    "nn_hp = 'learning_rate : {}\\nbatch size : {}\\nepochs : {}\\n'.format(nn_learning_rate,nn_batch_size,nn_nb_epochs)\n",
    "cnn_hp = 'learning_rate : {}\\nbatch size : {}\\nepochs : {}\\n'.format(cnn_learning_rate,cnn_batch_size,cnn_nb_epochs)\n",
    "\n",
    "\n",
    "t.add_row(['hyperparameters : ',knn_hp,svm_hp,nn_hp,cnn_hp])\n",
    "t.add_row(['training time : ',training_time_knn,training_time_svm,training_time_nn,training_time_cnn])\n",
    "t.add_row(['testing time : ',testing_time_knn,testing_time_svm,testing_time_nn,testing_time_cnn])\n",
    "t.add_row(['accuracy : ',accuracy_knn,accuracy_svm,accuracy_nn,accuracy_cnn])\n",
    "t.add_row(['precision : ',precision_knn,precision_svm,precision_nn,precision_cnn])\n",
    "t.add_row(['recall : ',recall_knn,recall_svm,recall_nn,recall_cnn])\n",
    "t.add_row(['f1_score : ',f1_knn,f1_svm,f1_nn,f1_cnn])\n",
    "t.align = 'r'\n",
    "t.float_format = '.3'\n",
    "print(t)"
   ]
  },
  {
   "cell_type": "code",
   "execution_count": 103,
   "id": "92bd5bcc",
   "metadata": {},
   "outputs": [
    {
     "name": "stdout",
     "output_type": "stream",
     "text": [
      "+---------------------------------+------------------+-----------------+-----------------------+-----------------------+\n",
      "| result for 80% of training data |              KNN |             SVM |                    NN |                   CNN |\n",
      "+---------------------------------+------------------+-----------------+-----------------------+-----------------------+\n",
      "|              hyperparameters :  | n_neightbors : 1 | kernel : linear | learning_rate : 1e-06 | learning_rate : 1e-11 |\n",
      "|                                 |                  |                 |       batch size : 20 |       batch size : 16 |\n",
      "|                                 |                  |                 |           epochs : 20 |           epochs : 20 |\n",
      "|                                 |                  |                 |                       |                       |\n",
      "|                training time :  |            0.023 |          26.198 |               106.948 |               169.247 |\n",
      "|                 testing time :  |            1.857 |           8.151 |                 0.748 |                 1.411 |\n",
      "|                     accuracy :  |            0.910 |           0.925 |                 0.611 |                 0.874 |\n",
      "|                    precision :  |            0.803 |           0.925 |                 0.601 |                 0.884 |\n",
      "|                       recall :  |            0.785 |           0.925 |                 0.535 |                 0.863 |\n",
      "|                     f1_score :  |            0.793 |           0.924 |                 0.533 |                 0.868 |\n",
      "+---------------------------------+------------------+-----------------+-----------------------+-----------------------+\n"
     ]
    }
   ],
   "source": [
    "t_80 = PrettyTable(['result for 80% of training data','KNN','SVM','NN','CNN'])\n",
    "\n",
    "t_80.add_row(['hyperparameters : ',knn_hp,svm_hp,nn_hp,cnn_hp])\n",
    "t_80.add_row(['training time : ',training_time_knn_80,training_time_svm_80,training_time_nn_80,training_time_cnn_80])\n",
    "t_80.add_row(['testing time : ',testing_time_knn_80,testing_time_svm_80,testing_time_nn_80,testing_time_cnn_80])\n",
    "t_80.add_row(['accuracy : ',accuracy_knn_80,accuracy_svm_80,accuracy_nn_80,accuracy_cnn_80])\n",
    "t_80.add_row(['precision : ',precision_knn_80,precision_svm_80,precision_nn_80,precision_cnn_80])\n",
    "t_80.add_row(['recall : ',recall_knn_80,recall_svm_80,recall_nn_80,recall_cnn_80])\n",
    "t_80.add_row(['f1_score : ',f1_knn_80,f1_svm_80,f1_nn_80,f1_cnn_80])\n",
    "t_80.align = 'r'\n",
    "t_80.float_format = '.3'\n",
    "print(t_80)"
   ]
  },
  {
   "cell_type": "code",
   "execution_count": 104,
   "id": "677ebd32",
   "metadata": {},
   "outputs": [
    {
     "name": "stdout",
     "output_type": "stream",
     "text": [
      "+---------------------------------+------------------+-----------------+-----------------------+-----------------------+\n",
      "| result for 60% of training data |              KNN |             SVM |                    NN |                   CNN |\n",
      "+---------------------------------+------------------+-----------------+-----------------------+-----------------------+\n",
      "|              hyperparameters :  | n_neightbors : 1 | kernel : linear | learning_rate : 1e-06 | learning_rate : 1e-11 |\n",
      "|                                 |                  |                 |       batch size : 20 |       batch size : 16 |\n",
      "|                                 |                  |                 |           epochs : 20 |           epochs : 20 |\n",
      "|                                 |                  |                 |                       |                       |\n",
      "|                training time :  |            0.016 |          17.402 |                82.473 |               133.488 |\n",
      "|                 testing time :  |            1.360 |           6.601 |                 0.778 |                 1.442 |\n",
      "|                     accuracy :  |            0.894 |           0.910 |                 0.549 |                 0.869 |\n",
      "|                    precision :  |            0.793 |           0.910 |                 0.589 |                 0.885 |\n",
      "|                       recall :  |            0.771 |           0.908 |                 0.462 |                 0.857 |\n",
      "|                     f1_score :  |            0.780 |           0.908 |                 0.457 |                 0.865 |\n",
      "+---------------------------------+------------------+-----------------+-----------------------+-----------------------+\n"
     ]
    }
   ],
   "source": [
    "t_60 = PrettyTable(['result for 60% of training data','KNN','SVM','NN','CNN'])\n",
    "\n",
    "t_60.add_row(['hyperparameters : ',knn_hp,svm_hp,nn_hp,cnn_hp])\n",
    "t_60.add_row(['training time : ',training_time_knn_60,training_time_svm_60,training_time_nn_60,training_time_cnn_60])\n",
    "t_60.add_row(['testing time : ',testing_time_knn_60,testing_time_svm_60,testing_time_nn_60,testing_time_cnn_60])\n",
    "t_60.add_row(['accuracy : ',accuracy_knn_60,accuracy_svm_60,accuracy_nn_60,accuracy_cnn_60])\n",
    "t_60.add_row(['precision : ',precision_knn_60,precision_svm_60,precision_nn_60,precision_cnn_60])\n",
    "t_60.add_row(['recall : ',recall_knn_60,recall_svm_60,recall_nn_60,recall_cnn_60])\n",
    "t_60.add_row(['f1_score : ',f1_knn_60,f1_svm_60,f1_nn_60,f1_cnn_60])\n",
    "t_60.align = 'r'\n",
    "t_60.float_format = '.3'\n",
    "print(t_60)"
   ]
  },
  {
   "cell_type": "code",
   "execution_count": 105,
   "id": "804a07bd",
   "metadata": {},
   "outputs": [
    {
     "name": "stdout",
     "output_type": "stream",
     "text": [
      "+---------------------------------+------------------+-----------------+-----------------------+-----------------------+\n",
      "| result for 40% of training data |              KNN |             SVM |                    NN |                   CNN |\n",
      "+---------------------------------+------------------+-----------------+-----------------------+-----------------------+\n",
      "|              hyperparameters :  | n_neightbors : 1 | kernel : linear | learning_rate : 1e-06 | learning_rate : 1e-11 |\n",
      "|                                 |                  |                 |       batch size : 20 |       batch size : 16 |\n",
      "|                                 |                  |                 |           epochs : 20 |           epochs : 20 |\n",
      "|                                 |                  |                 |                       |                       |\n",
      "|                training time :  |            0.014 |           8.439 |                59.446 |                93.591 |\n",
      "|                 testing time :  |            1.173 |           5.246 |                 0.729 |                 1.352 |\n",
      "|                     accuracy :  |            0.869 |           0.904 |                 0.460 |                 0.795 |\n",
      "|                    precision :  |            0.771 |           0.906 |                 0.506 |                 0.834 |\n",
      "|                       recall :  |            0.744 |           0.901 |                 0.370 |                 0.785 |\n",
      "|                     f1_score :  |            0.754 |           0.903 |                 0.352 |                 0.793 |\n",
      "+---------------------------------+------------------+-----------------+-----------------------+-----------------------+\n"
     ]
    }
   ],
   "source": [
    "t_40 = PrettyTable(['result for 40% of training data','KNN','SVM','NN','CNN'])\n",
    "\n",
    "t_40.add_row(['hyperparameters : ',knn_hp,svm_hp,nn_hp,cnn_hp])\n",
    "t_40.add_row(['training time : ',training_time_knn_40,training_time_svm_40,training_time_nn_40,training_time_cnn_40])\n",
    "t_40.add_row(['testing time : ',testing_time_knn_40,testing_time_svm_40,testing_time_nn_40,testing_time_cnn_40])\n",
    "t_40.add_row(['accuracy : ',accuracy_knn_40,accuracy_svm_40,accuracy_nn_40,accuracy_cnn_40])\n",
    "t_40.add_row(['precision : ',precision_knn_40,precision_svm_40,precision_nn_40,precision_cnn_40])\n",
    "t_40.add_row(['recall : ',recall_knn_40,recall_svm_40,recall_nn_40,recall_cnn_40])\n",
    "t_40.add_row(['f1_score : ',f1_knn_40,f1_svm_40,f1_nn_40,f1_cnn_40])\n",
    "t_40.align = 'r'\n",
    "t_40.float_format = '.3'\n",
    "print(t_40)"
   ]
  },
  {
   "cell_type": "code",
   "execution_count": 106,
   "id": "bef70fd9",
   "metadata": {},
   "outputs": [
    {
     "name": "stdout",
     "output_type": "stream",
     "text": [
      "+---------------------------------+------------------+-----------------+-----------------------+-----------------------+\n",
      "| result for 20% of training data |              KNN |             SVM |                    NN |                   CNN |\n",
      "+---------------------------------+------------------+-----------------+-----------------------+-----------------------+\n",
      "|              hyperparameters :  | n_neightbors : 1 | kernel : linear | learning_rate : 1e-06 | learning_rate : 1e-11 |\n",
      "|                                 |                  |                 |       batch size : 20 |       batch size : 16 |\n",
      "|                                 |                  |                 |           epochs : 20 |           epochs : 20 |\n",
      "|                                 |                  |                 |                       |                       |\n",
      "|                training time :  |            0.018 |           2.883 |                38.365 |                60.468 |\n",
      "|                 testing time :  |            0.882 |           3.450 |                 0.812 |                 1.309 |\n",
      "|                     accuracy :  |            0.804 |           0.873 |                 0.416 |                 0.797 |\n",
      "|                    precision :  |            0.719 |           0.875 |                 0.416 |                 0.801 |\n",
      "|                       recall :  |            0.683 |           0.867 |                 0.323 |                 0.784 |\n",
      "|                     f1_score :  |            0.696 |           0.870 |                 0.294 |                 0.790 |\n",
      "+---------------------------------+------------------+-----------------+-----------------------+-----------------------+\n"
     ]
    }
   ],
   "source": [
    "t_20 = PrettyTable(['result for 20% of training data','KNN','SVM','NN','CNN'])\n",
    "\n",
    "t_20.add_row(['hyperparameters : ',knn_hp,svm_hp,nn_hp,cnn_hp])\n",
    "t_20.add_row(['training time : ',training_time_knn_20,training_time_svm_20,training_time_nn_20,training_time_cnn_20])\n",
    "t_20.add_row(['testing time : ',testing_time_knn_20,testing_time_svm_20,testing_time_nn_20,testing_time_cnn_20])\n",
    "t_20.add_row(['accuracy : ',accuracy_knn_20,accuracy_svm_20,accuracy_nn_20,accuracy_cnn_20])\n",
    "t_20.add_row(['precision : ',precision_knn_20,precision_svm_20,precision_nn_20,precision_cnn_20])\n",
    "t_20.add_row(['recall : ',recall_knn_20,recall_svm_20,recall_nn_20,recall_cnn_20])\n",
    "t_20.add_row(['f1_score : ',f1_knn_20,f1_svm_20,f1_nn_20,f1_cnn_20])\n",
    "t_20.align = 'r'\n",
    "t_20.float_format = '.3'\n",
    "print(t_20)"
   ]
  }
 ],
 "metadata": {
  "kernelspec": {
   "display_name": "Python 3",
   "language": "python",
   "name": "python3"
  },
  "language_info": {
   "codemirror_mode": {
    "name": "ipython",
    "version": 3
   },
   "file_extension": ".py",
   "mimetype": "text/x-python",
   "name": "python",
   "nbconvert_exporter": "python",
   "pygments_lexer": "ipython3",
   "version": "3.10.7"
  },
  "vscode": {
   "interpreter": {
    "hash": "26de051ba29f2982a8de78e945f0abaf191376122a1563185a90213a26c5da77"
   }
  }
 },
 "nbformat": 4,
 "nbformat_minor": 5
}
